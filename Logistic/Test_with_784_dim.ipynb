{
 "cells": [
  {
   "cell_type": "markdown",
   "metadata": {},
   "source": [
    "Chức năng của File: Huấn luyện mô hình trên các tập dữ liệu giữ nguyên chiều có tỷ lệ train/validation khác nhau, không áp dụng hiệu chỉnh L2 và tính toán các chỉ số trên tập validation."
   ]
  },
  {
   "cell_type": "code",
   "execution_count": 15,
   "metadata": {
    "id": "wcq7krisru39"
   },
   "outputs": [],
   "source": [
    "import pandas as pd\n",
    "import numpy as np\n",
    "import matplotlib.pyplot as plt\n",
    "import os\n",
    "from sklearn.model_selection import train_test_split, cross_val_score, GridSearchCV\n",
    "import time\n",
    "import seaborn as sns\n",
    "from sklearn.decomposition import PCA\n",
    "import tensorflow as tf\n",
    "from sklearn.metrics import accuracy_score, precision_score, recall_score, confusion_matrix, classification_report\n",
    "from sklearn.linear_model import LogisticRegression\n",
    "import joblib"
   ]
  },
  {
   "cell_type": "code",
   "execution_count": 13,
   "metadata": {
    "colab": {
     "base_uri": "https://localhost:8080/"
    },
    "id": "ZC7I-halr7rB",
    "outputId": "2937cb40-407e-493d-b760-6c71540dae0d"
   },
   "outputs": [],
   "source": [
    "fashion_mnist = tf.keras.datasets.fashion_mnist\n",
    "(X, y), (X_test, y_test) = fashion_mnist.load_data()\n",
    "\n",
    "X = X.reshape(X.shape[0], -1)\n",
    "X = X.astype('float32') / 255.0\n",
    "\n",
    "X_test = X_test.reshape(X_test.shape[0], -1)\n",
    "X_test = X_test.astype('float32') / 255.0"
   ]
  },
  {
   "cell_type": "code",
   "execution_count": 17,
   "metadata": {
    "id": "v8Kgw7R2r_C1"
   },
   "outputs": [],
   "source": [
    "fashion_mnist_labels = [\n",
    "    \"T-shirt/top\", \"Trouser\", \"Pullover\", \"Dress\", \"Coat\",\n",
    "    \"Sandal\", \"Shirt\", \"Sneaker\", \"Bag\", \"Ankle boot\"\n",
    "]"
   ]
  },
  {
   "cell_type": "code",
   "execution_count": 19,
   "metadata": {
    "id": "SF_u5IYLsACd"
   },
   "outputs": [],
   "source": [
    "def evaluate(y_true, y_pred, data_set_name):\n",
    "\n",
    "  print(f'----------------{data_set_name}----------------')\n",
    "  accuracy_logReg = accuracy_score(y_true, y_pred)\n",
    "  print(f'Accuracy: {accuracy_logReg:.3f}')\n",
    "\n",
    "  precision_logReg = precision_score(y_true, y_pred, average='weighted')\n",
    "  print(f'Precision: {precision_logReg:.3f}')\n",
    "\n",
    "  recall_logReg = recall_score(y_true, y_pred, average='weighted')\n",
    "  print(f'Recall: {recall_logReg:.3f}')\n",
    "\n",
    "  confusion_matrix_logReg = confusion_matrix(y_true, y_pred)\n",
    "  print('Confusion Matrix:\\n', confusion_matrix_logReg)\n",
    "\n",
    "  print(classification_report(y_true, y_pred, target_names=fashion_mnist_labels))\n",
    "\n",
    "def create_data(X, y, X_test, n_components=100, test_size=0.2):\n",
    "    X_train, X_val, y_train, y_val = train_test_split(X, y, test_size=test_size, random_state=42, stratify=y)\n",
    "\n",
    "    if n_components < 100:\n",
    "        pca = PCA(n_components=n_components)\n",
    "        X_train = pca.fit_transform(X_train)\n",
    "        X_val = pca.transform(X_val)\n",
    "        X_test = pca.transform(X_test)\n",
    "    return X_train, X_val, y_train, y_val, X_test\n",
    "\n",
    "def train_predict_evaluate_each_parameter(X_train, y_train, X_test, y_test, solver='lbfgs', max_iter=10000, penalty=None, tol=1e-4, verbose=0, C=1):\n",
    "\n",
    "  model_logReg = LogisticRegression(multi_class='multinomial', solver=solver, max_iter=max_iter, penalty=penalty, tol=tol, verbose=verbose, C=C, n_jobs=-1)\n",
    "  model_logReg.fit(X_train, y_train)\n",
    "\n",
    "  y_pred_training = model_logReg.predict(X_train)\n",
    "  evaluate(y_train, y_pred_training, 'Trainning set')\n",
    "\n",
    "  y_pred_testing = model_logReg.predict(X_test)\n",
    "  evaluate(y_test, y_pred_testing, 'Validation set')"
   ]
  },
  {
   "cell_type": "markdown",
   "metadata": {
    "id": "__xSQErNUr_-"
   },
   "source": [
    "***Không sử dụng hiệu chỉnh L2***"
   ]
  },
  {
   "cell_type": "markdown",
   "metadata": {
    "id": "ISVPJMDARraO"
   },
   "source": [
    "Ty le 4/1"
   ]
  },
  {
   "cell_type": "code",
   "execution_count": 21,
   "metadata": {
    "colab": {
     "base_uri": "https://localhost:8080/"
    },
    "id": "p1_49FplsCwF",
    "outputId": "764c46dc-ba7f-488f-de4d-3726c7fea533"
   },
   "outputs": [
    {
     "data": {
      "text/plain": [
       "((48000, 784), (12000, 784), (10000, 784))"
      ]
     },
     "execution_count": 21,
     "metadata": {},
     "output_type": "execute_result"
    }
   ],
   "source": [
    "# Với tỷ lệ train/validation : 4/1\n",
    "X_train, X_val, y_train, y_val, X_test = create_data(X=X, y=y, X_test=X_test, n_components=100, test_size=0.2)\n",
    "X_train.shape, X_val.shape, X_test.shape"
   ]
  },
  {
   "cell_type": "code",
   "execution_count": 23,
   "metadata": {
    "colab": {
     "base_uri": "https://localhost:8080/"
    },
    "collapsed": true,
    "id": "js6ClpmNQ7R2",
    "jupyter": {
     "outputs_hidden": true
    },
    "outputId": "1d76142a-4eb0-4413-ca1a-3ed5286f4d8f"
   },
   "outputs": [
    {
     "name": "stderr",
     "output_type": "stream",
     "text": [
      "C:\\Users\\Administrator\\anaconda3\\Lib\\site-packages\\sklearn\\linear_model\\_logistic.py:1247: FutureWarning: 'multi_class' was deprecated in version 1.5 and will be removed in 1.7. From then on, it will always use 'multinomial'. Leave it to its default value to avoid this warning.\n",
      "  warnings.warn(\n"
     ]
    },
    {
     "name": "stdout",
     "output_type": "stream",
     "text": [
      "----------------Trainning set----------------\n",
      "Accuracy: 0.889\n",
      "Precision: 0.888\n",
      "Recall: 0.889\n",
      "Confusion Matrix:\n",
      " [[4106    9   66  177   21    1  382    0   38    0]\n",
      " [   2 4722    5   60    6    0    5    0    0    0]\n",
      " [  59    3 3766   35  531    0  390    0   16    0]\n",
      " [ 127   28   35 4383  115    0   97    0   15    0]\n",
      " [  21    3  372  117 3940    0  332    0   15    0]\n",
      " [   0    0    0    0    0 4666    0  118    0   16]\n",
      " [ 607    7  485  131  386    0 3129    0   55    0]\n",
      " [   0    0    0    0    0  112    0 4593    1   94]\n",
      " [  14    1   12   18    7    0   49    2 4697    0]\n",
      " [   0    0    0    0    0   25    0  123    0 4652]]\n",
      "              precision    recall  f1-score   support\n",
      "\n",
      " T-shirt/top       0.83      0.86      0.84      4800\n",
      "     Trouser       0.99      0.98      0.99      4800\n",
      "    Pullover       0.79      0.78      0.79      4800\n",
      "       Dress       0.89      0.91      0.90      4800\n",
      "        Coat       0.79      0.82      0.80      4800\n",
      "      Sandal       0.97      0.97      0.97      4800\n",
      "       Shirt       0.71      0.65      0.68      4800\n",
      "     Sneaker       0.95      0.96      0.95      4800\n",
      "         Bag       0.97      0.98      0.97      4800\n",
      "  Ankle boot       0.98      0.97      0.97      4800\n",
      "\n",
      "    accuracy                           0.89     48000\n",
      "   macro avg       0.89      0.89      0.89     48000\n",
      "weighted avg       0.89      0.89      0.89     48000\n",
      "\n",
      "----------------Validation set----------------\n",
      "Accuracy: 0.850\n",
      "Precision: 0.849\n",
      "Recall: 0.850\n",
      "Confusion Matrix:\n",
      " [[ 996    7   23   39    8    1  103    1   22    0]\n",
      " [   5 1155    6   26    2    1    4    0    0    1]\n",
      " [  22    6  903   20  130    0  109    0   10    0]\n",
      " [  51   30   13 1025   39    0   37    0    5    0]\n",
      " [   3    1  104   43  925    0  106    0   17    1]\n",
      " [   0    0    0    1    0 1120    1   43    6   29]\n",
      " [ 169    9  115   43  112    0  728    0   24    0]\n",
      " [   0    1    0    0    0   49    0 1107    3   40]\n",
      " [   5    2   13   12    4   10   37    5 1110    2]\n",
      " [   0    1    0    0    0   20    0   41    2 1136]]\n",
      "              precision    recall  f1-score   support\n",
      "\n",
      " T-shirt/top       0.80      0.83      0.81      1200\n",
      "     Trouser       0.95      0.96      0.96      1200\n",
      "    Pullover       0.77      0.75      0.76      1200\n",
      "       Dress       0.85      0.85      0.85      1200\n",
      "        Coat       0.76      0.77      0.76      1200\n",
      "      Sandal       0.93      0.93      0.93      1200\n",
      "       Shirt       0.65      0.61      0.63      1200\n",
      "     Sneaker       0.92      0.92      0.92      1200\n",
      "         Bag       0.93      0.93      0.93      1200\n",
      "  Ankle boot       0.94      0.95      0.94      1200\n",
      "\n",
      "    accuracy                           0.85     12000\n",
      "   macro avg       0.85      0.85      0.85     12000\n",
      "weighted avg       0.85      0.85      0.85     12000\n",
      "\n"
     ]
    }
   ],
   "source": [
    "# solver 'lbfgs' voi ty le 4/1\n",
    "train_predict_evaluate_each_parameter(X_train, y_train, X_val, y_val, solver='lbfgs', verbose=0)"
   ]
  },
  {
   "cell_type": "code",
   "execution_count": null,
   "metadata": {
    "colab": {
     "base_uri": "https://localhost:8080/"
    },
    "collapsed": true,
    "id": "rRDS02zsRbkm",
    "jupyter": {
     "outputs_hidden": true
    },
    "outputId": "273d339e-21b4-4ec0-b4bf-ecf384c8c7ce"
   },
   "outputs": [
    {
     "name": "stderr",
     "output_type": "stream",
     "text": [
      "/usr/local/lib/python3.10/dist-packages/sklearn/linear_model/_logistic.py:1247: FutureWarning: 'multi_class' was deprecated in version 1.5 and will be removed in 1.7. From then on, it will always use 'multinomial'. Leave it to its default value to avoid this warning.\n",
      "  warnings.warn(\n"
     ]
    },
    {
     "name": "stdout",
     "output_type": "stream",
     "text": [
      "convergence after 1029 epochs took 2344 seconds\n",
      "----------------Trainning set----------------\n",
      "Accuracy: 0.885\n",
      "Precision: 0.884\n",
      "Recall: 0.885\n",
      "Confusion Matrix:\n",
      " [[4100   12   70  178   16    4  378    0   41    1]\n",
      " [   5 4705    5   69    6    0    8    0    2    0]\n",
      " [  66    6 3773   33  526    0  376    0   20    0]\n",
      " [ 135   27   32 4367  118    0  105    0   16    0]\n",
      " [  20    3  382  120 3926    0  337    0   12    0]\n",
      " [   0    0    0    0    0 4636    0  132    5   27]\n",
      " [ 630    6  496  136  381    0 3098    0   52    1]\n",
      " [   0    0    0    0    0  115    0 4570    4  111]\n",
      " [  17    3   16   21   11    9   54   10 4658    1]\n",
      " [   0    0    0    0    0   37    0  131    5 4627]]\n",
      "              precision    recall  f1-score   support\n",
      "\n",
      " T-shirt/top       0.82      0.85      0.84      4800\n",
      "     Trouser       0.99      0.98      0.98      4800\n",
      "    Pullover       0.79      0.79      0.79      4800\n",
      "       Dress       0.89      0.91      0.90      4800\n",
      "        Coat       0.79      0.82      0.80      4800\n",
      "      Sandal       0.97      0.97      0.97      4800\n",
      "       Shirt       0.71      0.65      0.68      4800\n",
      "     Sneaker       0.94      0.95      0.95      4800\n",
      "         Bag       0.97      0.97      0.97      4800\n",
      "  Ankle boot       0.97      0.96      0.97      4800\n",
      "\n",
      "    accuracy                           0.88     48000\n",
      "   macro avg       0.88      0.88      0.88     48000\n",
      "weighted avg       0.88      0.88      0.88     48000\n",
      "\n",
      "----------------Testing set----------------\n",
      "Accuracy: 0.859\n",
      "Precision: 0.858\n",
      "Recall: 0.859\n",
      "Confusion Matrix:\n",
      " [[1007    4   24   42    6    1   96    1   19    0]\n",
      " [   3 1157    4   28    2    1    4    0    1    0]\n",
      " [  21    3  910   19  130    0  109    0    8    0]\n",
      " [  56   21   13 1030   41    0   34    0    5    0]\n",
      " [   3    0  102   46  935    0  101    0   12    1]\n",
      " [   1    0    0    1    0 1132    1   35    4   26]\n",
      " [ 170    6  115   36  118    0  738    0   17    0]\n",
      " [   0    0    0    0    0   40    0 1122    1   37]\n",
      " [   1    1    8   11    1    9   30    5 1134    0]\n",
      " [   0    0    0    0    0   15    0   41    1 1143]]\n",
      "              precision    recall  f1-score   support\n",
      "\n",
      " T-shirt/top       0.80      0.84      0.82      1200\n",
      "     Trouser       0.97      0.96      0.97      1200\n",
      "    Pullover       0.77      0.76      0.77      1200\n",
      "       Dress       0.85      0.86      0.85      1200\n",
      "        Coat       0.76      0.78      0.77      1200\n",
      "      Sandal       0.94      0.94      0.94      1200\n",
      "       Shirt       0.66      0.61      0.64      1200\n",
      "     Sneaker       0.93      0.94      0.93      1200\n",
      "         Bag       0.94      0.94      0.94      1200\n",
      "  Ankle boot       0.95      0.95      0.95      1200\n",
      "\n",
      "    accuracy                           0.86     12000\n",
      "   macro avg       0.86      0.86      0.86     12000\n",
      "weighted avg       0.86      0.86      0.86     12000\n",
      "\n"
     ]
    }
   ],
   "source": [
    "# solver 'saga' voi ty le 4/1\n",
    "train_predict_evaluate_each_parameter(X_train, y_train, X_val, y_val, solver='saga', verbose=1)"
   ]
  },
  {
   "cell_type": "code",
   "execution_count": null,
   "metadata": {
    "colab": {
     "base_uri": "https://localhost:8080/"
    },
    "collapsed": true,
    "id": "zGbx243v-o-p",
    "jupyter": {
     "outputs_hidden": true
    },
    "outputId": "c07aca94-2d15-4533-c90e-888cee412d06"
   },
   "outputs": [
    {
     "name": "stderr",
     "output_type": "stream",
     "text": [
      "/usr/local/lib/python3.10/dist-packages/sklearn/linear_model/_logistic.py:1247: FutureWarning: 'multi_class' was deprecated in version 1.5 and will be removed in 1.7. From then on, it will always use 'multinomial'. Leave it to its default value to avoid this warning.\n",
      "  warnings.warn(\n"
     ]
    },
    {
     "name": "stdout",
     "output_type": "stream",
     "text": [
      "convergence after 946 epochs took 1639 seconds\n",
      "----------------Trainning set----------------\n",
      "Accuracy: 0.887\n",
      "Precision: 0.886\n",
      "Recall: 0.887\n",
      "Confusion Matrix:\n",
      " [[4104   10   70  179   19    3  375    0   40    0]\n",
      " [   3 4716    6   62    6    0    6    0    1    0]\n",
      " [  60    7 3773   33  526    0  382    0   19    0]\n",
      " [ 133   26   32 4377  118    0  101    0   13    0]\n",
      " [  21    3  386  116 3925    0  337    0   12    0]\n",
      " [   0    0    0    0    0 4653    0  122    1   24]\n",
      " [ 622    5  491  133  385    0 3114    0   49    1]\n",
      " [   0    0    0    0    0  110    0 4582    4  104]\n",
      " [  15    2   15   21   10    3   50    7 4676    1]\n",
      " [   0    0    0    0    0   29    0  131    2 4638]]\n",
      "              precision    recall  f1-score   support\n",
      "\n",
      " T-shirt/top       0.83      0.85      0.84      4800\n",
      "     Trouser       0.99      0.98      0.99      4800\n",
      "    Pullover       0.79      0.79      0.79      4800\n",
      "       Dress       0.89      0.91      0.90      4800\n",
      "        Coat       0.79      0.82      0.80      4800\n",
      "      Sandal       0.97      0.97      0.97      4800\n",
      "       Shirt       0.71      0.65      0.68      4800\n",
      "     Sneaker       0.95      0.95      0.95      4800\n",
      "         Bag       0.97      0.97      0.97      4800\n",
      "  Ankle boot       0.97      0.97      0.97      4800\n",
      "\n",
      "    accuracy                           0.89     48000\n",
      "   macro avg       0.89      0.89      0.89     48000\n",
      "weighted avg       0.89      0.89      0.89     48000\n",
      "\n",
      "----------------Validation set----------------\n",
      "Accuracy: 0.858\n",
      "Precision: 0.857\n",
      "Recall: 0.858\n",
      "Confusion Matrix:\n",
      " [[ 998    5   24   44    7    1  100    1   20    0]\n",
      " [   4 1158    4   26    2    1    4    0    0    1]\n",
      " [  22    4  908   18  130    0  108    0   10    0]\n",
      " [  55   22   13 1028   40    0   37    0    5    0]\n",
      " [   3    0  103   42  935    0  102    0   14    1]\n",
      " [   1    0    0    0    0 1135    1   34    4   25]\n",
      " [ 171    6  115   40  116    0  734    0   18    0]\n",
      " [   0    0    0    0    0   40    0 1122    2   36]\n",
      " [   2    1   11   10    1    9   30    7 1128    1]\n",
      " [   0    0    0    0    0   13    0   41    1 1145]]\n",
      "              precision    recall  f1-score   support\n",
      "\n",
      " T-shirt/top       0.79      0.83      0.81      1200\n",
      "     Trouser       0.97      0.96      0.97      1200\n",
      "    Pullover       0.77      0.76      0.76      1200\n",
      "       Dress       0.85      0.86      0.85      1200\n",
      "        Coat       0.76      0.78      0.77      1200\n",
      "      Sandal       0.95      0.95      0.95      1200\n",
      "       Shirt       0.66      0.61      0.63      1200\n",
      "     Sneaker       0.93      0.94      0.93      1200\n",
      "         Bag       0.94      0.94      0.94      1200\n",
      "  Ankle boot       0.95      0.95      0.95      1200\n",
      "\n",
      "    accuracy                           0.86     12000\n",
      "   macro avg       0.86      0.86      0.86     12000\n",
      "weighted avg       0.86      0.86      0.86     12000\n",
      "\n"
     ]
    }
   ],
   "source": [
    "# solver 'sag' voi ty le 4/1\n",
    "train_predict_evaluate_each_parameter(X_train, y_train, X_val, y_val, solver='sag', verbose=1)"
   ]
  },
  {
   "cell_type": "markdown",
   "metadata": {
    "id": "7kj47bugSVOn"
   },
   "source": [
    "Ty le 7/3"
   ]
  },
  {
   "cell_type": "code",
   "execution_count": 29,
   "metadata": {
    "colab": {
     "base_uri": "https://localhost:8080/"
    },
    "id": "yWw4XnDhSWtz",
    "outputId": "b0b60280-bd34-4867-cc22-549685039f32"
   },
   "outputs": [
    {
     "data": {
      "text/plain": [
       "((42000, 784), (18000, 784), (10000, 784))"
      ]
     },
     "execution_count": 29,
     "metadata": {},
     "output_type": "execute_result"
    }
   ],
   "source": [
    "# Với tỷ lệ train/validation : 7/3\n",
    "X_train1, X_val1, y_train1, y_val1, X_test1 = create_data(X=X, y=y, X_test=X_test, n_components=100, test_size=0.3)\n",
    "X_train1.shape, X_val1.shape, X_test1.shape"
   ]
  },
  {
   "cell_type": "code",
   "execution_count": 32,
   "metadata": {
    "collapsed": true,
    "id": "_ILGuOq-Svp5",
    "jupyter": {
     "outputs_hidden": true
    }
   },
   "outputs": [
    {
     "name": "stderr",
     "output_type": "stream",
     "text": [
      "C:\\Users\\Administrator\\anaconda3\\Lib\\site-packages\\sklearn\\linear_model\\_logistic.py:1247: FutureWarning: 'multi_class' was deprecated in version 1.5 and will be removed in 1.7. From then on, it will always use 'multinomial'. Leave it to its default value to avoid this warning.\n",
      "  warnings.warn(\n",
      "[Parallel(n_jobs=-1)]: Using backend LokyBackend with 8 concurrent workers.\n"
     ]
    },
    {
     "name": "stdout",
     "output_type": "stream",
     "text": [
      "----------------Trainning set----------------\n",
      "Accuracy: 0.892\n",
      "Precision: 0.891\n",
      "Recall: 0.892\n",
      "Confusion Matrix:\n",
      " [[3607    6   65  144   19    1  330    0   28    0]\n",
      " [   1 4147    1   41    5    0    5    0    0    0]\n",
      " [  51    1 3317   34  439    0  341    0   17    0]\n",
      " [ 107   18   30 3858  102    0   76    0    9    0]\n",
      " [  19    2  316  109 3448    0  293    0   13    0]\n",
      " [   0    0    0    0    0 4096    0   95    0    9]\n",
      " [ 510    5  427  123  337    0 2757    0   41    0]\n",
      " [   0    0    0    0    0   96    0 4031    1   72]\n",
      " [   9    0    9   11   11    0   36    1 4123    0]\n",
      " [   0    0    0    0    0   13    0   99    0 4088]]\n",
      "              precision    recall  f1-score   support\n",
      "\n",
      " T-shirt/top       0.84      0.86      0.85      4200\n",
      "     Trouser       0.99      0.99      0.99      4200\n",
      "    Pullover       0.80      0.79      0.79      4200\n",
      "       Dress       0.89      0.92      0.91      4200\n",
      "        Coat       0.79      0.82      0.81      4200\n",
      "      Sandal       0.97      0.98      0.97      4200\n",
      "       Shirt       0.72      0.66      0.69      4200\n",
      "     Sneaker       0.95      0.96      0.96      4200\n",
      "         Bag       0.97      0.98      0.98      4200\n",
      "  Ankle boot       0.98      0.97      0.98      4200\n",
      "\n",
      "    accuracy                           0.89     42000\n",
      "   macro avg       0.89      0.89      0.89     42000\n",
      "weighted avg       0.89      0.89      0.89     42000\n",
      "\n",
      "----------------Validation set----------------\n",
      "Accuracy: 0.840\n",
      "Precision: 0.838\n",
      "Recall: 0.840\n",
      "Confusion Matrix:\n",
      " [[1459   14   37   68   12    2  180    1   27    0]\n",
      " [   5 1728   12   42    3    1    6    0    1    2]\n",
      " [  34   14 1332   29  203    1  168    0   19    0]\n",
      " [  73   51   25 1508   61    0   61    0   21    0]\n",
      " [   5    7  168   61 1375    0  157    0   26    1]\n",
      " [   0    1    1    1    0 1652    1   80   13   51]\n",
      " [ 258   17  171   68  161    0 1081    0   43    1]\n",
      " [   0    1    0    0    0   86    0 1642    3   68]\n",
      " [  16    5   18   15    7   16   52    9 1660    2]\n",
      " [   0    1    0    0    0   44    1   76    3 1675]]\n",
      "              precision    recall  f1-score   support\n",
      "\n",
      " T-shirt/top       0.79      0.81      0.80      1800\n",
      "     Trouser       0.94      0.96      0.95      1800\n",
      "    Pullover       0.76      0.74      0.75      1800\n",
      "       Dress       0.84      0.84      0.84      1800\n",
      "        Coat       0.75      0.76      0.76      1800\n",
      "      Sandal       0.92      0.92      0.92      1800\n",
      "       Shirt       0.63      0.60      0.62      1800\n",
      "     Sneaker       0.91      0.91      0.91      1800\n",
      "         Bag       0.91      0.92      0.92      1800\n",
      "  Ankle boot       0.93      0.93      0.93      1800\n",
      "\n",
      "    accuracy                           0.84     18000\n",
      "   macro avg       0.84      0.84      0.84     18000\n",
      "weighted avg       0.84      0.84      0.84     18000\n",
      "\n"
     ]
    }
   ],
   "source": [
    "# solver 'lbfgs' voi ty le 7/3\n",
    "train_predict_evaluate_each_parameter(X_train1, y_train1, X_val1, y_val1, solver='lbfgs', verbose=1)"
   ]
  },
  {
   "cell_type": "code",
   "execution_count": 41,
   "metadata": {
    "collapsed": true,
    "id": "nkF0QfBBS8L9",
    "jupyter": {
     "outputs_hidden": true
    }
   },
   "outputs": [
    {
     "name": "stderr",
     "output_type": "stream",
     "text": [
      "C:\\Users\\Administrator\\anaconda3\\Lib\\site-packages\\sklearn\\linear_model\\_logistic.py:1247: FutureWarning: 'multi_class' was deprecated in version 1.5 and will be removed in 1.7. From then on, it will always use 'multinomial'. Leave it to its default value to avoid this warning.\n",
      "  warnings.warn(\n",
      "[Parallel(n_jobs=-1)]: Using backend ThreadingBackend with 8 concurrent workers.\n"
     ]
    },
    {
     "name": "stdout",
     "output_type": "stream",
     "text": [
      "convergence after 1018 epochs took 1101 seconds\n",
      "----------------Trainning set----------------\n",
      "Accuracy: 0.887\n",
      "Precision: 0.886\n",
      "Recall: 0.887\n",
      "Confusion Matrix:\n",
      " [[3604   10   63  146   14    4  324    0   35    0]\n",
      " [   3 4127    5   51    6    0    7    0    1    0]\n",
      " [  58    3 3299   31  459    0  333    0   17    0]\n",
      " [ 116   22   26 3828  109    0   90    0    9    0]\n",
      " [  13    3  324  106 3439    0  303    0   12    0]\n",
      " [   0    0    0    0    0 4068    0  109    3   20]\n",
      " [ 519    5  443  127  341    0 2726    0   38    1]\n",
      " [   0    0    0    0    0   99    0 4005    4   92]\n",
      " [  13    1   12   18    8    5   49    6 4087    1]\n",
      " [   0    0    0    0    0   26    0  113    1 4060]]\n",
      "              precision    recall  f1-score   support\n",
      "\n",
      " T-shirt/top       0.83      0.86      0.85      4200\n",
      "     Trouser       0.99      0.98      0.99      4200\n",
      "    Pullover       0.79      0.79      0.79      4200\n",
      "       Dress       0.89      0.91      0.90      4200\n",
      "        Coat       0.79      0.82      0.80      4200\n",
      "      Sandal       0.97      0.97      0.97      4200\n",
      "       Shirt       0.71      0.65      0.68      4200\n",
      "     Sneaker       0.95      0.95      0.95      4200\n",
      "         Bag       0.97      0.97      0.97      4200\n",
      "  Ankle boot       0.97      0.97      0.97      4200\n",
      "\n",
      "    accuracy                           0.89     42000\n",
      "   macro avg       0.89      0.89      0.89     42000\n",
      "weighted avg       0.89      0.89      0.89     42000\n",
      "\n",
      "----------------Validation set----------------\n",
      "Accuracy: 0.853\n",
      "Precision: 0.852\n",
      "Recall: 0.853\n",
      "Confusion Matrix:\n",
      " [[1479    3   35   70    8    2  177    1   25    0]\n",
      " [   4 1736    8   42    2    1    6    0    0    1]\n",
      " [  31    7 1354   25  195    1  172    0   15    0]\n",
      " [  76   35   21 1538   60    0   56    0   14    0]\n",
      " [   6    1  168   57 1401    0  153    0   13    1]\n",
      " [   1    0    0    1    0 1683    1   66   11   37]\n",
      " [ 264   11  185   57  164    0 1092    0   26    1]\n",
      " [   0    0    0    0    0   63    0 1678    1   58]\n",
      " [  10    2   13   16    3   12   34   10 1699    1]\n",
      " [   0    0    0    0    0   30    0   68    0 1702]]\n",
      "              precision    recall  f1-score   support\n",
      "\n",
      " T-shirt/top       0.79      0.82      0.81      1800\n",
      "     Trouser       0.97      0.96      0.97      1800\n",
      "    Pullover       0.76      0.75      0.76      1800\n",
      "       Dress       0.85      0.85      0.85      1800\n",
      "        Coat       0.76      0.78      0.77      1800\n",
      "      Sandal       0.94      0.94      0.94      1800\n",
      "       Shirt       0.65      0.61      0.63      1800\n",
      "     Sneaker       0.92      0.93      0.93      1800\n",
      "         Bag       0.94      0.94      0.94      1800\n",
      "  Ankle boot       0.95      0.95      0.95      1800\n",
      "\n",
      "    accuracy                           0.85     18000\n",
      "   macro avg       0.85      0.85      0.85     18000\n",
      "weighted avg       0.85      0.85      0.85     18000\n",
      "\n"
     ]
    }
   ],
   "source": [
    "# solver 'saga' voi ty le 7/3\n",
    "train_predict_evaluate_each_parameter(X_train1, y_train1, X_val1, y_val1, solver='saga', verbose=1)"
   ]
  },
  {
   "cell_type": "code",
   "execution_count": null,
   "metadata": {
    "colab": {
     "base_uri": "https://localhost:8080/"
    },
    "collapsed": true,
    "id": "NVjTmf3gFMJY",
    "jupyter": {
     "outputs_hidden": true
    },
    "outputId": "81696a27-6ec3-494b-d95a-28181df0baa5"
   },
   "outputs": [
    {
     "name": "stderr",
     "output_type": "stream",
     "text": [
      "/usr/local/lib/python3.10/dist-packages/sklearn/linear_model/_logistic.py:1247: FutureWarning: 'multi_class' was deprecated in version 1.5 and will be removed in 1.7. From then on, it will always use 'multinomial'. Leave it to its default value to avoid this warning.\n",
      "  warnings.warn(\n"
     ]
    },
    {
     "name": "stdout",
     "output_type": "stream",
     "text": [
      "convergence after 1024 epochs took 1586 seconds\n",
      "----------------Trainning set----------------\n",
      "Accuracy: 0.889\n",
      "Precision: 0.888\n",
      "Recall: 0.889\n",
      "Confusion Matrix:\n",
      " [[3607    8   63  145   15    3  323    0   36    0]\n",
      " [   2 4129    5   50    6    0    7    0    1    0]\n",
      " [  51    2 3303   31  454    0  342    0   17    0]\n",
      " [ 113   22   25 3841  105    0   86    0    8    0]\n",
      " [  14    3  319  107 3443    0  302    0   12    0]\n",
      " [   0    0    0    0    0 4076    0  107    1   16]\n",
      " [ 519    5  436  126  334    0 2740    0   40    0]\n",
      " [   0    0    0    0    0   97    0 4012    3   88]\n",
      " [  11    1   13   15    8    1   43    5 4102    1]\n",
      " [   0    0    0    0    0   22    0  110    0 4068]]\n",
      "              precision    recall  f1-score   support\n",
      "\n",
      " T-shirt/top       0.84      0.86      0.85      4200\n",
      "     Trouser       0.99      0.98      0.99      4200\n",
      "    Pullover       0.79      0.79      0.79      4200\n",
      "       Dress       0.89      0.91      0.90      4200\n",
      "        Coat       0.79      0.82      0.80      4200\n",
      "      Sandal       0.97      0.97      0.97      4200\n",
      "       Shirt       0.71      0.65      0.68      4200\n",
      "     Sneaker       0.95      0.96      0.95      4200\n",
      "         Bag       0.97      0.98      0.97      4200\n",
      "  Ankle boot       0.97      0.97      0.97      4200\n",
      "\n",
      "    accuracy                           0.89     42000\n",
      "   macro avg       0.89      0.89      0.89     42000\n",
      "weighted avg       0.89      0.89      0.89     42000\n",
      "\n",
      "----------------Validation set----------------\n",
      "Accuracy: 0.851\n",
      "Precision: 0.850\n",
      "Recall: 0.851\n",
      "Confusion Matrix:\n",
      " [[1472    7   37   71    9    2  177    1   24    0]\n",
      " [   4 1734   10   42    2    1    6    0    0    1]\n",
      " [  33    8 1348   31  195    1  167    0   17    0]\n",
      " [  73   39   20 1539   59    0   56    0   14    0]\n",
      " [   7    1  168   56 1398    0  155    0   14    1]\n",
      " [   1    1    0    0    0 1680    1   66   13   38]\n",
      " [ 259   11  180   61  164    0 1096    0   28    1]\n",
      " [   0    0    0    0    0   68    0 1669    3   60]\n",
      " [  12    3   12   17    4   13   37   11 1691    0]\n",
      " [   0    0    0    0    0   32    1   72    0 1695]]\n",
      "              precision    recall  f1-score   support\n",
      "\n",
      " T-shirt/top       0.79      0.82      0.80      1800\n",
      "     Trouser       0.96      0.96      0.96      1800\n",
      "    Pullover       0.76      0.75      0.75      1800\n",
      "       Dress       0.85      0.85      0.85      1800\n",
      "        Coat       0.76      0.78      0.77      1800\n",
      "      Sandal       0.93      0.93      0.93      1800\n",
      "       Shirt       0.65      0.61      0.63      1800\n",
      "     Sneaker       0.92      0.93      0.92      1800\n",
      "         Bag       0.94      0.94      0.94      1800\n",
      "  Ankle boot       0.94      0.94      0.94      1800\n",
      "\n",
      "    accuracy                           0.85     18000\n",
      "   macro avg       0.85      0.85      0.85     18000\n",
      "weighted avg       0.85      0.85      0.85     18000\n",
      "\n"
     ]
    }
   ],
   "source": [
    "# solver 'sag' voi ty le 7/3\n",
    "train_predict_evaluate_each_parameter(X_train1, y_train1, X_val1, y_val1, solver='sag', verbose=1)"
   ]
  },
  {
   "cell_type": "markdown",
   "metadata": {
    "id": "9Uj68q_lRtzm"
   },
   "source": [
    "Ty le 6/4"
   ]
  },
  {
   "cell_type": "code",
   "execution_count": 36,
   "metadata": {
    "colab": {
     "base_uri": "https://localhost:8080/"
    },
    "id": "NMCUXVPKRk-7",
    "outputId": "a953c846-f69e-459e-fedc-ebd89c0d17a3"
   },
   "outputs": [
    {
     "data": {
      "text/plain": [
       "((36000, 784), (24000, 784), (10000, 784))"
      ]
     },
     "execution_count": 36,
     "metadata": {},
     "output_type": "execute_result"
    }
   ],
   "source": [
    "# Với tỷ lệ train/validation : 6/4\n",
    "X_train2, X_val2, y_train2, y_val2, X_test2 = create_data(X=X, y=y, X_test=X_test, n_components=100, test_size=0.4)\n",
    "X_train2.shape, X_val2.shape, X_test2.shape"
   ]
  },
  {
   "cell_type": "code",
   "execution_count": null,
   "metadata": {
    "colab": {
     "base_uri": "https://localhost:8080/"
    },
    "collapsed": true,
    "id": "UF8Ipw81RqRT",
    "jupyter": {
     "outputs_hidden": true
    },
    "outputId": "76bdfcce-6735-4bcf-e517-ef38dd621faa"
   },
   "outputs": [
    {
     "name": "stderr",
     "output_type": "stream",
     "text": [
      "/usr/local/lib/python3.10/dist-packages/sklearn/linear_model/_logistic.py:1247: FutureWarning: 'multi_class' was deprecated in version 1.5 and will be removed in 1.7. From then on, it will always use 'multinomial'. Leave it to its default value to avoid this warning.\n",
      "  warnings.warn(\n"
     ]
    },
    {
     "name": "stdout",
     "output_type": "stream",
     "text": [
      "----------------Trainning set----------------\n",
      "Accuracy: 0.898\n",
      "Precision: 0.897\n",
      "Recall: 0.898\n",
      "Confusion Matrix:\n",
      " [[3108    4   52  126   14    0  280    0   16    0]\n",
      " [   0 3559    2   31    3    0    5    0    0    0]\n",
      " [  49    2 2862   30  367    0  278    0   12    0]\n",
      " [  84   13   22 3323   83    0   68    0    7    0]\n",
      " [  12    3  265   88 2959    0  265    0    8    0]\n",
      " [   0    0    0    0    0 3526    0   71    0    3]\n",
      " [ 408    2  340  103  282    0 2435    0   30    0]\n",
      " [   0    0    0    0    0   65    0 3486    0   49]\n",
      " [   7    1    4    6    5    0   26    1 3550    0]\n",
      " [   0    0    0    0    0    7    0   62    0 3531]]\n",
      "              precision    recall  f1-score   support\n",
      "\n",
      " T-shirt/top       0.85      0.86      0.86      3600\n",
      "     Trouser       0.99      0.99      0.99      3600\n",
      "    Pullover       0.81      0.80      0.80      3600\n",
      "       Dress       0.90      0.92      0.91      3600\n",
      "        Coat       0.80      0.82      0.81      3600\n",
      "      Sandal       0.98      0.98      0.98      3600\n",
      "       Shirt       0.73      0.68      0.70      3600\n",
      "     Sneaker       0.96      0.97      0.97      3600\n",
      "         Bag       0.98      0.99      0.98      3600\n",
      "  Ankle boot       0.99      0.98      0.98      3600\n",
      "\n",
      "    accuracy                           0.90     36000\n",
      "   macro avg       0.90      0.90      0.90     36000\n",
      "weighted avg       0.90      0.90      0.90     36000\n",
      "\n",
      "----------------Validation set----------------\n",
      "Accuracy: 0.836\n",
      "Precision: 0.834\n",
      "Recall: 0.836\n",
      "Confusion Matrix:\n",
      " [[1933   18   55  100   17    4  231    1   41    0]\n",
      " [  11 2309   17   48    4    1    6    1    2    1]\n",
      " [  57   17 1767   33  286    0  217    0   23    0]\n",
      " [ 100   76   31 2009   84    0   77    0   23    0]\n",
      " [   8   11  227   77 1831    0  215    0   30    1]\n",
      " [   0    0    2    2    0 2191    2  117   21   65]\n",
      " [ 320   19  258   92  231    0 1418    0   61    1]\n",
      " [   0    0    0    1    0  105    1 2189    4  100]\n",
      " [  23    9   26   27   14   24   63   12 2198    4]\n",
      " [   0    0    0    0    1   62    0  120    2 2215]]\n",
      "              precision    recall  f1-score   support\n",
      "\n",
      " T-shirt/top       0.79      0.81      0.80      2400\n",
      "     Trouser       0.94      0.96      0.95      2400\n",
      "    Pullover       0.74      0.74      0.74      2400\n",
      "       Dress       0.84      0.84      0.84      2400\n",
      "        Coat       0.74      0.76      0.75      2400\n",
      "      Sandal       0.92      0.91      0.92      2400\n",
      "       Shirt       0.64      0.59      0.61      2400\n",
      "     Sneaker       0.90      0.91      0.90      2400\n",
      "         Bag       0.91      0.92      0.91      2400\n",
      "  Ankle boot       0.93      0.92      0.93      2400\n",
      "\n",
      "    accuracy                           0.84     24000\n",
      "   macro avg       0.83      0.84      0.84     24000\n",
      "weighted avg       0.83      0.84      0.84     24000\n",
      "\n"
     ]
    }
   ],
   "source": [
    "# solver 'lbfgs' voi ty le 6/4\n",
    "train_predict_evaluate_each_parameter(X_train2, y_train2, X_val2, y_val2, solver='lbfgs', verbose=1)"
   ]
  },
  {
   "cell_type": "code",
   "execution_count": null,
   "metadata": {
    "colab": {
     "base_uri": "https://localhost:8080/"
    },
    "collapsed": true,
    "id": "y73kgE4sRvne",
    "jupyter": {
     "outputs_hidden": true
    },
    "outputId": "20ecbaa0-9dbd-4c1c-922a-6b53a23b62f8"
   },
   "outputs": [
    {
     "name": "stderr",
     "output_type": "stream",
     "text": [
      "/usr/local/lib/python3.10/dist-packages/sklearn/linear_model/_logistic.py:1247: FutureWarning: 'multi_class' was deprecated in version 1.5 and will be removed in 1.7. From then on, it will always use 'multinomial'. Leave it to its default value to avoid this warning.\n",
      "  warnings.warn(\n"
     ]
    },
    {
     "name": "stdout",
     "output_type": "stream",
     "text": [
      "convergence after 1309 epochs took 2245 seconds\n",
      "----------------Trainning set----------------\n",
      "Accuracy: 0.892\n",
      "Precision: 0.891\n",
      "Recall: 0.892\n",
      "Confusion Matrix:\n",
      " [[3098    7   57  119   15    3  280    0   21    0]\n",
      " [   3 3535    6   43    6    0    7    0    0    0]\n",
      " [  52    3 2855   25  381    0  270    0   14    0]\n",
      " [  92   17   23 3301   91    0   69    0    7    0]\n",
      " [  15    2  278   86 2958    0  255    0    6    0]\n",
      " [   0    0    0    0    0 3492    0   89    4   15]\n",
      " [ 421    5  347  102  288    0 2402    0   35    0]\n",
      " [   0    0    0    0    0   74    0 3457    3   66]\n",
      " [   7    1    7   16    4    2   38    7 3517    1]\n",
      " [   0    0    0    0    0   25    0   86    0 3489]]\n",
      "              precision    recall  f1-score   support\n",
      "\n",
      " T-shirt/top       0.84      0.86      0.85      3600\n",
      "     Trouser       0.99      0.98      0.99      3600\n",
      "    Pullover       0.80      0.79      0.80      3600\n",
      "       Dress       0.89      0.92      0.91      3600\n",
      "        Coat       0.79      0.82      0.81      3600\n",
      "      Sandal       0.97      0.97      0.97      3600\n",
      "       Shirt       0.72      0.67      0.69      3600\n",
      "     Sneaker       0.95      0.96      0.96      3600\n",
      "         Bag       0.98      0.98      0.98      3600\n",
      "  Ankle boot       0.98      0.97      0.97      3600\n",
      "\n",
      "    accuracy                           0.89     36000\n",
      "   macro avg       0.89      0.89      0.89     36000\n",
      "weighted avg       0.89      0.89      0.89     36000\n",
      "\n",
      "----------------Validation set----------------\n",
      "Accuracy: 0.848\n",
      "Precision: 0.847\n",
      "Recall: 0.848\n",
      "Confusion Matrix:\n",
      " [[1962   12   50   98   12    3  227    1   35    0]\n",
      " [   8 2315   14   54    3    1    4    0    1    0]\n",
      " [  53    9 1785   33  286    0  218    0   16    0]\n",
      " [ 100   44   28 2057   87    0   69    0   15    0]\n",
      " [   6    5  221   78 1874    0  202    0   13    1]\n",
      " [   0    0    0    3    0 2215    2  107   19   54]\n",
      " [ 335   12  265   84  229    0 1434    0   40    1]\n",
      " [   0    0    0    0    0   95    0 2220    3   82]\n",
      " [  14    5   23   16    9   17   52   13 2250    1]\n",
      " [   0    0    0    0    0   45    0  107    1 2247]]\n",
      "              precision    recall  f1-score   support\n",
      "\n",
      " T-shirt/top       0.79      0.82      0.80      2400\n",
      "     Trouser       0.96      0.96      0.96      2400\n",
      "    Pullover       0.75      0.74      0.75      2400\n",
      "       Dress       0.85      0.86      0.85      2400\n",
      "        Coat       0.75      0.78      0.76      2400\n",
      "      Sandal       0.93      0.92      0.93      2400\n",
      "       Shirt       0.65      0.60      0.62      2400\n",
      "     Sneaker       0.91      0.93      0.92      2400\n",
      "         Bag       0.94      0.94      0.94      2400\n",
      "  Ankle boot       0.94      0.94      0.94      2400\n",
      "\n",
      "    accuracy                           0.85     24000\n",
      "   macro avg       0.85      0.85      0.85     24000\n",
      "weighted avg       0.85      0.85      0.85     24000\n",
      "\n"
     ]
    }
   ],
   "source": [
    "# solver 'saga' voi ty le 6/4\n",
    "train_predict_evaluate_each_parameter(X_train2, y_train2, X_val2, y_val2, solver='saga', verbose=1)"
   ]
  },
  {
   "cell_type": "code",
   "execution_count": null,
   "metadata": {
    "colab": {
     "base_uri": "https://localhost:8080/"
    },
    "collapsed": true,
    "id": "X3rMVknzMMz1",
    "jupyter": {
     "outputs_hidden": true
    },
    "outputId": "55a70679-55e0-440b-defd-baf88b55b663"
   },
   "outputs": [
    {
     "name": "stderr",
     "output_type": "stream",
     "text": [
      "/usr/local/lib/python3.10/dist-packages/sklearn/linear_model/_logistic.py:1247: FutureWarning: 'multi_class' was deprecated in version 1.5 and will be removed in 1.7. From then on, it will always use 'multinomial'. Leave it to its default value to avoid this warning.\n",
      "  warnings.warn(\n"
     ]
    },
    {
     "name": "stdout",
     "output_type": "stream",
     "text": [
      "convergence after 1337 epochs took 1831 seconds\n",
      "----------------Trainning set----------------\n",
      "Accuracy: 0.893\n",
      "Precision: 0.893\n",
      "Recall: 0.893\n",
      "Confusion Matrix:\n",
      " [[3104    3   56  117   16    3  281    0   20    0]\n",
      " [   3 3539    5   43    5    0    5    0    0    0]\n",
      " [  47    3 2851   26  381    0  278    0   14    0]\n",
      " [  90   16   24 3305   90    0   68    0    7    0]\n",
      " [  15    1  273   87 2956    0  260    0    8    0]\n",
      " [   0    0    0    0    0 3506    0   82    1   11]\n",
      " [ 423    4  348   99  287    0 2401    0   38    0]\n",
      " [   0    0    1    0    0   69    0 3469    1   60]\n",
      " [   5    1    7   14    4    0   35    4 3529    1]\n",
      " [   0    0    0    0    0   18    0   78    0 3504]]\n",
      "              precision    recall  f1-score   support\n",
      "\n",
      " T-shirt/top       0.84      0.86      0.85      3600\n",
      "     Trouser       0.99      0.98      0.99      3600\n",
      "    Pullover       0.80      0.79      0.80      3600\n",
      "       Dress       0.90      0.92      0.91      3600\n",
      "        Coat       0.79      0.82      0.81      3600\n",
      "      Sandal       0.97      0.97      0.97      3600\n",
      "       Shirt       0.72      0.67      0.69      3600\n",
      "     Sneaker       0.95      0.96      0.96      3600\n",
      "         Bag       0.98      0.98      0.98      3600\n",
      "  Ankle boot       0.98      0.97      0.98      3600\n",
      "\n",
      "    accuracy                           0.89     36000\n",
      "   macro avg       0.89      0.89      0.89     36000\n",
      "weighted avg       0.89      0.89      0.89     36000\n",
      "\n",
      "----------------Validation set----------------\n",
      "Accuracy: 0.845\n",
      "Precision: 0.844\n",
      "Recall: 0.845\n",
      "Confusion Matrix:\n",
      " [[1954   15   53   96   11    3  231    1   36    0]\n",
      " [  10 2315   14   51    3    1    5    0    1    0]\n",
      " [  54   10 1775   35  288    0  219    0   19    0]\n",
      " [ 104   49   31 2040   88    0   70    0   18    0]\n",
      " [   7    9  226   76 1865    0  204    0   12    1]\n",
      " [   0    0    0    2    0 2207    2  110   18   61]\n",
      " [ 332   14  258   88  221    0 1439    0   47    1]\n",
      " [   0    0    0    0    0   91    0 2215    5   89]\n",
      " [  18    5   26   20    8   18   58   15 2231    1]\n",
      " [   0    0    0    0    0   50    0  111    1 2238]]\n",
      "              precision    recall  f1-score   support\n",
      "\n",
      " T-shirt/top       0.79      0.81      0.80      2400\n",
      "     Trouser       0.96      0.96      0.96      2400\n",
      "    Pullover       0.74      0.74      0.74      2400\n",
      "       Dress       0.85      0.85      0.85      2400\n",
      "        Coat       0.75      0.78      0.76      2400\n",
      "      Sandal       0.93      0.92      0.93      2400\n",
      "       Shirt       0.65      0.60      0.62      2400\n",
      "     Sneaker       0.90      0.92      0.91      2400\n",
      "         Bag       0.93      0.93      0.93      2400\n",
      "  Ankle boot       0.94      0.93      0.93      2400\n",
      "\n",
      "    accuracy                           0.84     24000\n",
      "   macro avg       0.84      0.84      0.84     24000\n",
      "weighted avg       0.84      0.84      0.84     24000\n",
      "\n"
     ]
    }
   ],
   "source": [
    "# solver 'sag' voi ty le 6/4\n",
    "train_predict_evaluate_each_parameter(X_train2, y_train2, X_val2, y_val2, solver='sag', verbose=1)"
   ]
  }
 ],
 "metadata": {
  "colab": {
   "provenance": []
  },
  "kernelspec": {
   "display_name": "Python [conda env:base] *",
   "language": "python",
   "name": "conda-base-py"
  },
  "language_info": {
   "codemirror_mode": {
    "name": "ipython",
    "version": 3
   },
   "file_extension": ".py",
   "mimetype": "text/x-python",
   "name": "python",
   "nbconvert_exporter": "python",
   "pygments_lexer": "ipython3",
   "version": "3.12.7"
  }
 },
 "nbformat": 4,
 "nbformat_minor": 4
}
