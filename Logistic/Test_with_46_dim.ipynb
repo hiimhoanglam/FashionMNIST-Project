{
 "cells": [
  {
   "cell_type": "markdown",
   "metadata": {},
   "source": [
    "Chức năng của File: Huấn luyện mô hình trên các tập dữ liệu đã giảm chiều có tỷ lệ train/validation khác nhau, không áp dụng hiệu chỉnh L2 và tính toán các chỉ số trên tập validation."
   ]
  },
  {
   "cell_type": "code",
   "execution_count": 1,
   "metadata": {
    "id": "AEmBwQQJW01d"
   },
   "outputs": [],
   "source": [
    "import pandas as pd\n",
    "import numpy as np\n",
    "import matplotlib.pyplot as plt\n",
    "import os\n",
    "from sklearn.model_selection import train_test_split, cross_val_score, GridSearchCV\n",
    "import time\n",
    "import seaborn as sns\n",
    "from sklearn.decomposition import PCA\n",
    "import tensorflow as tf\n",
    "from sklearn.metrics import accuracy_score, precision_score, recall_score, confusion_matrix, classification_report\n",
    "from sklearn.linear_model import LogisticRegression"
   ]
  },
  {
   "cell_type": "code",
   "execution_count": 3,
   "metadata": {
    "colab": {
     "base_uri": "https://localhost:8080/"
    },
    "id": "8tsJ_zCLYC2S",
    "outputId": "23b51348-4f4f-4cf1-c09e-9aa18d5d75f0"
   },
   "outputs": [],
   "source": [
    "fashion_mnist = tf.keras.datasets.fashion_mnist\n",
    "(X, y), (X_test, y_test) = fashion_mnist.load_data()\n",
    "\n",
    "X = X.reshape(X.shape[0], -1)\n",
    "X = X.astype('float32') / 255.0\n",
    "\n",
    "X_test = X_test.reshape(X_test.shape[0], -1)\n",
    "X_test = X_test.astype('float32') / 255.0"
   ]
  },
  {
   "cell_type": "code",
   "execution_count": 9,
   "metadata": {
    "id": "Y8j0XS40eGpV"
   },
   "outputs": [],
   "source": [
    "fashion_mnist_labels = [\n",
    "    \"T-shirt/top\", \"Trouser\", \"Pullover\", \"Dress\", \"Coat\",\n",
    "    \"Sandal\", \"Shirt\", \"Sneaker\", \"Bag\", \"Ankle boot\"\n",
    "]"
   ]
  },
  {
   "cell_type": "code",
   "execution_count": 15,
   "metadata": {
    "id": "qRW1aMpwYbhH"
   },
   "outputs": [],
   "source": [
    "def evaluate(y_true, y_pred, data_set_name):\n",
    "\n",
    "  print(f'----------------{data_set_name}----------------')\n",
    "  accuracy_logReg = accuracy_score(y_true, y_pred)\n",
    "  print(f'Accuracy: {accuracy_logReg:.3f}')\n",
    "\n",
    "  precision_logReg = precision_score(y_true, y_pred, average='weighted')\n",
    "  print(f'Precision: {precision_logReg:.3f}')\n",
    "\n",
    "  recall_logReg = recall_score(y_true, y_pred, average='weighted')\n",
    "  print(f'Recall: {recall_logReg:.3f}')\n",
    "\n",
    "  confusion_matrix_logReg = confusion_matrix(y_true, y_pred)\n",
    "  print('Confusion Matrix:\\n', confusion_matrix_logReg)\n",
    "\n",
    "  print(classification_report(y_true, y_pred, target_names=fashion_mnist_labels))\n",
    "\n",
    "def create_data(X, y, X_test, n_components=100, test_size=0.2):\n",
    "    X_train, X_val, y_train, y_val = train_test_split(X, y, test_size=test_size, random_state=42, stratify=y)\n",
    "\n",
    "    if n_components < 100:\n",
    "        pca = PCA(n_components=n_components)\n",
    "        X_train = pca.fit_transform(X_train)\n",
    "        X_val = pca.transform(X_val)\n",
    "        X_test = pca.transform(X_test)\n",
    "    return X_train, X_val, y_train, y_val, X_test\n",
    "\n",
    "def train_predict_evaluate_each_parameter(X_train, y_train, X_test, y_test, solver='lbfgs', max_iter=10000, penalty=None, tol=1e-4, verbose=0, C=1):\n",
    "\n",
    "  model_logReg = LogisticRegression(multi_class='multinomial', solver=solver, max_iter=max_iter, penalty=penalty, tol=tol, verbose=verbose, C=C)\n",
    "  model_logReg.fit(X_train, y_train)\n",
    "\n",
    "  y_pred_training = model_logReg.predict(X_train)\n",
    "  evaluate(y_train, y_pred_training, 'Trainning set')\n",
    "\n",
    "  y_pred_testing = model_logReg.predict(X_test)\n",
    "  evaluate(y_test, y_pred_testing, 'Validation set')"
   ]
  },
  {
   "cell_type": "markdown",
   "metadata": {
    "id": "S7x7D2Khm4o_"
   },
   "source": [
    "***Không sử dụng hiệu chỉnh L2***"
   ]
  },
  {
   "cell_type": "markdown",
   "metadata": {
    "id": "tWobuDPHm9Zo"
   },
   "source": [
    "Ty le 4/1"
   ]
  },
  {
   "cell_type": "code",
   "execution_count": 17,
   "metadata": {
    "colab": {
     "base_uri": "https://localhost:8080/"
    },
    "id": "4-HaKvNzm1Tc",
    "outputId": "80aaabd4-8b20-4227-c359-a88a876799e7"
   },
   "outputs": [
    {
     "data": {
      "text/plain": [
       "((48000, 46), (12000, 46), (10000, 46))"
      ]
     },
     "execution_count": 17,
     "metadata": {},
     "output_type": "execute_result"
    }
   ],
   "source": [
    "# Với tỷ lệ train/validation : 4/1\n",
    "X_train, X_val, y_train, y_val, X_test41 = create_data(X=X, y=y, X_test=X_test, n_components=46, test_size=0.2)\n",
    "X_train.shape, X_val.shape, X_test41.shape"
   ]
  },
  {
   "cell_type": "code",
   "execution_count": 19,
   "metadata": {
    "colab": {
     "base_uri": "https://localhost:8080/"
    },
    "collapsed": true,
    "id": "gHZlsIdznMU8",
    "jupyter": {
     "outputs_hidden": true
    },
    "outputId": "d615a8dd-a033-46cd-9253-00c20f138c21"
   },
   "outputs": [
    {
     "name": "stderr",
     "output_type": "stream",
     "text": [
      "C:\\Users\\Administrator\\anaconda3\\Lib\\site-packages\\sklearn\\linear_model\\_logistic.py:1247: FutureWarning: 'multi_class' was deprecated in version 1.5 and will be removed in 1.7. From then on, it will always use 'multinomial'. Leave it to its default value to avoid this warning.\n",
      "  warnings.warn(\n"
     ]
    },
    {
     "name": "stdout",
     "output_type": "stream",
     "text": [
      "----------------Trainning set----------------\n",
      "Accuracy: 0.841\n",
      "Precision: 0.839\n",
      "Recall: 0.841\n",
      "Confusion Matrix:\n",
      " [[3942   19   75  272   24    8  402    1   55    2]\n",
      " [  16 4608   25  115   14    0   20    0    1    1]\n",
      " [  52   18 3453   44  659    1  526    0   47    0]\n",
      " [ 204   59   26 4156  160    1  176    1   17    0]\n",
      " [  12    9  446  171 3631    1  505    1   24    0]\n",
      " [   2    1    0    1    0 4457    0  227   28   84]\n",
      " [ 783   11  591  180  497    0 2647    1   89    1]\n",
      " [   0    0    0    0    0  172    0 4427    8  193]\n",
      " [  15    4   23   42    9   29  129   20 4525    4]\n",
      " [   0    0    2    2    1   78    2  206    6 4503]]\n",
      "              precision    recall  f1-score   support\n",
      "\n",
      " T-shirt/top       0.78      0.82      0.80      4800\n",
      "     Trouser       0.97      0.96      0.97      4800\n",
      "    Pullover       0.74      0.72      0.73      4800\n",
      "       Dress       0.83      0.87      0.85      4800\n",
      "        Coat       0.73      0.76      0.74      4800\n",
      "      Sandal       0.94      0.93      0.93      4800\n",
      "       Shirt       0.60      0.55      0.57      4800\n",
      "     Sneaker       0.91      0.92      0.91      4800\n",
      "         Bag       0.94      0.94      0.94      4800\n",
      "  Ankle boot       0.94      0.94      0.94      4800\n",
      "\n",
      "    accuracy                           0.84     48000\n",
      "   macro avg       0.84      0.84      0.84     48000\n",
      "weighted avg       0.84      0.84      0.84     48000\n",
      "\n",
      "----------------Validation set----------------\n",
      "Accuracy: 0.846\n",
      "Precision: 0.845\n",
      "Recall: 0.846\n",
      "Confusion Matrix:\n",
      " [[ 995    1   22   67    7    1   92    0   15    0]\n",
      " [   5 1151    3   30    5    1    5    0    0    0]\n",
      " [  18    7  862   13  167    0  124    0    9    0]\n",
      " [  51   23   13 1022   47    0   39    2    3    0]\n",
      " [   2    1  117   39  896    0  136    1    8    0]\n",
      " [   0    1    1    0    0 1136    1   39    2   20]\n",
      " [ 160    4  141   38  116    0  714    0   27    0]\n",
      " [   0    0    0    0    0   49    0 1097    3   51]\n",
      " [   2    1    7    9    2    4   26    3 1145    1]\n",
      " [   0    0    0    0    0   15    0   50    1 1134]]\n",
      "              precision    recall  f1-score   support\n",
      "\n",
      " T-shirt/top       0.81      0.83      0.82      1200\n",
      "     Trouser       0.97      0.96      0.96      1200\n",
      "    Pullover       0.74      0.72      0.73      1200\n",
      "       Dress       0.84      0.85      0.85      1200\n",
      "        Coat       0.72      0.75      0.73      1200\n",
      "      Sandal       0.94      0.95      0.94      1200\n",
      "       Shirt       0.63      0.59      0.61      1200\n",
      "     Sneaker       0.92      0.91      0.92      1200\n",
      "         Bag       0.94      0.95      0.95      1200\n",
      "  Ankle boot       0.94      0.94      0.94      1200\n",
      "\n",
      "    accuracy                           0.85     12000\n",
      "   macro avg       0.85      0.85      0.85     12000\n",
      "weighted avg       0.85      0.85      0.85     12000\n",
      "\n"
     ]
    }
   ],
   "source": [
    "# solver 'lbfgs' voi ty le 4/1\n",
    "train_predict_evaluate_each_parameter(X_train, y_train, X_val, y_val, solver='lbfgs', verbose=1)"
   ]
  },
  {
   "cell_type": "code",
   "execution_count": 21,
   "metadata": {
    "colab": {
     "base_uri": "https://localhost:8080/"
    },
    "collapsed": true,
    "id": "rgXdStgynU8-",
    "jupyter": {
     "outputs_hidden": true
    },
    "outputId": "92982e23-a05d-4e8f-a056-b8d6bda16b62"
   },
   "outputs": [
    {
     "name": "stderr",
     "output_type": "stream",
     "text": [
      "C:\\Users\\Administrator\\anaconda3\\Lib\\site-packages\\sklearn\\linear_model\\_logistic.py:1247: FutureWarning: 'multi_class' was deprecated in version 1.5 and will be removed in 1.7. From then on, it will always use 'multinomial'. Leave it to its default value to avoid this warning.\n",
      "  warnings.warn(\n"
     ]
    },
    {
     "name": "stdout",
     "output_type": "stream",
     "text": [
      "convergence after 266 epochs took 25 seconds\n",
      "----------------Trainning set----------------\n",
      "Accuracy: 0.840\n",
      "Precision: 0.839\n",
      "Recall: 0.840\n",
      "Confusion Matrix:\n",
      " [[3941   19   74  273   24   10  402    0   55    2]\n",
      " [  15 4606   26  115   14    0   20    2    1    1]\n",
      " [  52   17 3454   43  658    1  527    0   48    0]\n",
      " [ 204   57   26 4155  162    1  176    1   17    1]\n",
      " [  12    9  446  171 3633    1  505    1   22    0]\n",
      " [   3    1    0    2    0 4449    0  229   29   87]\n",
      " [ 782   12  593  179  496    0 2647    2   88    1]\n",
      " [   0    0    0    0    0  177    0 4418    8  197]\n",
      " [  16    4   23   42    9   30  127   20 4525    4]\n",
      " [   0    0    2    1    1   80    2  210    6 4498]]\n",
      "              precision    recall  f1-score   support\n",
      "\n",
      " T-shirt/top       0.78      0.82      0.80      4800\n",
      "     Trouser       0.97      0.96      0.97      4800\n",
      "    Pullover       0.74      0.72      0.73      4800\n",
      "       Dress       0.83      0.87      0.85      4800\n",
      "        Coat       0.73      0.76      0.74      4800\n",
      "      Sandal       0.94      0.93      0.93      4800\n",
      "       Shirt       0.60      0.55      0.58      4800\n",
      "     Sneaker       0.90      0.92      0.91      4800\n",
      "         Bag       0.94      0.94      0.94      4800\n",
      "  Ankle boot       0.94      0.94      0.94      4800\n",
      "\n",
      "    accuracy                           0.84     48000\n",
      "   macro avg       0.84      0.84      0.84     48000\n",
      "weighted avg       0.84      0.84      0.84     48000\n",
      "\n",
      "----------------Validation set----------------\n",
      "Accuracy: 0.845\n",
      "Precision: 0.844\n",
      "Recall: 0.845\n",
      "Confusion Matrix:\n",
      " [[ 994    1   21   68    7    1   93    0   15    0]\n",
      " [   5 1151    3   30    5    1    5    0    0    0]\n",
      " [  18    7  863   13  167    0  123    0    9    0]\n",
      " [  51   22   13 1022   47    0   40    2    3    0]\n",
      " [   2    1  116   39  897    0  136    1    8    0]\n",
      " [   0    1    1    0    0 1133    1   41    3   20]\n",
      " [ 160    4  140   37  115    0  716    0   28    0]\n",
      " [   0    0    0    0    0   50    0 1095    2   53]\n",
      " [   2    1    7    9    2    5   26    5 1142    1]\n",
      " [   0    0    0    0    0   17    0   51    1 1131]]\n",
      "              precision    recall  f1-score   support\n",
      "\n",
      " T-shirt/top       0.81      0.83      0.82      1200\n",
      "     Trouser       0.97      0.96      0.96      1200\n",
      "    Pullover       0.74      0.72      0.73      1200\n",
      "       Dress       0.84      0.85      0.85      1200\n",
      "        Coat       0.72      0.75      0.74      1200\n",
      "      Sandal       0.94      0.94      0.94      1200\n",
      "       Shirt       0.63      0.60      0.61      1200\n",
      "     Sneaker       0.92      0.91      0.91      1200\n",
      "         Bag       0.94      0.95      0.95      1200\n",
      "  Ankle boot       0.94      0.94      0.94      1200\n",
      "\n",
      "    accuracy                           0.85     12000\n",
      "   macro avg       0.84      0.85      0.84     12000\n",
      "weighted avg       0.84      0.85      0.84     12000\n",
      "\n"
     ]
    }
   ],
   "source": [
    "# solver 'saga' voi ty le 4/1\n",
    "train_predict_evaluate_each_parameter(X_train, y_train, X_val, y_val, solver='saga', verbose=1)"
   ]
  },
  {
   "cell_type": "code",
   "execution_count": null,
   "metadata": {
    "colab": {
     "base_uri": "https://localhost:8080/"
    },
    "id": "9xGvg0lFJpK8",
    "outputId": "32f0284a-50d0-4a35-a969-20ba615c7eb4"
   },
   "outputs": [
    {
     "name": "stderr",
     "output_type": "stream",
     "text": [
      "/usr/local/lib/python3.10/dist-packages/sklearn/linear_model/_logistic.py:1247: FutureWarning: 'multi_class' was deprecated in version 1.5 and will be removed in 1.7. From then on, it will always use 'multinomial'. Leave it to its default value to avoid this warning.\n",
      "  warnings.warn(\n"
     ]
    },
    {
     "name": "stdout",
     "output_type": "stream",
     "text": [
      "convergence after 165 epochs took 17 seconds\n",
      "----------------Trainning set----------------\n",
      "Accuracy: 0.840\n",
      "Precision: 0.839\n",
      "Recall: 0.840\n",
      "Confusion Matrix:\n",
      " [[3941   19   75  272   24   10  402    0   55    2]\n",
      " [  16 4606   26  116   14    0   20    0    1    1]\n",
      " [  52   17 3454   44  658    1  526    0   48    0]\n",
      " [ 204   57   26 4156  161    1  176    1   17    1]\n",
      " [  12    9  446  171 3632    1  505    1   23    0]\n",
      " [   3    1    0    1    0 4453    0  228   28   86]\n",
      " [ 781   12  591  180  496    0 2648    2   89    1]\n",
      " [   0    0    0    0    0  176    0 4422    8  194]\n",
      " [  16    4   23   42    9   31  126   20 4525    4]\n",
      " [   0    0    2    2    1   79    2  209    6 4499]]\n",
      "              precision    recall  f1-score   support\n",
      "\n",
      " T-shirt/top       0.78      0.82      0.80      4800\n",
      "     Trouser       0.97      0.96      0.97      4800\n",
      "    Pullover       0.74      0.72      0.73      4800\n",
      "       Dress       0.83      0.87      0.85      4800\n",
      "        Coat       0.73      0.76      0.74      4800\n",
      "      Sandal       0.94      0.93      0.93      4800\n",
      "       Shirt       0.60      0.55      0.58      4800\n",
      "     Sneaker       0.91      0.92      0.91      4800\n",
      "         Bag       0.94      0.94      0.94      4800\n",
      "  Ankle boot       0.94      0.94      0.94      4800\n",
      "\n",
      "    accuracy                           0.84     48000\n",
      "   macro avg       0.84      0.84      0.84     48000\n",
      "weighted avg       0.84      0.84      0.84     48000\n",
      "\n",
      "----------------Validation set----------------\n",
      "Accuracy: 0.846\n",
      "Precision: 0.845\n",
      "Recall: 0.846\n",
      "Confusion Matrix:\n",
      " [[ 994    1   21   68    7    1   93    0   15    0]\n",
      " [   5 1151    3   30    5    1    5    0    0    0]\n",
      " [  18    7  862   13  167    0  124    0    9    0]\n",
      " [  51   22   13 1022   47    0   40    2    3    0]\n",
      " [   2    1  116   39  897    0  136    1    8    0]\n",
      " [   0    1    1    0    0 1135    1   40    2   20]\n",
      " [ 160    4  140   37  115    0  716    0   28    0]\n",
      " [   0    0    0    0    0   50    0 1097    2   51]\n",
      " [   2    1    7    9    2    4   26    5 1143    1]\n",
      " [   0    0    0    0    0   16    0   51    1 1132]]\n",
      "              precision    recall  f1-score   support\n",
      "\n",
      " T-shirt/top       0.81      0.83      0.82      1200\n",
      "     Trouser       0.97      0.96      0.96      1200\n",
      "    Pullover       0.74      0.72      0.73      1200\n",
      "       Dress       0.84      0.85      0.85      1200\n",
      "        Coat       0.72      0.75      0.74      1200\n",
      "      Sandal       0.94      0.95      0.94      1200\n",
      "       Shirt       0.63      0.60      0.61      1200\n",
      "     Sneaker       0.92      0.91      0.92      1200\n",
      "         Bag       0.94      0.95      0.95      1200\n",
      "  Ankle boot       0.94      0.94      0.94      1200\n",
      "\n",
      "    accuracy                           0.85     12000\n",
      "   macro avg       0.84      0.85      0.85     12000\n",
      "weighted avg       0.84      0.85      0.85     12000\n",
      "\n"
     ]
    }
   ],
   "source": [
    "# solver 'sag' voi ty le 4/1\n",
    "train_predict_evaluate_each_parameter(X_train, y_train, X_val, y_val, solver='sag', verbose=1)"
   ]
  },
  {
   "cell_type": "markdown",
   "metadata": {
    "id": "W9M2vPM_ow5r"
   },
   "source": [
    "Ty le 7/3"
   ]
  },
  {
   "cell_type": "code",
   "execution_count": null,
   "metadata": {
    "colab": {
     "base_uri": "https://localhost:8080/"
    },
    "id": "hLr0LalCo0xP",
    "outputId": "a7dbf3ac-f65a-40d7-abb6-f70e25e8649e"
   },
   "outputs": [
    {
     "data": {
      "text/plain": [
       "((42000, 46), (18000, 46), (10000, 46))"
      ]
     },
     "execution_count": 9,
     "metadata": {},
     "output_type": "execute_result"
    }
   ],
   "source": [
    "# Với tỷ lệ train/validation : 7/3\n",
    "X_train1, X_val1, y_train1, y_val1, X_test1 = create_data(X=X, y=y, X_test=X_test, n_components=46, test_size=0.3)\n",
    "X_train1.shape, X_val1.shape, X_test1.shape"
   ]
  },
  {
   "cell_type": "code",
   "execution_count": null,
   "metadata": {
    "colab": {
     "base_uri": "https://localhost:8080/"
    },
    "id": "qTuevh7yo7Bc",
    "outputId": "709f5de5-e8b1-420a-ce56-b7bebb7d7bb5",
    "scrolled": true
   },
   "outputs": [
    {
     "name": "stderr",
     "output_type": "stream",
     "text": [
      "/usr/local/lib/python3.10/dist-packages/sklearn/linear_model/_logistic.py:1247: FutureWarning: 'multi_class' was deprecated in version 1.5 and will be removed in 1.7. From then on, it will always use 'multinomial'. Leave it to its default value to avoid this warning.\n",
      "  warnings.warn(\n"
     ]
    },
    {
     "name": "stdout",
     "output_type": "stream",
     "text": [
      "----------------Trainning set----------------\n",
      "Accuracy: 0.841\n",
      "Precision: 0.839\n",
      "Recall: 0.841\n",
      "Confusion Matrix:\n",
      " [[3452   17   67  239   24    8  337    1   53    2]\n",
      " [  14 4035   24   94   13    0   17    1    1    1]\n",
      " [  50   15 3023   39  581    1  452    0   39    0]\n",
      " [ 169   51   24 3636  148    1  157    0   13    1]\n",
      " [  11    8  386  153 3178    1  437    1   25    0]\n",
      " [   3    1    0    1    0 3907    0  196   19   73]\n",
      " [ 684   11  519  167  430    0 2311    1   76    1]\n",
      " [   0    0    0    0    0  151    0 3867    8  174]\n",
      " [  15    4   20   36    7   26  109   17 3963    3]\n",
      " [   1    0    1    2    1   64    2  186    6 3937]]\n",
      "              precision    recall  f1-score   support\n",
      "\n",
      " T-shirt/top       0.78      0.82      0.80      4200\n",
      "     Trouser       0.97      0.96      0.97      4200\n",
      "    Pullover       0.74      0.72      0.73      4200\n",
      "       Dress       0.83      0.87      0.85      4200\n",
      "        Coat       0.73      0.76      0.74      4200\n",
      "      Sandal       0.94      0.93      0.93      4200\n",
      "       Shirt       0.60      0.55      0.58      4200\n",
      "     Sneaker       0.91      0.92      0.91      4200\n",
      "         Bag       0.94      0.94      0.94      4200\n",
      "  Ankle boot       0.94      0.94      0.94      4200\n",
      "\n",
      "    accuracy                           0.84     42000\n",
      "   macro avg       0.84      0.84      0.84     42000\n",
      "weighted avg       0.84      0.84      0.84     42000\n",
      "\n",
      "----------------Validation set----------------\n",
      "Accuracy: 0.843\n",
      "Precision: 0.842\n",
      "Recall: 0.843\n",
      "Confusion Matrix:\n",
      " [[1500    3   22  107    8    1  135    0   24    0]\n",
      " [   6 1720    6   51    6    1   10    0    0    0]\n",
      " [  27   10 1288   16  247    0  193    0   19    0]\n",
      " [  75   33   19 1532   67    0   64    2    8    0]\n",
      " [   4    2  169   52 1358    0  204    1   10    0]\n",
      " [   0    1    1    0    0 1679    1   69   13   36]\n",
      " [ 268    4  211   65  166    0 1049    0   37    0]\n",
      " [   0    0    0    0    0   80    0 1639    3   78]\n",
      " [   2    2   10   14    3    8   40   10 1710    1]\n",
      " [   0    0    0    0    0   30    1   72    1 1696]]\n",
      "              precision    recall  f1-score   support\n",
      "\n",
      " T-shirt/top       0.80      0.83      0.81      1800\n",
      "     Trouser       0.97      0.96      0.96      1800\n",
      "    Pullover       0.75      0.72      0.73      1800\n",
      "       Dress       0.83      0.85      0.84      1800\n",
      "        Coat       0.73      0.75      0.74      1800\n",
      "      Sandal       0.93      0.93      0.93      1800\n",
      "       Shirt       0.62      0.58      0.60      1800\n",
      "     Sneaker       0.91      0.91      0.91      1800\n",
      "         Bag       0.94      0.95      0.94      1800\n",
      "  Ankle boot       0.94      0.94      0.94      1800\n",
      "\n",
      "    accuracy                           0.84     18000\n",
      "   macro avg       0.84      0.84      0.84     18000\n",
      "weighted avg       0.84      0.84      0.84     18000\n",
      "\n"
     ]
    }
   ],
   "source": [
    "# solver 'lbfgs' voi ty le 7/3\n",
    "train_predict_evaluate_each_parameter(X_train1, y_train1, X_val1, y_val1, solver='lbfgs', verbose=1)"
   ]
  },
  {
   "cell_type": "code",
   "execution_count": null,
   "metadata": {
    "colab": {
     "base_uri": "https://localhost:8080/"
    },
    "id": "21UO4xlYo_o9",
    "outputId": "564f2acc-c990-43b1-8821-5f22df99bba8"
   },
   "outputs": [
    {
     "name": "stderr",
     "output_type": "stream",
     "text": [
      "/usr/local/lib/python3.10/dist-packages/sklearn/linear_model/_logistic.py:1247: FutureWarning: 'multi_class' was deprecated in version 1.5 and will be removed in 1.7. From then on, it will always use 'multinomial'. Leave it to its default value to avoid this warning.\n",
      "  warnings.warn(\n"
     ]
    },
    {
     "name": "stdout",
     "output_type": "stream",
     "text": [
      "convergence after 315 epochs took 42 seconds\n",
      "----------------Trainning set----------------\n",
      "Accuracy: 0.840\n",
      "Precision: 0.839\n",
      "Recall: 0.840\n",
      "Confusion Matrix:\n",
      " [[3450   18   66  240   24    8  339    0   53    2]\n",
      " [  15 4035   24   93   13    0   17    1    1    1]\n",
      " [  49   15 3021   38  582    1  455    0   39    0]\n",
      " [ 170   52   24 3632  149    1  157    1   13    1]\n",
      " [  11    8  385  152 3178    1  439    1   25    0]\n",
      " [   3    1    0    2    0 3899    0  196   25   74]\n",
      " [ 683   12  520  166  427    0 2313    2   76    1]\n",
      " [   0    0    0    0    0  156    0 3855    9  180]\n",
      " [  16    4   20   36    7   24  110   18 3961    4]\n",
      " [   1    0    1    1    1   64    2  186    7 3937]]\n",
      "              precision    recall  f1-score   support\n",
      "\n",
      " T-shirt/top       0.78      0.82      0.80      4200\n",
      "     Trouser       0.97      0.96      0.97      4200\n",
      "    Pullover       0.74      0.72      0.73      4200\n",
      "       Dress       0.83      0.86      0.85      4200\n",
      "        Coat       0.73      0.76      0.74      4200\n",
      "      Sandal       0.94      0.93      0.93      4200\n",
      "       Shirt       0.60      0.55      0.58      4200\n",
      "     Sneaker       0.90      0.92      0.91      4200\n",
      "         Bag       0.94      0.94      0.94      4200\n",
      "  Ankle boot       0.94      0.94      0.94      4200\n",
      "\n",
      "    accuracy                           0.84     42000\n",
      "   macro avg       0.84      0.84      0.84     42000\n",
      "weighted avg       0.84      0.84      0.84     42000\n",
      "\n",
      "----------------Validation set----------------\n",
      "Accuracy: 0.843\n",
      "Precision: 0.842\n",
      "Recall: 0.843\n",
      "Confusion Matrix:\n",
      " [[1501    3   23  107    8    1  134    0   23    0]\n",
      " [   6 1720    6   51    6    1   10    0    0    0]\n",
      " [  26   10 1289   16  247    1  193    0   18    0]\n",
      " [  74   33   19 1533   67    0   64    2    8    0]\n",
      " [   4    2  169   52 1357    0  205    1   10    0]\n",
      " [   1    0    1    0    0 1680    1   69   10   38]\n",
      " [ 267    4  211   66  165    0 1050    0   37    0]\n",
      " [   0    0    0    0    0   80    0 1640    1   79]\n",
      " [   2    2   10   16    3    8   39   10 1709    1]\n",
      " [   0    0    0    0    0   31    1   73    1 1694]]\n",
      "              precision    recall  f1-score   support\n",
      "\n",
      " T-shirt/top       0.80      0.83      0.82      1800\n",
      "     Trouser       0.97      0.96      0.96      1800\n",
      "    Pullover       0.75      0.72      0.73      1800\n",
      "       Dress       0.83      0.85      0.84      1800\n",
      "        Coat       0.73      0.75      0.74      1800\n",
      "      Sandal       0.93      0.93      0.93      1800\n",
      "       Shirt       0.62      0.58      0.60      1800\n",
      "     Sneaker       0.91      0.91      0.91      1800\n",
      "         Bag       0.94      0.95      0.94      1800\n",
      "  Ankle boot       0.93      0.94      0.94      1800\n",
      "\n",
      "    accuracy                           0.84     18000\n",
      "   macro avg       0.84      0.84      0.84     18000\n",
      "weighted avg       0.84      0.84      0.84     18000\n",
      "\n"
     ]
    }
   ],
   "source": [
    "# solver 'saga' voi ty le 7/3\n",
    "train_predict_evaluate_each_parameter(X_train1, y_train1, X_val1, y_val1, solver='saga', verbose=1)"
   ]
  },
  {
   "cell_type": "code",
   "execution_count": null,
   "metadata": {
    "colab": {
     "base_uri": "https://localhost:8080/"
    },
    "id": "MCU6pG_6Mv72",
    "outputId": "d0e2e6d7-c279-4f60-cda3-d587457c0c16"
   },
   "outputs": [
    {
     "name": "stderr",
     "output_type": "stream",
     "text": [
      "/usr/local/lib/python3.10/dist-packages/sklearn/linear_model/_logistic.py:1247: FutureWarning: 'multi_class' was deprecated in version 1.5 and will be removed in 1.7. From then on, it will always use 'multinomial'. Leave it to its default value to avoid this warning.\n",
      "  warnings.warn(\n"
     ]
    },
    {
     "name": "stdout",
     "output_type": "stream",
     "text": [
      "convergence after 195 epochs took 16 seconds\n",
      "----------------Trainning set----------------\n",
      "Accuracy: 0.841\n",
      "Precision: 0.839\n",
      "Recall: 0.841\n",
      "Confusion Matrix:\n",
      " [[3451   18   66  238   24    9  339    0   53    2]\n",
      " [  15 4036   23   93   13    0   17    1    1    1]\n",
      " [  50   15 3022   38  581    1  454    0   39    0]\n",
      " [ 169   52   24 3634  148    1  157    1   13    1]\n",
      " [  11    8  385  152 3178    1  439    1   25    0]\n",
      " [   3    1    0    2    0 3903    0  194   23   74]\n",
      " [ 683   11  520  166  428    0 2313    1   77    1]\n",
      " [   0    0    0    0    0  151    0 3865    8  176]\n",
      " [  15    4   20   36    7   26  109   17 3962    4]\n",
      " [   1    0    1    1    1   65    2  185    6 3938]]\n",
      "              precision    recall  f1-score   support\n",
      "\n",
      " T-shirt/top       0.78      0.82      0.80      4200\n",
      "     Trouser       0.97      0.96      0.97      4200\n",
      "    Pullover       0.74      0.72      0.73      4200\n",
      "       Dress       0.83      0.87      0.85      4200\n",
      "        Coat       0.73      0.76      0.74      4200\n",
      "      Sandal       0.94      0.93      0.93      4200\n",
      "       Shirt       0.60      0.55      0.58      4200\n",
      "     Sneaker       0.91      0.92      0.91      4200\n",
      "         Bag       0.94      0.94      0.94      4200\n",
      "  Ankle boot       0.94      0.94      0.94      4200\n",
      "\n",
      "    accuracy                           0.84     42000\n",
      "   macro avg       0.84      0.84      0.84     42000\n",
      "weighted avg       0.84      0.84      0.84     42000\n",
      "\n",
      "----------------Validation set----------------\n",
      "Accuracy: 0.843\n",
      "Precision: 0.842\n",
      "Recall: 0.843\n",
      "Confusion Matrix:\n",
      " [[1501    3   23  107    8    1  134    0   23    0]\n",
      " [   6 1720    6   51    6    1   10    0    0    0]\n",
      " [  26   10 1289   16  247    0  193    0   19    0]\n",
      " [  74   33   19 1533   67    0   64    2    8    0]\n",
      " [   4    2  169   52 1357    0  205    1   10    0]\n",
      " [   1    0    1    0    0 1681    1   68   11   37]\n",
      " [ 268    4  211   66  165    0 1049    0   37    0]\n",
      " [   0    0    0    0    0   81    0 1638    1   80]\n",
      " [   2    2   10   16    3    8   40   10 1708    1]\n",
      " [   0    0    0    0    0   30    1   73    1 1695]]\n",
      "              precision    recall  f1-score   support\n",
      "\n",
      " T-shirt/top       0.80      0.83      0.82      1800\n",
      "     Trouser       0.97      0.96      0.96      1800\n",
      "    Pullover       0.75      0.72      0.73      1800\n",
      "       Dress       0.83      0.85      0.84      1800\n",
      "        Coat       0.73      0.75      0.74      1800\n",
      "      Sandal       0.93      0.93      0.93      1800\n",
      "       Shirt       0.62      0.58      0.60      1800\n",
      "     Sneaker       0.91      0.91      0.91      1800\n",
      "         Bag       0.94      0.95      0.94      1800\n",
      "  Ankle boot       0.93      0.94      0.94      1800\n",
      "\n",
      "    accuracy                           0.84     18000\n",
      "   macro avg       0.84      0.84      0.84     18000\n",
      "weighted avg       0.84      0.84      0.84     18000\n",
      "\n"
     ]
    }
   ],
   "source": [
    "# solver 'sag' voi ty le 7/3\n",
    "train_predict_evaluate_each_parameter(X_train1, y_train1, X_val1, y_val1, solver='sag', verbose=1)"
   ]
  },
  {
   "cell_type": "markdown",
   "metadata": {
    "id": "D9W-x_oCpNOI"
   },
   "source": [
    "Ty le 6/4"
   ]
  },
  {
   "cell_type": "code",
   "execution_count": null,
   "metadata": {
    "colab": {
     "base_uri": "https://localhost:8080/"
    },
    "id": "kxbH5_S5pOnl",
    "outputId": "1cfc72ee-6eb4-4d49-dae5-f32b1b2100c8"
   },
   "outputs": [
    {
     "data": {
      "text/plain": [
       "((36000, 46), (24000, 46), (10000, 46))"
      ]
     },
     "execution_count": 5,
     "metadata": {},
     "output_type": "execute_result"
    }
   ],
   "source": [
    "# Với tỷ lệ train/validation : 6/4\n",
    "X_train2, X_val2, y_train2, y_val2, X_test2 = create_data(X=X, y=y, X_test=X_test, n_components=46, test_size=0.4)\n",
    "X_train2.shape, X_val2.shape, X_test2.shape"
   ]
  },
  {
   "cell_type": "code",
   "execution_count": null,
   "metadata": {
    "colab": {
     "base_uri": "https://localhost:8080/"
    },
    "id": "Z_83_WRlpmt9",
    "outputId": "d00d37ab-fb5e-495b-e8d6-0bc6a64c32e2"
   },
   "outputs": [
    {
     "name": "stderr",
     "output_type": "stream",
     "text": [
      "/usr/local/lib/python3.10/dist-packages/sklearn/linear_model/_logistic.py:1247: FutureWarning: 'multi_class' was deprecated in version 1.5 and will be removed in 1.7. From then on, it will always use 'multinomial'. Leave it to its default value to avoid this warning.\n",
      "  warnings.warn(\n"
     ]
    },
    {
     "name": "stdout",
     "output_type": "stream",
     "text": [
      "----------------Trainning set----------------\n",
      "Accuracy: 0.840\n",
      "Precision: 0.839\n",
      "Recall: 0.840\n",
      "Confusion Matrix:\n",
      " [[2962   15   58  202   18    8  292    0   43    2]\n",
      " [  13 3470   14   77    9    0   15    1    0    1]\n",
      " [  44   12 2576   31  494    1  403    0   39    0]\n",
      " [ 142   46   21 3111  126    1  140    1   12    0]\n",
      " [  11    6  334  135 2709    1  382    1   21    0]\n",
      " [   3    1    0    1    0 3348    0  174   13   60]\n",
      " [ 592    8  442  138  377    0 1979    1   62    1]\n",
      " [   0    1    0    0    0  133    0 3314    6  146]\n",
      " [  13    3   17   32    5   17   94   13 3402    4]\n",
      " [   1    0    1    2    1   54    1  162    5 3373]]\n",
      "              precision    recall  f1-score   support\n",
      "\n",
      " T-shirt/top       0.78      0.82      0.80      3600\n",
      "     Trouser       0.97      0.96      0.97      3600\n",
      "    Pullover       0.74      0.72      0.73      3600\n",
      "       Dress       0.83      0.86      0.85      3600\n",
      "        Coat       0.72      0.75      0.74      3600\n",
      "      Sandal       0.94      0.93      0.93      3600\n",
      "       Shirt       0.60      0.55      0.57      3600\n",
      "     Sneaker       0.90      0.92      0.91      3600\n",
      "         Bag       0.94      0.94      0.94      3600\n",
      "  Ankle boot       0.94      0.94      0.94      3600\n",
      "\n",
      "    accuracy                           0.84     36000\n",
      "   macro avg       0.84      0.84      0.84     36000\n",
      "weighted avg       0.84      0.84      0.84     36000\n",
      "\n",
      "----------------Validation set----------------\n",
      "Accuracy: 0.843\n",
      "Precision: 0.842\n",
      "Recall: 0.843\n",
      "Confusion Matrix:\n",
      " [[1976    4   30  147   15    1  192    1   34    0]\n",
      " [   6 2288   13   70    9    1   12    0    1    0]\n",
      " [  33   12 1733   22  339    0  240    0   21    0]\n",
      " [  95   39   25 2057   92    0   79    3    9    1]\n",
      " [   5    4  227   70 1830    0  251    1   12    0]\n",
      " [   0    1    1    0    0 2227    1  100   18   52]\n",
      " [ 349    4  291   83  227    0 1395    1   50    0]\n",
      " [   0    0    0    0    0   93    0 2200    3  104]\n",
      " [   5    2   14   19    6   12   57   11 2268    6]\n",
      " [   0    0    0    0    0   34    1  101    1 2263]]\n",
      "              precision    recall  f1-score   support\n",
      "\n",
      " T-shirt/top       0.80      0.82      0.81      2400\n",
      "     Trouser       0.97      0.95      0.96      2400\n",
      "    Pullover       0.74      0.72      0.73      2400\n",
      "       Dress       0.83      0.86      0.85      2400\n",
      "        Coat       0.73      0.76      0.74      2400\n",
      "      Sandal       0.94      0.93      0.93      2400\n",
      "       Shirt       0.63      0.58      0.60      2400\n",
      "     Sneaker       0.91      0.92      0.91      2400\n",
      "         Bag       0.94      0.94      0.94      2400\n",
      "  Ankle boot       0.93      0.94      0.94      2400\n",
      "\n",
      "    accuracy                           0.84     24000\n",
      "   macro avg       0.84      0.84      0.84     24000\n",
      "weighted avg       0.84      0.84      0.84     24000\n",
      "\n"
     ]
    }
   ],
   "source": [
    "# solver 'lbfgs' voi ty le 6/4\n",
    "train_predict_evaluate_each_parameter(X_train2, y_train2, X_val2, y_val2, solver='lbfgs', verbose=1)"
   ]
  },
  {
   "cell_type": "code",
   "execution_count": null,
   "metadata": {
    "colab": {
     "base_uri": "https://localhost:8080/"
    },
    "id": "pG0oCm_apo3a",
    "outputId": "e2e4366e-d7cb-4d47-c679-98fbad047750"
   },
   "outputs": [
    {
     "name": "stderr",
     "output_type": "stream",
     "text": [
      "/usr/local/lib/python3.10/dist-packages/sklearn/linear_model/_logistic.py:1247: FutureWarning: 'multi_class' was deprecated in version 1.5 and will be removed in 1.7. From then on, it will always use 'multinomial'. Leave it to its default value to avoid this warning.\n",
      "  warnings.warn(\n"
     ]
    },
    {
     "name": "stdout",
     "output_type": "stream",
     "text": [
      "convergence after 317 epochs took 32 seconds\n",
      "----------------Trainning set----------------\n",
      "Accuracy: 0.840\n",
      "Precision: 0.838\n",
      "Recall: 0.840\n",
      "Confusion Matrix:\n",
      " [[2962   15   59  202   17    8  292    0   43    2]\n",
      " [  12 3471   15   75    9    0   15    2    0    1]\n",
      " [  44   12 2573   31  497    1  403    0   39    0]\n",
      " [ 143   47   21 3110  125    1  140    1   12    0]\n",
      " [  11    6  334  134 2709    1  383    1   21    0]\n",
      " [   3    1    0    1    0 3343    0  171   18   63]\n",
      " [ 591   10  441  140  374    0 1977    1   65    1]\n",
      " [   0    1    0    0    0  132    0 3313    7  147]\n",
      " [  13    3   17   32    5   17   95   14 3400    4]\n",
      " [   1    0    1    1    1   53    2  164    5 3372]]\n",
      "              precision    recall  f1-score   support\n",
      "\n",
      " T-shirt/top       0.78      0.82      0.80      3600\n",
      "     Trouser       0.97      0.96      0.97      3600\n",
      "    Pullover       0.74      0.71      0.73      3600\n",
      "       Dress       0.83      0.86      0.85      3600\n",
      "        Coat       0.72      0.75      0.74      3600\n",
      "      Sandal       0.94      0.93      0.93      3600\n",
      "       Shirt       0.60      0.55      0.57      3600\n",
      "     Sneaker       0.90      0.92      0.91      3600\n",
      "         Bag       0.94      0.94      0.94      3600\n",
      "  Ankle boot       0.94      0.94      0.94      3600\n",
      "\n",
      "    accuracy                           0.84     36000\n",
      "   macro avg       0.84      0.84      0.84     36000\n",
      "weighted avg       0.84      0.84      0.84     36000\n",
      "\n",
      "----------------Validation set----------------\n",
      "Accuracy: 0.843\n",
      "Precision: 0.842\n",
      "Recall: 0.843\n",
      "Confusion Matrix:\n",
      " [[1975    4   30  146   15    2  193    1   34    0]\n",
      " [   5 2288   13   70    9    1   12    0    1    1]\n",
      " [  31   11 1733   23  340    0  240    0   21    1]\n",
      " [  95   40   25 2055   92    0   80    3    9    1]\n",
      " [   5    4  226   70 1830    0  252    1   12    0]\n",
      " [   0    0    1    0    0 2228    1  101   15   54]\n",
      " [ 353    4  290   83  228    0 1392    1   49    0]\n",
      " [   0    0    0    0    0   95    0 2200    2  103]\n",
      " [   5    2   14   19    6   13   54   13 2268    6]\n",
      " [   0    0    0    0    0   39    1  101    1 2258]]\n",
      "              precision    recall  f1-score   support\n",
      "\n",
      " T-shirt/top       0.80      0.82      0.81      2400\n",
      "     Trouser       0.97      0.95      0.96      2400\n",
      "    Pullover       0.74      0.72      0.73      2400\n",
      "       Dress       0.83      0.86      0.84      2400\n",
      "        Coat       0.73      0.76      0.74      2400\n",
      "      Sandal       0.94      0.93      0.93      2400\n",
      "       Shirt       0.63      0.58      0.60      2400\n",
      "     Sneaker       0.91      0.92      0.91      2400\n",
      "         Bag       0.94      0.94      0.94      2400\n",
      "  Ankle boot       0.93      0.94      0.94      2400\n",
      "\n",
      "    accuracy                           0.84     24000\n",
      "   macro avg       0.84      0.84      0.84     24000\n",
      "weighted avg       0.84      0.84      0.84     24000\n",
      "\n"
     ]
    }
   ],
   "source": [
    "# solver 'saga' voi ty le 6/4\n",
    "train_predict_evaluate_each_parameter(X_train2, y_train2, X_val2, y_val2, solver='saga', verbose=1)"
   ]
  },
  {
   "cell_type": "code",
   "execution_count": null,
   "metadata": {
    "colab": {
     "base_uri": "https://localhost:8080/"
    },
    "id": "PfZkZPqCcUfy",
    "outputId": "b82a71fe-43b0-4ff7-c879-65a57a4be074"
   },
   "outputs": [
    {
     "name": "stderr",
     "output_type": "stream",
     "text": [
      "/usr/local/lib/python3.10/dist-packages/sklearn/linear_model/_logistic.py:1247: FutureWarning: 'multi_class' was deprecated in version 1.5 and will be removed in 1.7. From then on, it will always use 'multinomial'. Leave it to its default value to avoid this warning.\n",
      "  warnings.warn(\n"
     ]
    },
    {
     "name": "stdout",
     "output_type": "stream",
     "text": [
      "convergence after 222 epochs took 20 seconds\n",
      "----------------Trainning set----------------\n",
      "Accuracy: 0.840\n",
      "Precision: 0.839\n",
      "Recall: 0.840\n",
      "Confusion Matrix:\n",
      " [[2962   15   59  202   17    8  292    0   43    2]\n",
      " [  13 3471   15   75    9    0   15    1    0    1]\n",
      " [  44   12 2574   31  496    1  403    0   39    0]\n",
      " [ 143   47   21 3110  125    1  140    1   12    0]\n",
      " [  11    6  334  134 2711    1  381    1   21    0]\n",
      " [   3    1    0    1    0 3346    0  172   15   62]\n",
      " [ 591   10  439  141  375    0 1977    1   65    1]\n",
      " [   0    1    0    0    0  132    0 3316    6  145]\n",
      " [  13    3   17   32    5   17   94   14 3401    4]\n",
      " [   1    0    1    1    1   54    2  162    5 3373]]\n",
      "              precision    recall  f1-score   support\n",
      "\n",
      " T-shirt/top       0.78      0.82      0.80      3600\n",
      "     Trouser       0.97      0.96      0.97      3600\n",
      "    Pullover       0.74      0.71      0.73      3600\n",
      "       Dress       0.83      0.86      0.85      3600\n",
      "        Coat       0.73      0.75      0.74      3600\n",
      "      Sandal       0.94      0.93      0.93      3600\n",
      "       Shirt       0.60      0.55      0.57      3600\n",
      "     Sneaker       0.90      0.92      0.91      3600\n",
      "         Bag       0.94      0.94      0.94      3600\n",
      "  Ankle boot       0.94      0.94      0.94      3600\n",
      "\n",
      "    accuracy                           0.84     36000\n",
      "   macro avg       0.84      0.84      0.84     36000\n",
      "weighted avg       0.84      0.84      0.84     36000\n",
      "\n",
      "----------------Validation set----------------\n",
      "Accuracy: 0.843\n",
      "Precision: 0.842\n",
      "Recall: 0.843\n",
      "Confusion Matrix:\n",
      " [[1977    4   30  146   15    1  192    1   34    0]\n",
      " [   7 2287   13   70    9    1   12    0    1    0]\n",
      " [  32   11 1732   23  341    0  240    0   21    0]\n",
      " [  95   40   25 2055   92    0   80    3    9    1]\n",
      " [   5    4  226   70 1830    0  252    1   12    0]\n",
      " [   0    0    1    0    0 2228    1  102   16   52]\n",
      " [ 351    4  290   83  228    0 1393    1   50    0]\n",
      " [   0    0    0    0    0   96    0 2199    2  103]\n",
      " [   5    2   14   19    7   13   55   11 2268    6]\n",
      " [   0    0    0    0    0   36    1  101    1 2261]]\n",
      "              precision    recall  f1-score   support\n",
      "\n",
      " T-shirt/top       0.80      0.82      0.81      2400\n",
      "     Trouser       0.97      0.95      0.96      2400\n",
      "    Pullover       0.74      0.72      0.73      2400\n",
      "       Dress       0.83      0.86      0.84      2400\n",
      "        Coat       0.73      0.76      0.74      2400\n",
      "      Sandal       0.94      0.93      0.93      2400\n",
      "       Shirt       0.63      0.58      0.60      2400\n",
      "     Sneaker       0.91      0.92      0.91      2400\n",
      "         Bag       0.94      0.94      0.94      2400\n",
      "  Ankle boot       0.93      0.94      0.94      2400\n",
      "\n",
      "    accuracy                           0.84     24000\n",
      "   macro avg       0.84      0.84      0.84     24000\n",
      "weighted avg       0.84      0.84      0.84     24000\n",
      "\n"
     ]
    }
   ],
   "source": [
    "# solver 'sag' voi ty le 6/4\n",
    "train_predict_evaluate_each_parameter(X_train2, y_train2, X_val2, y_val2, solver='sag', verbose=1)"
   ]
  },
  {
   "cell_type": "markdown",
   "metadata": {
    "id": "RdPyD5sFnNP1"
   },
   "source": [
    "tách ra"
   ]
  },
  {
   "cell_type": "code",
   "execution_count": null,
   "metadata": {
    "colab": {
     "base_uri": "https://localhost:8080/"
    },
    "collapsed": true,
    "id": "Bq14lfzwgRPD",
    "jupyter": {
     "outputs_hidden": true
    },
    "outputId": "594eefb4-09f9-4ac3-fa56-a7329065ae15"
   },
   "outputs": [
    {
     "name": "stderr",
     "output_type": "stream",
     "text": [
      "/usr/local/lib/python3.10/dist-packages/sklearn/linear_model/_logistic.py:1247: FutureWarning: 'multi_class' was deprecated in version 1.5 and will be removed in 1.7. From then on, it will always use 'multinomial'. Leave it to its default value to avoid this warning.\n",
      "  warnings.warn(\n"
     ]
    },
    {
     "name": "stdout",
     "output_type": "stream",
     "text": [
      "----------------Trainning set----------------\n",
      "Accuracy: 0.853\n",
      "Precision: 0.852\n",
      "Recall: 0.853\n",
      "Confusion Matrix:\n",
      " [[4635   16   94  268   26   12  487    0   59    3]\n",
      " [  15 5399   30  120   11    0   21    1    2    1]\n",
      " [  71   16 4154   63  706    1  546    1   41    1]\n",
      " [ 207   60   62 4904  176    2  171    0   18    0]\n",
      " [  10    9  505  213 4318    1  518    1   25    0]\n",
      " [   1    1    1    3    0 5264    1  238   20   71]\n",
      " [ 841   10  625  191  563    1 3261    0  108    0]\n",
      " [   0    0    0    1    0  191    0 5218    5  185]\n",
      " [  25    6   22   45   16   18  118   24 5323    3]\n",
      " [   0    1    0    4    0   78    0  212    5 5300]]\n",
      "              precision    recall  f1-score   support\n",
      "\n",
      " T-shirt/top       0.80      0.83      0.81      5600\n",
      "     Trouser       0.98      0.96      0.97      5600\n",
      "    Pullover       0.76      0.74      0.75      5600\n",
      "       Dress       0.84      0.88      0.86      5600\n",
      "        Coat       0.74      0.77      0.76      5600\n",
      "      Sandal       0.95      0.94      0.94      5600\n",
      "       Shirt       0.64      0.58      0.61      5600\n",
      "     Sneaker       0.92      0.93      0.92      5600\n",
      "         Bag       0.95      0.95      0.95      5600\n",
      "  Ankle boot       0.95      0.95      0.95      5600\n",
      "\n",
      "    accuracy                           0.85     56000\n",
      "   macro avg       0.85      0.85      0.85     56000\n",
      "weighted avg       0.85      0.85      0.85     56000\n",
      "\n",
      "----------------Testing set----------------\n",
      "Accuracy: 0.844\n",
      "Precision: 0.843\n",
      "Recall: 0.844\n",
      "Confusion Matrix:\n",
      " [[1159    5   25   67    6    1  117    0   20    0]\n",
      " [   2 1341    6   43    4    1    2    0    1    0]\n",
      " [  25    6 1006   16  198    1  137    0   10    1]\n",
      " [  55   21   16 1205   40    0   52    0   10    1]\n",
      " [   1    1  116   59 1089    0  127    0    6    1]\n",
      " [   1    0    0    0    0 1301    0   69    4   25]\n",
      " [ 213    5  178   50  169    1  771    1   12    0]\n",
      " [   0    0    0    0    0   50    0 1295    2   53]\n",
      " [   3    2    7   11    6    8   35    5 1322    1]\n",
      " [   0    1    0    0    0   24    0   47    1 1327]]\n",
      "              precision    recall  f1-score   support\n",
      "\n",
      " T-shirt/top       0.79      0.83      0.81      1400\n",
      "     Trouser       0.97      0.96      0.96      1400\n",
      "    Pullover       0.74      0.72      0.73      1400\n",
      "       Dress       0.83      0.86      0.85      1400\n",
      "        Coat       0.72      0.78      0.75      1400\n",
      "      Sandal       0.94      0.93      0.93      1400\n",
      "       Shirt       0.62      0.55      0.58      1400\n",
      "     Sneaker       0.91      0.93      0.92      1400\n",
      "         Bag       0.95      0.94      0.95      1400\n",
      "  Ankle boot       0.94      0.95      0.94      1400\n",
      "\n",
      "    accuracy                           0.84     14000\n",
      "   macro avg       0.84      0.84      0.84     14000\n",
      "weighted avg       0.84      0.84      0.84     14000\n",
      "\n"
     ]
    }
   ],
   "source": [
    "X_train, X_test, y_train, y_test = create_data(X, y, n_components=0.9, test_size=0.2)\n",
    "train_predict_evaluate_each_param(X_train, y_train, X_test, y_test, solver='lbfgs', verbose=1)"
   ]
  },
  {
   "cell_type": "code",
   "execution_count": null,
   "metadata": {
    "colab": {
     "base_uri": "https://localhost:8080/"
    },
    "collapsed": true,
    "id": "9_O6t3EbsUSL",
    "jupyter": {
     "outputs_hidden": true
    },
    "outputId": "19770b31-863e-4719-f993-e7b75ae08145"
   },
   "outputs": [
    {
     "name": "stderr",
     "output_type": "stream",
     "text": [
      "/usr/local/lib/python3.10/dist-packages/sklearn/linear_model/_logistic.py:1247: FutureWarning: 'multi_class' was deprecated in version 1.5 and will be removed in 1.7. From then on, it will always use 'multinomial'. Leave it to its default value to avoid this warning.\n",
      "  warnings.warn(\n"
     ]
    },
    {
     "name": "stdout",
     "output_type": "stream",
     "text": [
      "----------------Trainning set----------------\n",
      "Accuracy: 0.853\n",
      "Precision: 0.852\n",
      "Recall: 0.853\n",
      "Confusion Matrix:\n",
      " [[4055   15   75  243   23    9  426    0   52    2]\n",
      " [  11 4730   23   98   14    0   21    1    2    0]\n",
      " [  60   17 3645   53  625    0  472    1   27    0]\n",
      " [ 183   61   55 4282  158    1  144    0   16    0]\n",
      " [  10    7  454  185 3759    2  456    0   27    0]\n",
      " [   1    0    1    3    0 4608    0  211   12   64]\n",
      " [ 732    9  537  164  494    1 2868    0   95    0]\n",
      " [   0    0    0    0    0  167    0 4562    6  165]\n",
      " [  17    7   20   40   15   13  100   21 4665    2]\n",
      " [   0    0    0    2    0   78    0  190    4 4626]]\n",
      "              precision    recall  f1-score   support\n",
      "\n",
      " T-shirt/top       0.80      0.83      0.81      4900\n",
      "     Trouser       0.98      0.97      0.97      4900\n",
      "    Pullover       0.76      0.74      0.75      4900\n",
      "       Dress       0.84      0.87      0.86      4900\n",
      "        Coat       0.74      0.77      0.75      4900\n",
      "      Sandal       0.94      0.94      0.94      4900\n",
      "       Shirt       0.64      0.59      0.61      4900\n",
      "     Sneaker       0.91      0.93      0.92      4900\n",
      "         Bag       0.95      0.95      0.95      4900\n",
      "  Ankle boot       0.95      0.94      0.95      4900\n",
      "\n",
      "    accuracy                           0.85     49000\n",
      "   macro avg       0.85      0.85      0.85     49000\n",
      "weighted avg       0.85      0.85      0.85     49000\n",
      "\n",
      "----------------Testing set----------------\n",
      "Accuracy: 0.846\n",
      "Precision: 0.844\n",
      "Recall: 0.846\n",
      "Confusion Matrix:\n",
      " [[1725    8   40  115    8    2  176    0   26    0]\n",
      " [   5 2014   11   61    3    1    3    0    2    0]\n",
      " [  33   11 1524   28  286    0  195    0   21    2]\n",
      " [  74   31   25 1824   59    0   71    0   15    1]\n",
      " [   1    2  171   87 1626    0  204    0    9    0]\n",
      " [   1    1    0    0    0 1959    1  100   13   25]\n",
      " [ 319    6  263   82  224    1 1177    1   27    0]\n",
      " [   0    0    0    1    0   71    0 1947    6   75]\n",
      " [   9    2   13   19    7   12   51    8 1978    1]\n",
      " [   0    2    0    0    1   33    2   71    2 1989]]\n",
      "              precision    recall  f1-score   support\n",
      "\n",
      " T-shirt/top       0.80      0.82      0.81      2100\n",
      "     Trouser       0.97      0.96      0.96      2100\n",
      "    Pullover       0.74      0.73      0.73      2100\n",
      "       Dress       0.82      0.87      0.85      2100\n",
      "        Coat       0.73      0.77      0.75      2100\n",
      "      Sandal       0.94      0.93      0.94      2100\n",
      "       Shirt       0.63      0.56      0.59      2100\n",
      "     Sneaker       0.92      0.93      0.92      2100\n",
      "         Bag       0.94      0.94      0.94      2100\n",
      "  Ankle boot       0.95      0.95      0.95      2100\n",
      "\n",
      "    accuracy                           0.85     21000\n",
      "   macro avg       0.84      0.85      0.84     21000\n",
      "weighted avg       0.84      0.85      0.84     21000\n",
      "\n"
     ]
    }
   ],
   "source": [
    "X_train, X_test, y_train, y_test = create_data(X, y, n_components=0.9, test_size=0.3)\n",
    "train_predict_evaluate_each_param(X_train, y_train, X_test, y_test, solver='lbfgs', verbose=1)"
   ]
  },
  {
   "cell_type": "code",
   "execution_count": null,
   "metadata": {
    "id": "xNeqeToQsXZD"
   },
   "outputs": [],
   "source": [
    "X_train, X_test, y_train, y_test = create_data(X, y, n_components=0.9, test_size=0.4)\n",
    "train_predict_evaluate_each_param(X_train, y_train, X_test, y_test, solver='lbfgs', verbose=1)"
   ]
  },
  {
   "cell_type": "code",
   "execution_count": null,
   "metadata": {
    "colab": {
     "base_uri": "https://localhost:8080/"
    },
    "collapsed": true,
    "id": "Koay2go6KU6U",
    "jupyter": {
     "outputs_hidden": true
    },
    "outputId": "6f7d1588-9e97-4fec-da13-afc451078b05"
   },
   "outputs": [
    {
     "name": "stderr",
     "output_type": "stream",
     "text": [
      "/usr/local/lib/python3.10/dist-packages/sklearn/linear_model/_logistic.py:1247: FutureWarning: 'multi_class' was deprecated in version 1.5 and will be removed in 1.7. From then on, it will always use 'multinomial'. Leave it to its default value to avoid this warning.\n",
      "  warnings.warn(\n"
     ]
    },
    {
     "name": "stdout",
     "output_type": "stream",
     "text": [
      "convergence after 936 epochs took 1982 seconds\n",
      "----------------Trainning set----------------\n",
      "Accuracy: 0.885\n",
      "Precision: 0.884\n",
      "Recall: 0.885\n",
      "Confusion Matrix:\n",
      " [[4795   11   74  214   23    1  441    0   41    0]\n",
      " [  13 5483    8   79    7    0    9    0    1    0]\n",
      " [  77    6 4411   48  588    0  449    0   21    0]\n",
      " [ 159   37   41 5074  151    0  123    0   15    0]\n",
      " [  14    5  470  160 4544    0  387    0   20    0]\n",
      " [   0    0    0    1    0 5423    1  148    3   24]\n",
      " [ 714   10  549  163  445    0 3651    0   68    0]\n",
      " [   0    0    0    0    0  132    0 5342    5  121]\n",
      " [  11    2   17   28   13    7   71    8 5443    0]\n",
      " [   0    0    0    0    0   33    0  158    3 5406]]\n",
      "              precision    recall  f1-score   support\n",
      "\n",
      " T-shirt/top       0.83      0.86      0.84      5600\n",
      "     Trouser       0.99      0.98      0.98      5600\n",
      "    Pullover       0.79      0.79      0.79      5600\n",
      "       Dress       0.88      0.91      0.89      5600\n",
      "        Coat       0.79      0.81      0.80      5600\n",
      "      Sandal       0.97      0.97      0.97      5600\n",
      "       Shirt       0.71      0.65      0.68      5600\n",
      "     Sneaker       0.94      0.95      0.95      5600\n",
      "         Bag       0.97      0.97      0.97      5600\n",
      "  Ankle boot       0.97      0.97      0.97      5600\n",
      "\n",
      "    accuracy                           0.89     56000\n",
      "   macro avg       0.88      0.89      0.88     56000\n",
      "weighted avg       0.88      0.89      0.88     56000\n",
      "\n",
      "----------------Testing set----------------\n",
      "Accuracy: 0.845\n",
      "Precision: 0.843\n",
      "Recall: 0.845\n",
      "Confusion Matrix:\n",
      " [[1149    7   27   68    8    1  119    0   21    0]\n",
      " [   1 1347    5   36    6    1    2    0    2    0]\n",
      " [  30    5 1029   11  173    1  139    1   11    0]\n",
      " [  58   27   19 1197   44    0   43    0   12    0]\n",
      " [   3    0  107   48 1116    0  119    0    6    1]\n",
      " [   0    2    0    1    0 1300    0   63    7   27]\n",
      " [ 205    4  180   57  163    2  767    0   21    1]\n",
      " [   0    0    1    0    0   49    0 1300    1   49]\n",
      " [  17    0   12   15    5   14   22    6 1305    4]\n",
      " [   0    1    0    0    0   30    0   51    3 1315]]\n",
      "              precision    recall  f1-score   support\n",
      "\n",
      " T-shirt/top       0.79      0.82      0.80      1400\n",
      "     Trouser       0.97      0.96      0.96      1400\n",
      "    Pullover       0.75      0.73      0.74      1400\n",
      "       Dress       0.84      0.85      0.85      1400\n",
      "        Coat       0.74      0.80      0.77      1400\n",
      "      Sandal       0.93      0.93      0.93      1400\n",
      "       Shirt       0.63      0.55      0.59      1400\n",
      "     Sneaker       0.91      0.93      0.92      1400\n",
      "         Bag       0.94      0.93      0.94      1400\n",
      "  Ankle boot       0.94      0.94      0.94      1400\n",
      "\n",
      "    accuracy                           0.84     14000\n",
      "   macro avg       0.84      0.84      0.84     14000\n",
      "weighted avg       0.84      0.84      0.84     14000\n",
      "\n"
     ]
    }
   ],
   "source": [
    "X_train, X_test, y_train, y_test = create_data(X, y, n_components=1, test_size=0.2)\n",
    "train_predict_evaluate_each_param(X_train, y_train, X_test, y_test, solver='sag', verbose=1)"
   ]
  },
  {
   "cell_type": "code",
   "execution_count": null,
   "metadata": {
    "colab": {
     "base_uri": "https://localhost:8080/"
    },
    "collapsed": true,
    "id": "baXgTt26u8DC",
    "jupyter": {
     "outputs_hidden": true
    },
    "outputId": "a612d3af-662e-475e-e56e-5edb9707c334"
   },
   "outputs": [
    {
     "name": "stderr",
     "output_type": "stream",
     "text": [
      "/usr/local/lib/python3.10/dist-packages/sklearn/linear_model/_logistic.py:1247: FutureWarning: 'multi_class' was deprecated in version 1.5 and will be removed in 1.7. From then on, it will always use 'multinomial'. Leave it to its default value to avoid this warning.\n",
      "  warnings.warn(\n"
     ]
    },
    {
     "name": "stdout",
     "output_type": "stream",
     "text": [
      "convergence after 252 epochs took 459 seconds\n",
      "----------------Trainning set----------------\n",
      "Accuracy: 0.873\n",
      "Precision: 0.872\n",
      "Recall: 0.873\n",
      "Confusion Matrix:\n",
      " [[4734   13   78  232   18   11  462    0   50    2]\n",
      " [  16 5443   16   97    9    0   16    1    2    0]\n",
      " [  78    9 4349   53  613    4  460    0   34    0]\n",
      " [ 166   44   44 5032  167    0  128    2   17    0]\n",
      " [  12    6  462  168 4509    1  423    0   19    0]\n",
      " [   1    0    1    3    0 5313    1  201   21   59]\n",
      " [ 749    9  595  164  458    1 3538    0   86    0]\n",
      " [   0    0    0    0    0  157    0 5282    7  154]\n",
      " [  20    3   23   39   18   23   85   26 5358    5]\n",
      " [   0    1    0    2    0   63    0  181    6 5347]]\n",
      "              precision    recall  f1-score   support\n",
      "\n",
      " T-shirt/top       0.82      0.85      0.83      5600\n",
      "     Trouser       0.98      0.97      0.98      5600\n",
      "    Pullover       0.78      0.78      0.78      5600\n",
      "       Dress       0.87      0.90      0.88      5600\n",
      "        Coat       0.78      0.81      0.79      5600\n",
      "      Sandal       0.95      0.95      0.95      5600\n",
      "       Shirt       0.69      0.63      0.66      5600\n",
      "     Sneaker       0.93      0.94      0.94      5600\n",
      "         Bag       0.96      0.96      0.96      5600\n",
      "  Ankle boot       0.96      0.95      0.96      5600\n",
      "\n",
      "    accuracy                           0.87     56000\n",
      "   macro avg       0.87      0.87      0.87     56000\n",
      "weighted avg       0.87      0.87      0.87     56000\n",
      "\n",
      "----------------Testing set----------------\n",
      "Accuracy: 0.853\n",
      "Precision: 0.852\n",
      "Recall: 0.853\n",
      "Confusion Matrix:\n",
      " [[1168    6   22   65    5    2  114    1   17    0]\n",
      " [   2 1342    7   40    5    1    2    0    1    0]\n",
      " [  28    4 1031   12  181    3  131    1    9    0]\n",
      " [  60   17   16 1213   39    0   48    0    7    0]\n",
      " [   3    0   99   45 1127    0  121    0    5    0]\n",
      " [   1    1    0    0    0 1312    1   57    5   23]\n",
      " [ 207    4  168   46  163    0  799    1   11    1]\n",
      " [   0    0    0    0    0   47    0 1305    2   46]\n",
      " [   7    1    9   13    5    9   27    6 1320    3]\n",
      " [   0    1    0    0    0   26    0   42    1 1330]]\n",
      "              precision    recall  f1-score   support\n",
      "\n",
      " T-shirt/top       0.79      0.83      0.81      1400\n",
      "     Trouser       0.98      0.96      0.97      1400\n",
      "    Pullover       0.76      0.74      0.75      1400\n",
      "       Dress       0.85      0.87      0.86      1400\n",
      "        Coat       0.74      0.81      0.77      1400\n",
      "      Sandal       0.94      0.94      0.94      1400\n",
      "       Shirt       0.64      0.57      0.60      1400\n",
      "     Sneaker       0.92      0.93      0.93      1400\n",
      "         Bag       0.96      0.94      0.95      1400\n",
      "  Ankle boot       0.95      0.95      0.95      1400\n",
      "\n",
      "    accuracy                           0.85     14000\n",
      "   macro avg       0.85      0.85      0.85     14000\n",
      "weighted avg       0.85      0.85      0.85     14000\n",
      "\n"
     ]
    }
   ],
   "source": [
    "X_train, X_test, y_train, y_test = create_data(X, y, n_components=1, test_size=0.2)\n",
    "train_predict_evaluate_each_param(X_train, y_train, X_test, y_test, solver='sag', penalty='l2', C=0.1, verbose=1)"
   ]
  },
  {
   "cell_type": "code",
   "execution_count": null,
   "metadata": {
    "colab": {
     "background_save": true,
     "base_uri": "https://localhost:8080/"
    },
    "id": "xEkbIGHpx5Bn",
    "outputId": "6034d385-f1d0-49b8-f6c5-0b4256bb2331"
   },
   "outputs": [
    {
     "name": "stderr",
     "output_type": "stream",
     "text": [
      "/usr/local/lib/python3.10/dist-packages/sklearn/linear_model/_logistic.py:1247: FutureWarning: 'multi_class' was deprecated in version 1.5 and will be removed in 1.7. From then on, it will always use 'multinomial'. Leave it to its default value to avoid this warning.\n",
      "  warnings.warn(\n"
     ]
    },
    {
     "name": "stdout",
     "output_type": "stream",
     "text": [
      "convergence after 927 epochs took 2393 seconds\n",
      "----------------Trainning set----------------\n",
      "Accuracy: 0.884\n",
      "Precision: 0.883\n",
      "Recall: 0.884\n",
      "Confusion Matrix:\n",
      " [[4785   10   80  211   21    4  445    0   43    1]\n",
      " [  14 5477    8   83    7    0   10    0    1    0]\n",
      " [  81    7 4397   50  593    0  451    0   21    0]\n",
      " [ 154   37   43 5075  153    0  122    0   16    0]\n",
      " [  15    5  468  155 4546    0  393    0   18    0]\n",
      " [   0    0    0    1    0 5410    1  155    4   29]\n",
      " [ 714   11  544  162  447    0 3652    0   70    0]\n",
      " [   0    0    0    0    0  133    0 5332    6  129]\n",
      " [  12    2   18   31   15   10   75   12 5423    2]\n",
      " [   0    0    0    1    0   39    0  162    3 5395]]\n",
      "              precision    recall  f1-score   support\n",
      "\n",
      " T-shirt/top       0.83      0.85      0.84      5600\n",
      "     Trouser       0.99      0.98      0.98      5600\n",
      "    Pullover       0.79      0.79      0.79      5600\n",
      "       Dress       0.88      0.91      0.89      5600\n",
      "        Coat       0.79      0.81      0.80      5600\n",
      "      Sandal       0.97      0.97      0.97      5600\n",
      "       Shirt       0.71      0.65      0.68      5600\n",
      "     Sneaker       0.94      0.95      0.95      5600\n",
      "         Bag       0.97      0.97      0.97      5600\n",
      "  Ankle boot       0.97      0.96      0.97      5600\n",
      "\n",
      "    accuracy                           0.88     56000\n",
      "   macro avg       0.88      0.88      0.88     56000\n",
      "weighted avg       0.88      0.88      0.88     56000\n",
      "\n",
      "----------------Testing set----------------\n",
      "Accuracy: 0.847\n",
      "Precision: 0.846\n",
      "Recall: 0.847\n",
      "Confusion Matrix:\n",
      " [[1159    7   23   65    6    1  118    0   21    0]\n",
      " [   1 1347    5   36    6    1    2    0    2    0]\n",
      " [  31    4 1028   11  177    1  135    1   12    0]\n",
      " [  58   25   19 1201   43    0   44    0   10    0]\n",
      " [   4    0  109   46 1116    0  120    0    4    1]\n",
      " [   1    1    0    1    0 1302    1   61    6   27]\n",
      " [ 206    4  176   54  162    2  777    0   18    1]\n",
      " [   0    0    1    0    0   49    0 1300    1   49]\n",
      " [  12    0   11   11    5   11   27    6 1314    3]\n",
      " [   0    1    0    0    0   29    0   49    3 1318]]\n",
      "              precision    recall  f1-score   support\n",
      "\n",
      " T-shirt/top       0.79      0.83      0.81      1400\n",
      "     Trouser       0.97      0.96      0.97      1400\n",
      "    Pullover       0.75      0.73      0.74      1400\n",
      "       Dress       0.84      0.86      0.85      1400\n",
      "        Coat       0.74      0.80      0.77      1400\n",
      "      Sandal       0.93      0.93      0.93      1400\n",
      "       Shirt       0.63      0.56      0.59      1400\n",
      "     Sneaker       0.92      0.93      0.92      1400\n",
      "         Bag       0.94      0.94      0.94      1400\n",
      "  Ankle boot       0.94      0.94      0.94      1400\n",
      "\n",
      "    accuracy                           0.85     14000\n",
      "   macro avg       0.85      0.85      0.85     14000\n",
      "weighted avg       0.85      0.85      0.85     14000\n",
      "\n"
     ]
    }
   ],
   "source": [
    "X_train, X_test, y_train, y_test = create_data(X, y, n_components=1, test_size=0.2)\n",
    "train_predict_evaluate_each_param(X_train, y_train, X_test, y_test, solver='saga', verbose=1)"
   ]
  },
  {
   "cell_type": "code",
   "execution_count": null,
   "metadata": {
    "colab": {
     "base_uri": "https://localhost:8080/",
     "height": 493
    },
    "id": "6N8T-i79IDRn",
    "outputId": "aadec9c3-d185-4313-aa66-d9185aeea9bb"
   },
   "outputs": [
    {
     "name": "stderr",
     "output_type": "stream",
     "text": [
      "WARNING:matplotlib.legend:No artists with labels found to put in legend.  Note that artists whose label start with an underscore are ignored when legend() is called with no argument.\n"
     ]
    },
    {
     "data": {
      "image/png": "[encoded data removed]",
      "text/plain": [
       "<Figure size 640x480 with 1 Axes>"
      ]
     },
     "metadata": {},
     "output_type": "display_data"
    }
   ],
   "source": [
    "mean_score = [0.839650, 0.842200, 0.834967]\n",
    "std_score = [0.002070, 0.000286, 0.007682]\n",
    "C_list = [0.1, 10, 100]\n",
    "\n",
    "plt.xlabel(\"C\")\n",
    "plt.ylabel(\"Mean Accuracy\")\n",
    "plt.xscale('log')\n",
    "plt.title(\"Validation curve for sklearn lbfgs Logistic regression classifier\")\n",
    "plt.plot(C_list, mean_score)\n",
    "plt.legend(loc=\"best\")\n",
    "plt.show()"
   ]
  },
  {
   "cell_type": "code",
   "execution_count": null,
   "metadata": {
    "colab": {
     "base_uri": "https://localhost:8080/",
     "height": 493
    },
    "id": "nUwp53IrLUPj",
    "outputId": "ae0e3321-33b7-49cf-dea9-173d0f1b0886"
   },
   "outputs": [
    {
     "name": "stderr",
     "output_type": "stream",
     "text": [
      "WARNING:matplotlib.legend:No artists with labels found to put in legend.  Note that artists whose label start with an underscore are ignored when legend() is called with no argument.\n"
     ]
    },
    {
     "data": {
      "image/png": "[encoded data removed]",
      "text/plain": [
       "<Figure size 640x480 with 1 Axes>"
      ]
     },
     "metadata": {},
     "output_type": "display_data"
    }
   ],
   "source": [
    "plt.xlabel(\"C\")\n",
    "plt.ylabel(\"Std Accuracy\")\n",
    "plt.xscale('log')\n",
    "plt.title(\"Validation curve for sklearn lbfgs Logistic regression classifier\")\n",
    "plt.plot(C_list, std_score)\n",
    "plt.legend(loc=\"best\")\n",
    "plt.show()"
   ]
  }
 ],
 "metadata": {
  "colab": {
   "provenance": []
  },
  "kernelspec": {
   "display_name": "Python [conda env:base] *",
   "language": "python",
   "name": "conda-base-py"
  },
  "language_info": {
   "codemirror_mode": {
    "name": "ipython",
    "version": 3
   },
   "file_extension": ".py",
   "mimetype": "text/x-python",
   "name": "python",
   "nbconvert_exporter": "python",
   "pygments_lexer": "ipython3",
   "version": "3.12.7"
  }
 },
 "nbformat": 4,
 "nbformat_minor": 4
}
