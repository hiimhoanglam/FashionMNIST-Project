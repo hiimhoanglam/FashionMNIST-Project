{
 "cells": [
  {
   "cell_type": "markdown",
   "metadata": {},
   "source": [
    "Chức năng của file: Với mỗi tham số C tìm được của các mô hình có dấu hiệu overfit, tiến hành áp dụng hiệu chỉnh L2 khi huấn luyện và đo chỉ số trên tập validation. Sau đó tính toán các độ đo trên tập test của mô hình được chọn."
   ]
  },
  {
   "cell_type": "code",
   "execution_count": 3,
   "metadata": {},
   "outputs": [],
   "source": [
    "import pandas as pd\n",
    "import numpy as np\n",
    "import matplotlib.pyplot as plt\n",
    "import os\n",
    "from sklearn.model_selection import train_test_split, cross_val_score, GridSearchCV\n",
    "import time\n",
    "import seaborn as sns\n",
    "from sklearn.decomposition import PCA\n",
    "import tensorflow as tf\n",
    "from sklearn.metrics import accuracy_score, precision_score, recall_score, confusion_matrix, classification_report\n",
    "from sklearn.linear_model import LogisticRegression\n",
    "import joblib"
   ]
  },
  {
   "cell_type": "code",
   "execution_count": 4,
   "metadata": {},
   "outputs": [],
   "source": [
    "fashion_mnist = tf.keras.datasets.fashion_mnist\n",
    "(X, y), (X_test, y_test) = fashion_mnist.load_data()\n",
    "\n",
    "X = X.reshape(X.shape[0], -1)\n",
    "X = X.astype('float32') / 255.0\n",
    "\n",
    "X_test = X_test.reshape(X_test.shape[0], -1)\n",
    "X_test = X_test.astype('float32') / 255.0"
   ]
  },
  {
   "cell_type": "code",
   "execution_count": 7,
   "metadata": {},
   "outputs": [],
   "source": [
    "fashion_mnist_labels = [\n",
    "    \"T-shirt/top\", \"Trouser\", \"Pullover\", \"Dress\", \"Coat\",\n",
    "    \"Sandal\", \"Shirt\", \"Sneaker\", \"Bag\", \"Ankle boot\"\n",
    "]"
   ]
  },
  {
   "cell_type": "code",
   "execution_count": 9,
   "metadata": {},
   "outputs": [],
   "source": [
    "def evaluate(y_true, y_pred, data_set_name):\n",
    "\n",
    "  print(f'----------------{data_set_name}----------------')\n",
    "  accuracy_logReg = accuracy_score(y_true, y_pred)\n",
    "  print(f'Accuracy: {accuracy_logReg:.3f}')\n",
    "\n",
    "  precision_logReg = precision_score(y_true, y_pred, average='weighted')\n",
    "  print(f'Precision: {precision_logReg:.3f}')\n",
    "\n",
    "  recall_logReg = recall_score(y_true, y_pred, average='weighted')\n",
    "  print(f'Recall: {recall_logReg:.3f}')\n",
    "\n",
    "  confusion_matrix_logReg = confusion_matrix(y_true, y_pred)\n",
    "  print('Confusion Matrix:\\n', confusion_matrix_logReg)\n",
    "\n",
    "  print(classification_report(y_true, y_pred, target_names=fashion_mnist_labels))\n",
    "\n",
    "def create_data(X, y, X_test, n_components=100, test_size=0.2):\n",
    "    X_train, X_val, y_train, y_val = train_test_split(X, y, test_size=test_size, random_state=42, stratify=y)\n",
    "\n",
    "    if n_components < 100:\n",
    "        pca = PCA(n_components=n_components)\n",
    "        X_train = pca.fit_transform(X_train)\n",
    "        X_val = pca.transform(X_val)\n",
    "        X_test = pca.transform(X_test)\n",
    "    return X_train, X_val, y_train, y_val, X_test\n",
    "\n",
    "def train_predict_evaluate_each_parameter(X_train, y_train, X_test, y_test, model_path, solver='lbfgs', max_iter=10000, penalty=None, tol=1e-4, verbose=0, C=1):\n",
    "\n",
    "  model_logReg = LogisticRegression(multi_class='multinomial', solver=solver, max_iter=max_iter, penalty=penalty, tol=tol, verbose=verbose, C=C)\n",
    "  model_logReg.fit(X_train, y_train)\n",
    "\n",
    "  y_pred_training = model_logReg.predict(X_train)\n",
    "  evaluate(y_train, y_pred_training, 'Trainning set')\n",
    "\n",
    "  y_pred_testing = model_logReg.predict(X_test)\n",
    "  evaluate(y_test, y_pred_testing, 'Validation set')\n",
    "  if model_path != None:\n",
    "    joblib.dump(model_logReg, model_path)\n",
    "    print('Model saved')"
   ]
  },
  {
   "cell_type": "markdown",
   "metadata": {},
   "source": [
    "***Áp dụng hiệu chỉnh L2 với tỷ lệ 7/3 và solver 'lbfgs'***"
   ]
  },
  {
   "cell_type": "code",
   "execution_count": 13,
   "metadata": {},
   "outputs": [
    {
     "data": {
      "text/plain": [
       "((42000, 784), (18000, 784), (10000, 784))"
      ]
     },
     "execution_count": 13,
     "metadata": {},
     "output_type": "execute_result"
    }
   ],
   "source": [
    "# Với tỷ lệ train/validation : 7/3\n",
    "X_train1, X_val1, y_train1, y_val1, X_test1 = create_data(X=X, y=y, X_test=X_test, n_components=100, test_size=0.3)\n",
    "X_train1.shape, X_val1.shape, X_test1.shape"
   ]
  },
  {
   "cell_type": "code",
   "execution_count": 13,
   "metadata": {
    "execution": {
     "iopub.execute_input": "2024-12-15T17:41:52.592788Z",
     "iopub.status.busy": "2024-12-15T17:41:52.592365Z",
     "iopub.status.idle": "2024-12-15T17:43:09.858549Z",
     "shell.execute_reply": "2024-12-15T17:43:09.857653Z",
     "shell.execute_reply.started": "2024-12-15T17:41:52.592754Z"
    }
   },
   "outputs": [
    {
     "name": "stderr",
     "output_type": "stream",
     "text": [
      "c:\\Users\\Administrator\\anaconda3\\Lib\\site-packages\\sklearn\\linear_model\\_logistic.py:1247: FutureWarning: 'multi_class' was deprecated in version 1.5 and will be removed in 1.7. From then on, it will always use 'multinomial'. Leave it to its default value to avoid this warning.\n",
      "  warnings.warn(\n"
     ]
    },
    {
     "name": "stdout",
     "output_type": "stream",
     "text": [
      "----------------Trainning set----------------\n",
      "Accuracy: 0.873\n",
      "Precision: 0.872\n",
      "Recall: 0.873\n",
      "Confusion Matrix:\n",
      " [[3559   10   63  167   13    6  338    0   41    3]\n",
      " [  10 4077   17   74    7    0   12    1    2    0]\n",
      " [  57    6 3240   35  487    1  350    0   24    0]\n",
      " [ 122   32   22 3790  119    0  102    1   12    0]\n",
      " [  10    4  312  133 3406    1  318    0   16    0]\n",
      " [   2    0    0    2    0 3973    0  146   19   58]\n",
      " [ 562    6  459  123  349    0 2648    1   51    1]\n",
      " [   0    0    0    0    0  120    0 3943    7  130]\n",
      " [  15    2   16   27   13   15   64   17 4027    4]\n",
      " [   0    1    0    1    0   56    0  150    3 3989]]\n",
      "              precision    recall  f1-score   support\n",
      "\n",
      " T-shirt/top       0.82      0.85      0.83      4200\n",
      "     Trouser       0.99      0.97      0.98      4200\n",
      "    Pullover       0.78      0.77      0.78      4200\n",
      "       Dress       0.87      0.90      0.89      4200\n",
      "        Coat       0.78      0.81      0.79      4200\n",
      "      Sandal       0.95      0.95      0.95      4200\n",
      "       Shirt       0.69      0.63      0.66      4200\n",
      "     Sneaker       0.93      0.94      0.93      4200\n",
      "         Bag       0.96      0.96      0.96      4200\n",
      "  Ankle boot       0.95      0.95      0.95      4200\n",
      "\n",
      "    accuracy                           0.87     42000\n",
      "   macro avg       0.87      0.87      0.87     42000\n",
      "weighted avg       0.87      0.87      0.87     42000\n",
      "\n",
      "----------------Validation set----------------\n",
      "Accuracy: 0.861\n",
      "Precision: 0.860\n",
      "Recall: 0.861\n",
      "Confusion Matrix:\n",
      " [[1506    3   30   86    6    3  145    1   20    0]\n",
      " [   6 1734    6   45    3    1    5    0    0    0]\n",
      " [  30    3 1363   25  199    2  163    0   15    0]\n",
      " [  65   21   25 1575   60    0   49    0    5    0]\n",
      " [   5    1  161   62 1417    0  146    0    8    0]\n",
      " [   2    0    0    0    0 1686    2   66    9   35]\n",
      " [ 269    5  182   47  167    0 1109    0   21    0]\n",
      " [   0    0    0    0    0   70    0 1675    1   54]\n",
      " [   9    2   11   12    5   12   23   10 1715    1]\n",
      " [   0    0    0    0    0   29    1   57    1 1712]]\n",
      "              precision    recall  f1-score   support\n",
      "\n",
      " T-shirt/top       0.80      0.84      0.82      1800\n",
      "     Trouser       0.98      0.96      0.97      1800\n",
      "    Pullover       0.77      0.76      0.76      1800\n",
      "       Dress       0.85      0.88      0.86      1800\n",
      "        Coat       0.76      0.79      0.77      1800\n",
      "      Sandal       0.94      0.94      0.94      1800\n",
      "       Shirt       0.67      0.62      0.64      1800\n",
      "     Sneaker       0.93      0.93      0.93      1800\n",
      "         Bag       0.96      0.95      0.95      1800\n",
      "  Ankle boot       0.95      0.95      0.95      1800\n",
      "\n",
      "    accuracy                           0.86     18000\n",
      "   macro avg       0.86      0.86      0.86     18000\n",
      "weighted avg       0.86      0.86      0.86     18000\n",
      "\n",
      "Model saved\n"
     ]
    }
   ],
   "source": [
    "# solver 'lbfgs' voi ty le 7/3, tham so penelty='L2' va C=0.1\n",
    "train_predict_evaluate_each_parameter(X_train1, y_train1, X_val1, y_val1, model_path='./model_logReg.pkl', solver='lbfgs', penalty='l2', C=0.1, verbose=1)"
   ]
  },
  {
   "cell_type": "markdown",
   "metadata": {},
   "source": [
    "**Tính các chỉ số accuracy, precision, recall, confusion matrix trên tập test của mô hình được lựa chọn**"
   ]
  },
  {
   "cell_type": "code",
   "execution_count": 15,
   "metadata": {},
   "outputs": [
    {
     "name": "stdout",
     "output_type": "stream",
     "text": [
      "Accuracy: 0.845\n",
      "Precision: 0.844\n",
      "Recall: 0.845\n",
      "              precision    recall  f1-score   support\n",
      "\n",
      " T-shirt/top       0.80      0.82      0.81      1000\n",
      "     Trouser       0.98      0.96      0.97      1000\n",
      "    Pullover       0.73      0.73      0.73      1000\n",
      "       Dress       0.84      0.87      0.85      1000\n",
      "        Coat       0.73      0.76      0.75      1000\n",
      "      Sandal       0.94      0.93      0.93      1000\n",
      "       Shirt       0.63      0.57      0.60      1000\n",
      "     Sneaker       0.91      0.94      0.92      1000\n",
      "         Bag       0.93      0.94      0.94      1000\n",
      "  Ankle boot       0.94      0.94      0.94      1000\n",
      "\n",
      "    accuracy                           0.84     10000\n",
      "   macro avg       0.84      0.84      0.84     10000\n",
      "weighted avg       0.84      0.84      0.84     10000\n",
      "\n",
      "Confusion Matrix:\n",
      " [[817   2  16  48   5   4  96   0  12   0]\n",
      " [  3 957   4  27   6   0   1   0   2   0]\n",
      " [ 23   3 734  10 134   1  84   0  11   0]\n",
      " [ 33  10  15 868  31   0  35   0   8   0]\n",
      " [  0   1 108  35 762   0  88   0   6   0]\n",
      " [  0   0   0   1   0 926   0  43   4  26]\n",
      " [143   2 124  38 102   1 567   0  23   0]\n",
      " [  0   0   0   0   0  34   0 937   0  29]\n",
      " [  6   1   6  10   2   6  24   6 939   0]\n",
      " [  0   0   0   0   0  15   1  42   0 942]]\n"
     ]
    }
   ],
   "source": [
    "# Test solver 'lbfgs' voi ty le 7/3, tham so penalty='L2' va C=0.1\n",
    "model = joblib.load('model_logReg.pkl')\n",
    "\n",
    "y_pred = model.predict(X_test1)\n",
    "\n",
    "accuracy = accuracy_score(y_test, y_pred)\n",
    "print(f'Accuracy: {accuracy:.3f}')\n",
    "\n",
    "precision = precision_score(y_test, y_pred, average='weighted')\n",
    "print(f'Precision: {precision:.3f}')\n",
    "\n",
    "recall = recall_score(y_test, y_pred, average='weighted')\n",
    "print(f'Recall: {recall:.3f}')\n",
    "\n",
    "print(classification_report(y_test, y_pred, target_names=fashion_mnist_labels))\n",
    "confusion_matrix_logReg = confusion_matrix(y_test, y_pred)\n",
    "print('Confusion Matrix:\\n', confusion_matrix_logReg)"
   ]
  },
  {
   "cell_type": "markdown",
   "metadata": {},
   "source": [
    "**In ra confusion matrix của mô hình được chọn**"
   ]
  },
  {
   "cell_type": "code",
   "execution_count": 16,
   "metadata": {
    "execution": {
     "iopub.execute_input": "2024-12-15T17:55:55.468223Z",
     "iopub.status.busy": "2024-12-15T17:55:55.467194Z",
     "iopub.status.idle": "2024-12-15T17:55:56.406875Z",
     "shell.execute_reply": "2024-12-15T17:55:56.405683Z",
     "shell.execute_reply.started": "2024-12-15T17:55:55.468180Z"
    }
   },
   "outputs": [
    {
     "data": {
      "image/png": "[encoded data removed]",
      "text/plain": [
       "<Figure size 800x600 with 2 Axes>"
      ]
     },
     "metadata": {},
     "output_type": "display_data"
    }
   ],
   "source": [
    "from sklearn.metrics import confusion_matrix, ConfusionMatrixDisplay\n",
    "\n",
    "\n",
    "# Vẽ heatmap với colormap viridis\n",
    "plt.figure(figsize=(8, 6))  # Kích thước biểu đồ\n",
    "sns.heatmap(confusion_matrix_logReg, annot=True, xticklabels=fashion_mnist_labels, yticklabels=fashion_mnist_labels, cmap='viridis', fmt='g', cbar=True)\n",
    "\n",
    "# Thêm tiêu đề và nhãn trục\n",
    "plt.title('Confusion Matrix (Softmax Regression)')\n",
    "plt.xlabel('Predicted Labels')\n",
    "plt.ylabel('True Labels')\n",
    "\n",
    "plt.savefig('confusion_matrix_softmax_reg.png', format='png', bbox_inches='tight')\n",
    "# Hiển thị biểu đồ\n",
    "plt.show()"
   ]
  },
  {
   "cell_type": "code",
   "execution_count": 18,
   "metadata": {
    "execution": {
     "iopub.execute_input": "2024-12-17T13:53:01.192852Z",
     "iopub.status.busy": "2024-12-17T13:53:01.192377Z",
     "iopub.status.idle": "2024-12-17T14:10:38.390307Z",
     "shell.execute_reply": "2024-12-17T14:10:38.388431Z",
     "shell.execute_reply.started": "2024-12-17T13:53:01.192811Z"
    }
   },
   "outputs": [
    {
     "name": "stderr",
     "output_type": "stream",
     "text": [
      "c:\\Users\\Administrator\\anaconda3\\Lib\\site-packages\\sklearn\\linear_model\\_logistic.py:1247: FutureWarning: 'multi_class' was deprecated in version 1.5 and will be removed in 1.7. From then on, it will always use 'multinomial'. Leave it to its default value to avoid this warning.\n",
      "  warnings.warn(\n"
     ]
    },
    {
     "name": "stdout",
     "output_type": "stream",
     "text": [
      "----------------Trainning set----------------\n",
      "Accuracy: 0.891\n",
      "Precision: 0.890\n",
      "Recall: 0.891\n",
      "Confusion Matrix:\n",
      " [[3603    6   64  150   18    1  325    0   33    0]\n",
      " [   1 4139    2   49    4    0    5    0    0    0]\n",
      " [  50    0 3311   31  449    0  342    0   17    0]\n",
      " [ 111   17   27 3850  106    0   80    0    9    0]\n",
      " [  17    3  320  108 3434    0  302    0   16    0]\n",
      " [   0    0    0    0    0 4097    0   93    1    9]\n",
      " [ 518    3  430  121  342    0 2746    0   40    0]\n",
      " [   0    0    0    0    0   93    0 4024    1   82]\n",
      " [  12    0    9   13    8    0   38    1 4119    0]\n",
      " [   0    0    0    0    0   12    0  102    0 4086]]\n",
      "              precision    recall  f1-score   support\n",
      "\n",
      " T-shirt/top       0.84      0.86      0.85      4200\n",
      "     Trouser       0.99      0.99      0.99      4200\n",
      "    Pullover       0.80      0.79      0.79      4200\n",
      "       Dress       0.89      0.92      0.90      4200\n",
      "        Coat       0.79      0.82      0.80      4200\n",
      "      Sandal       0.97      0.98      0.98      4200\n",
      "       Shirt       0.72      0.65      0.68      4200\n",
      "     Sneaker       0.95      0.96      0.96      4200\n",
      "         Bag       0.97      0.98      0.98      4200\n",
      "  Ankle boot       0.98      0.97      0.98      4200\n",
      "\n",
      "    accuracy                           0.89     42000\n",
      "   macro avg       0.89      0.89      0.89     42000\n",
      "weighted avg       0.89      0.89      0.89     42000\n",
      "\n",
      "----------------Validation set----------------\n",
      "Accuracy: 0.843\n",
      "Precision: 0.842\n",
      "Recall: 0.843\n",
      "Confusion Matrix:\n",
      " [[1467   13   35   72   10    2  176    1   24    0]\n",
      " [   5 1732   10   42    2    1    6    0    1    1]\n",
      " [  37   11 1342   29  199    1  162    0   19    0]\n",
      " [  76   50   22 1511   61    0   62    0   18    0]\n",
      " [   4    6  162   59 1384    0  161    0   23    1]\n",
      " [   0    1    0    1    0 1658    1   75   15   49]\n",
      " [ 258   13  179   62  160    0 1084    0   43    1]\n",
      " [   0    1    0    0    0   78    0 1654    4   63]\n",
      " [  17    5   18   15    6   15   49    9 1663    3]\n",
      " [   0    0    0    0    0   42    1   75    4 1678]]\n",
      "              precision    recall  f1-score   support\n",
      "\n",
      " T-shirt/top       0.79      0.81      0.80      1800\n",
      "     Trouser       0.95      0.96      0.95      1800\n",
      "    Pullover       0.76      0.75      0.75      1800\n",
      "       Dress       0.84      0.84      0.84      1800\n",
      "        Coat       0.76      0.77      0.76      1800\n",
      "      Sandal       0.92      0.92      0.92      1800\n",
      "       Shirt       0.64      0.60      0.62      1800\n",
      "     Sneaker       0.91      0.92      0.92      1800\n",
      "         Bag       0.92      0.92      0.92      1800\n",
      "  Ankle boot       0.93      0.93      0.93      1800\n",
      "\n",
      "    accuracy                           0.84     18000\n",
      "   macro avg       0.84      0.84      0.84     18000\n",
      "weighted avg       0.84      0.84      0.84     18000\n",
      "\n",
      "Model saved\n"
     ]
    }
   ],
   "source": [
    "# solver 'lbfgs' với tỷ lệ 7/3, không áp dụng hiệu chỉnh L2\n",
    "train_predict_evaluate_each_parameter(X_train1, y_train1, X_val1, y_val1, model_path='./log_Reg_lbfgs_7_3_no_l2.pkl', solver='lbfgs', verbose=1)"
   ]
  },
  {
   "cell_type": "code",
   "execution_count": 19,
   "metadata": {
    "execution": {
     "iopub.execute_input": "2024-12-17T14:19:06.519588Z",
     "iopub.status.busy": "2024-12-17T14:19:06.519214Z",
     "iopub.status.idle": "2024-12-17T14:19:06.631146Z",
     "shell.execute_reply": "2024-12-17T14:19:06.629943Z",
     "shell.execute_reply.started": "2024-12-17T14:19:06.519557Z"
    }
   },
   "outputs": [
    {
     "name": "stdout",
     "output_type": "stream",
     "text": [
      "Accuracy: 0.827\n",
      "Precision: 0.825\n",
      "Recall: 0.827\n",
      "              precision    recall  f1-score   support\n",
      "\n",
      " T-shirt/top       0.78      0.79      0.78      1000\n",
      "     Trouser       0.94      0.95      0.95      1000\n",
      "    Pullover       0.72      0.72      0.72      1000\n",
      "       Dress       0.81      0.83      0.82      1000\n",
      "        Coat       0.72      0.74      0.73      1000\n",
      "      Sandal       0.92      0.91      0.91      1000\n",
      "       Shirt       0.61      0.56      0.58      1000\n",
      "     Sneaker       0.91      0.93      0.92      1000\n",
      "         Bag       0.91      0.92      0.91      1000\n",
      "  Ankle boot       0.93      0.93      0.93      1000\n",
      "\n",
      "    accuracy                           0.83     10000\n",
      "   macro avg       0.82      0.83      0.83     10000\n",
      "weighted avg       0.82      0.83      0.83     10000\n",
      "\n",
      "Confusion Matrix:\n",
      " [[790   7  12  64   2   2 105   1  17   0]\n",
      " [  3 951   6  27   7   0   2   1   3   0]\n",
      " [ 29   7 722  12 129   0  86   1  14   0]\n",
      " [ 32  28  24 831  34   0  41   0  10   0]\n",
      " [  1   5 114  37 740   0  90   0  13   0]\n",
      " [  0   0   0   1   0 907   0  46  11  35]\n",
      " [146   8 114  46 106   0 556   0  23   1]\n",
      " [  0   0   0   0   0  42   0 926   1  31]\n",
      " [ 13   1  13  10   4   8  30   4 916   1]\n",
      " [  0   0   0   0   0  26   3  41   3 927]]\n"
     ]
    }
   ],
   "source": [
    "# Test solver 'lbfgs' với tỷ lệ 7/3, không áp dụng hiệu chỉnh L2\n",
    "model = joblib.load('./log_Reg_lbfgs_7_3_no_l2.pkl')\n",
    "\n",
    "y_pred = model.predict(X_test1)\n",
    "\n",
    "accuracy = accuracy_score(y_test, y_pred)\n",
    "print(f'Accuracy: {accuracy:.3f}')\n",
    "\n",
    "precision = precision_score(y_test, y_pred, average='weighted')\n",
    "print(f'Precision: {precision:.3f}')\n",
    "\n",
    "recall = recall_score(y_test, y_pred, average='weighted')\n",
    "print(f'Recall: {recall:.3f}')\n",
    "\n",
    "print(classification_report(y_test, y_pred, target_names=fashion_mnist_labels))\n",
    "confusion_matrix_logReg = confusion_matrix(y_test, y_pred)\n",
    "print('Confusion Matrix:\\n', confusion_matrix_logReg)"
   ]
  },
  {
   "cell_type": "markdown",
   "metadata": {},
   "source": [
    "***Áp dụng hiệu chỉnh L2 với tỷ lệ 6/4 và solver 'lbfgs'***"
   ]
  },
  {
   "cell_type": "code",
   "execution_count": 6,
   "metadata": {
    "execution": {
     "iopub.execute_input": "2024-12-17T12:32:08.776622Z",
     "iopub.status.busy": "2024-12-17T12:32:08.776161Z",
     "iopub.status.idle": "2024-12-17T12:32:08.893018Z",
     "shell.execute_reply": "2024-12-17T12:32:08.891752Z",
     "shell.execute_reply.started": "2024-12-17T12:32:08.776588Z"
    }
   },
   "outputs": [
    {
     "data": {
      "text/plain": [
       "((36000, 784), (24000, 784), (10000, 784))"
      ]
     },
     "execution_count": 6,
     "metadata": {},
     "output_type": "execute_result"
    }
   ],
   "source": [
    "# Với tỷ lệ train/validation : 6/4\n",
    "X_train2, X_val2, y_train2, y_val2, X_test2 = create_data(X=X, y=y, X_test=X_test, n_components=100, test_size=0.4)\n",
    "X_train2.shape, X_val2.shape, X_test2.shape"
   ]
  },
  {
   "cell_type": "code",
   "execution_count": 7,
   "metadata": {
    "execution": {
     "iopub.execute_input": "2024-12-15T14:34:39.963989Z",
     "iopub.status.busy": "2024-12-15T14:34:39.963631Z",
     "iopub.status.idle": "2024-12-15T14:35:45.357947Z",
     "shell.execute_reply": "2024-12-15T14:35:45.356875Z",
     "shell.execute_reply.started": "2024-12-15T14:34:39.963960Z"
    }
   },
   "outputs": [
    {
     "name": "stderr",
     "output_type": "stream",
     "text": [
      "c:\\Users\\Administrator\\anaconda3\\Lib\\site-packages\\sklearn\\linear_model\\_logistic.py:1247: FutureWarning: 'multi_class' was deprecated in version 1.5 and will be removed in 1.7. From then on, it will always use 'multinomial'. Leave it to its default value to avoid this warning.\n",
      "  warnings.warn(\n"
     ]
    },
    {
     "name": "stdout",
     "output_type": "stream",
     "text": [
      "----------------Trainning set----------------\n",
      "Accuracy: 0.874\n",
      "Precision: 0.873\n",
      "Recall: 0.874\n",
      "Confusion Matrix:\n",
      " [[3061   10   57  140   10    7  278    0   35    2]\n",
      " [  10 3498   13   61    5    0   12    1    0    0]\n",
      " [  47    6 2782   32  416    1  294    0   22    0]\n",
      " [ 110   27   23 3241  100    0   89    0   10    0]\n",
      " [   9    2  266  110 2913    1  284    0   15    0]\n",
      " [   2    0    0    2    0 3413    0  122   17   44]\n",
      " [ 479    7  378  100  308    0 2278    1   48    1]\n",
      " [   0    0    0    0    0  101    0 3381    8  110]\n",
      " [  10    2   12   22   11   13   51   12 3464    3]\n",
      " [   0    1    0    1    0   45    0  124    2 3427]]\n",
      "              precision    recall  f1-score   support\n",
      "\n",
      " T-shirt/top       0.82      0.85      0.84      3600\n",
      "     Trouser       0.98      0.97      0.98      3600\n",
      "    Pullover       0.79      0.77      0.78      3600\n",
      "       Dress       0.87      0.90      0.89      3600\n",
      "        Coat       0.77      0.81      0.79      3600\n",
      "      Sandal       0.95      0.95      0.95      3600\n",
      "       Shirt       0.69      0.63      0.66      3600\n",
      "     Sneaker       0.93      0.94      0.93      3600\n",
      "         Bag       0.96      0.96      0.96      3600\n",
      "  Ankle boot       0.96      0.95      0.95      3600\n",
      "\n",
      "    accuracy                           0.87     36000\n",
      "   macro avg       0.87      0.87      0.87     36000\n",
      "weighted avg       0.87      0.87      0.87     36000\n",
      "\n",
      "----------------Validation set----------------\n",
      "Accuracy: 0.860\n",
      "Precision: 0.860\n",
      "Recall: 0.860\n",
      "Confusion Matrix:\n",
      " [[2003    5   34  110    9    3  204    1   31    0]\n",
      " [   7 2306   12   61    4    1    7    0    2    0]\n",
      " [  43    3 1827   28  281    2  204    0   12    0]\n",
      " [  83   26   28 2103   79    0   73    1    7    0]\n",
      " [   6    2  202   75 1920    0  184    0   11    0]\n",
      " [   0    0    0    1    0 2243    2   95   14   45]\n",
      " [ 341    6  265   68  220    0 1471    0   29    0]\n",
      " [   0    0    0    0    0   94    0 2235    2   69]\n",
      " [  11    3   14   17    8   15   41   17 2272    2]\n",
      " [   0    0    0    0    0   38    0   90    2 2270]]\n",
      "              precision    recall  f1-score   support\n",
      "\n",
      " T-shirt/top       0.80      0.83      0.82      2400\n",
      "     Trouser       0.98      0.96      0.97      2400\n",
      "    Pullover       0.77      0.76      0.76      2400\n",
      "       Dress       0.85      0.88      0.86      2400\n",
      "        Coat       0.76      0.80      0.78      2400\n",
      "      Sandal       0.94      0.93      0.94      2400\n",
      "       Shirt       0.67      0.61      0.64      2400\n",
      "     Sneaker       0.92      0.93      0.92      2400\n",
      "         Bag       0.95      0.95      0.95      2400\n",
      "  Ankle boot       0.95      0.95      0.95      2400\n",
      "\n",
      "    accuracy                           0.86     24000\n",
      "   macro avg       0.86      0.86      0.86     24000\n",
      "weighted avg       0.86      0.86      0.86     24000\n",
      "\n"
     ]
    }
   ],
   "source": [
    "# solver 'lbfgs' voi ty le 6/4, penalty='l2', C=0.1\n",
    "train_predict_evaluate_each_parameter(X_train2, y_train2, X_val2, y_val2, model_path=None, solver='lbfgs', penalty='l2', C=0.1, verbose=1)"
   ]
  },
  {
   "cell_type": "markdown",
   "metadata": {},
   "source": [
    "***Áp dụng hiệu chỉnh L2 với solver='sag' và tỷ lệ 6/4***"
   ]
  },
  {
   "cell_type": "code",
   "execution_count": 8,
   "metadata": {
    "execution": {
     "iopub.execute_input": "2024-12-17T12:38:07.743785Z",
     "iopub.status.busy": "2024-12-17T12:38:07.742668Z",
     "iopub.status.idle": "2024-12-17T12:39:53.589669Z",
     "shell.execute_reply": "2024-12-17T12:39:53.588629Z",
     "shell.execute_reply.started": "2024-12-17T12:38:07.743739Z"
    }
   },
   "outputs": [
    {
     "name": "stderr",
     "output_type": "stream",
     "text": [
      "c:\\Users\\Administrator\\anaconda3\\Lib\\site-packages\\sklearn\\linear_model\\_logistic.py:1247: FutureWarning: 'multi_class' was deprecated in version 1.5 and will be removed in 1.7. From then on, it will always use 'multinomial'. Leave it to its default value to avoid this warning.\n",
      "  warnings.warn(\n"
     ]
    },
    {
     "name": "stdout",
     "output_type": "stream",
     "text": [
      "convergence after 69 epochs took 38 seconds\n",
      "----------------Trainning set----------------\n",
      "Accuracy: 0.874\n",
      "Precision: 0.873\n",
      "Recall: 0.874\n",
      "Confusion Matrix:\n",
      " [[3060   10   56  141   10    7  279    0   35    2]\n",
      " [  10 3499   13   61    5    0   11    1    0    0]\n",
      " [  48    6 2782   29  417    1  297    0   20    0]\n",
      " [ 108   26   24 3242  101    0   88    1   10    0]\n",
      " [   9    2  264  111 2914    1  284    0   15    0]\n",
      " [   2    0    0    2    0 3416    0  121   16   43]\n",
      " [ 480    6  377  100  308    0 2280    1   47    1]\n",
      " [   0    0    0    0    0  101    0 3380    8  111]\n",
      " [  10    2   13   21   11   13   51   12 3464    3]\n",
      " [   0    1    0    1    0   45    0  123    2 3428]]\n",
      "              precision    recall  f1-score   support\n",
      "\n",
      " T-shirt/top       0.82      0.85      0.84      3600\n",
      "     Trouser       0.99      0.97      0.98      3600\n",
      "    Pullover       0.79      0.77      0.78      3600\n",
      "       Dress       0.87      0.90      0.89      3600\n",
      "        Coat       0.77      0.81      0.79      3600\n",
      "      Sandal       0.95      0.95      0.95      3600\n",
      "       Shirt       0.69      0.63      0.66      3600\n",
      "     Sneaker       0.93      0.94      0.93      3600\n",
      "         Bag       0.96      0.96      0.96      3600\n",
      "  Ankle boot       0.96      0.95      0.95      3600\n",
      "\n",
      "    accuracy                           0.87     36000\n",
      "   macro avg       0.87      0.87      0.87     36000\n",
      "weighted avg       0.87      0.87      0.87     36000\n",
      "\n",
      "----------------Validation set----------------\n",
      "Accuracy: 0.861\n",
      "Precision: 0.860\n",
      "Recall: 0.861\n",
      "Confusion Matrix:\n",
      " [[2002    4   34  111    9    3  205    1   31    0]\n",
      " [   7 2307   12   60    4    1    7    0    2    0]\n",
      " [  44    3 1828   28  280    3  201    0   13    0]\n",
      " [  84   26   26 2104   80    0   72    1    7    0]\n",
      " [   6    2  203   75 1918    0  185    0   11    0]\n",
      " [   0    0    0    1    0 2246    2   94   14   43]\n",
      " [ 339    5  264   66  220    1 1475    0   30    0]\n",
      " [   0    0    0    0    0   93    0 2234    2   71]\n",
      " [  12    2   14   17    9   15   41   17 2271    2]\n",
      " [   0    0    0    0    0   37    1   90    2 2270]]\n",
      "              precision    recall  f1-score   support\n",
      "\n",
      " T-shirt/top       0.80      0.83      0.82      2400\n",
      "     Trouser       0.98      0.96      0.97      2400\n",
      "    Pullover       0.77      0.76      0.76      2400\n",
      "       Dress       0.85      0.88      0.87      2400\n",
      "        Coat       0.76      0.80      0.78      2400\n",
      "      Sandal       0.94      0.94      0.94      2400\n",
      "       Shirt       0.67      0.61      0.64      2400\n",
      "     Sneaker       0.92      0.93      0.92      2400\n",
      "         Bag       0.95      0.95      0.95      2400\n",
      "  Ankle boot       0.95      0.95      0.95      2400\n",
      "\n",
      "    accuracy                           0.86     24000\n",
      "   macro avg       0.86      0.86      0.86     24000\n",
      "weighted avg       0.86      0.86      0.86     24000\n",
      "\n"
     ]
    }
   ],
   "source": [
    "# solver 'sag' voi ty le 6/4, penalty='l2', C=0.1\n",
    "train_predict_evaluate_each_parameter(X_train2, y_train2, X_val2, y_val2, model_path=None, solver='sag', penalty='l2', C=0.1, verbose=1)"
   ]
  },
  {
   "cell_type": "markdown",
   "metadata": {},
   "source": [
    "***Áp dụng hiệu chỉnh L2 với solver='saga' và tỷ lệ 6/4***"
   ]
  },
  {
   "cell_type": "code",
   "execution_count": 9,
   "metadata": {
    "execution": {
     "iopub.execute_input": "2024-12-17T12:22:33.425163Z",
     "iopub.status.busy": "2024-12-17T12:22:33.424735Z",
     "iopub.status.idle": "2024-12-17T12:27:01.607497Z",
     "shell.execute_reply": "2024-12-17T12:27:01.606418Z",
     "shell.execute_reply.started": "2024-12-17T12:22:33.425125Z"
    }
   },
   "outputs": [
    {
     "name": "stderr",
     "output_type": "stream",
     "text": [
      "c:\\Users\\Administrator\\anaconda3\\Lib\\site-packages\\sklearn\\linear_model\\_logistic.py:1247: FutureWarning: 'multi_class' was deprecated in version 1.5 and will be removed in 1.7. From then on, it will always use 'multinomial'. Leave it to its default value to avoid this warning.\n",
      "  warnings.warn(\n"
     ]
    },
    {
     "name": "stdout",
     "output_type": "stream",
     "text": [
      "convergence after 130 epochs took 125 seconds\n",
      "----------------Trainning set----------------\n",
      "Accuracy: 0.874\n",
      "Precision: 0.873\n",
      "Recall: 0.874\n",
      "Confusion Matrix:\n",
      " [[3062   10   56  140   10    7  278    0   35    2]\n",
      " [  10 3500   12   61    5    0   11    1    0    0]\n",
      " [  49    6 2782   29  417    1  296    0   20    0]\n",
      " [ 108   26   24 3244  101    0   86    1   10    0]\n",
      " [   9    2  266  111 2913    1  283    0   15    0]\n",
      " [   2    0    0    2    0 3416    0  121   16   43]\n",
      " [ 480    6  377   99  307    0 2282    1   47    1]\n",
      " [   0    0    0    0    0  101    0 3381    8  110]\n",
      " [  10    2   13   21   11   12   52   12 3464    3]\n",
      " [   0    1    0    1    0   45    0  123    2 3428]]\n",
      "              precision    recall  f1-score   support\n",
      "\n",
      " T-shirt/top       0.82      0.85      0.84      3600\n",
      "     Trouser       0.99      0.97      0.98      3600\n",
      "    Pullover       0.79      0.77      0.78      3600\n",
      "       Dress       0.87      0.90      0.89      3600\n",
      "        Coat       0.77      0.81      0.79      3600\n",
      "      Sandal       0.95      0.95      0.95      3600\n",
      "       Shirt       0.69      0.63      0.66      3600\n",
      "     Sneaker       0.93      0.94      0.93      3600\n",
      "         Bag       0.96      0.96      0.96      3600\n",
      "  Ankle boot       0.96      0.95      0.95      3600\n",
      "\n",
      "    accuracy                           0.87     36000\n",
      "   macro avg       0.87      0.87      0.87     36000\n",
      "weighted avg       0.87      0.87      0.87     36000\n",
      "\n",
      "----------------Validation set----------------\n",
      "Accuracy: 0.861\n",
      "Precision: 0.860\n",
      "Recall: 0.861\n",
      "Confusion Matrix:\n",
      " [[2003    4   34  111    9    3  204    1   31    0]\n",
      " [   7 2307   12   60    4    1    7    0    2    0]\n",
      " [  44    3 1828   28  280    3  201    0   13    0]\n",
      " [  85   27   26 2102   80    0   72    1    7    0]\n",
      " [   6    2  205   75 1916    0  185    0   11    0]\n",
      " [   0    0    0    1    0 2247    2   93   14   43]\n",
      " [ 338    5  264   67  220    0 1476    0   30    0]\n",
      " [   0    0    0    0    0   93    0 2234    2   71]\n",
      " [  12    2   14   18    9   15   41   17 2270    2]\n",
      " [   0    0    0    0    0   37    1   90    2 2270]]\n",
      "              precision    recall  f1-score   support\n",
      "\n",
      " T-shirt/top       0.80      0.83      0.82      2400\n",
      "     Trouser       0.98      0.96      0.97      2400\n",
      "    Pullover       0.77      0.76      0.76      2400\n",
      "       Dress       0.85      0.88      0.86      2400\n",
      "        Coat       0.76      0.80      0.78      2400\n",
      "      Sandal       0.94      0.94      0.94      2400\n",
      "       Shirt       0.67      0.61      0.64      2400\n",
      "     Sneaker       0.92      0.93      0.92      2400\n",
      "         Bag       0.95      0.95      0.95      2400\n",
      "  Ankle boot       0.95      0.95      0.95      2400\n",
      "\n",
      "    accuracy                           0.86     24000\n",
      "   macro avg       0.86      0.86      0.86     24000\n",
      "weighted avg       0.86      0.86      0.86     24000\n",
      "\n"
     ]
    }
   ],
   "source": [
    "# Solver ‘saga’ với tỷ lệ 6/4, tham số penalty=’L2’ và C=0.1\n",
    "train_predict_evaluate_each_parameter(X_train2, y_train2, X_val2, y_val2, model_path=None, solver='saga', penalty='l2', C=0.1, verbose=1)"
   ]
  }
 ],
 "metadata": {
  "kaggle": {
   "accelerator": "none",
   "dataSources": [],
   "dockerImageVersionId": 30804,
   "isGpuEnabled": false,
   "isInternetEnabled": true,
   "language": "python",
   "sourceType": "notebook"
  },
  "kernelspec": {
   "display_name": "Python [conda env:base] *",
   "language": "python",
   "name": "conda-base-py"
  },
  "language_info": {
   "codemirror_mode": {
    "name": "ipython",
    "version": 3
   },
   "file_extension": ".py",
   "mimetype": "text/x-python",
   "name": "python",
   "nbconvert_exporter": "python",
   "pygments_lexer": "ipython3",
   "version": "3.12.7"
  }
 },
 "nbformat": 4,
 "nbformat_minor": 4
}
