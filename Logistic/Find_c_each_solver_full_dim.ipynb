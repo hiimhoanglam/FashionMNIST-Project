{
 "cells": [
  {
   "cell_type": "markdown",
   "metadata": {},
   "source": [
    "Chức năng của file: Tìm ra tham số C phù hợp của mỗi mô hình đang có dấu hiệu overfit."
   ]
  },
  {
   "cell_type": "code",
   "execution_count": 7,
   "metadata": {
    "execution": {
     "iopub.execute_input": "2024-12-15T18:16:11.340788Z",
     "iopub.status.busy": "2024-12-15T18:16:11.340389Z",
     "iopub.status.idle": "2024-12-15T18:16:29.374867Z",
     "shell.execute_reply": "2024-12-15T18:16:29.372908Z",
     "shell.execute_reply.started": "2024-12-15T18:16:11.340749Z"
    }
   },
   "outputs": [],
   "source": [
    "import pandas as pd\n",
    "import numpy as np\n",
    "import matplotlib.pyplot as plt\n",
    "import os\n",
    "from sklearn.model_selection import train_test_split, cross_val_score, GridSearchCV\n",
    "import time\n",
    "import seaborn as sns\n",
    "from sklearn.decomposition import PCA\n",
    "import tensorflow as tf\n",
    "from sklearn.metrics import accuracy_score, precision_score, recall_score, confusion_matrix, classification_report\n",
    "from sklearn.linear_model import LogisticRegression"
   ]
  },
  {
   "cell_type": "code",
   "execution_count": 8,
   "metadata": {
    "execution": {
     "iopub.execute_input": "2024-12-15T18:16:43.683185Z",
     "iopub.status.busy": "2024-12-15T18:16:43.682767Z",
     "iopub.status.idle": "2024-12-15T18:16:48.795476Z",
     "shell.execute_reply": "2024-12-15T18:16:48.793885Z",
     "shell.execute_reply.started": "2024-12-15T18:16:43.683150Z"
    }
   },
   "outputs": [],
   "source": [
    "fashion_mnist = tf.keras.datasets.fashion_mnist\n",
    "(X, y), (X_test, y_test) = fashion_mnist.load_data()\n",
    "\n",
    "X = X.reshape(X.shape[0], -1)\n",
    "X = X.astype('float32') / 255.0\n",
    "\n",
    "X_test = X_test.reshape(X_test.shape[0], -1)\n",
    "X_test = X_test.astype('float32') / 255.0"
   ]
  },
  {
   "cell_type": "code",
   "execution_count": 9,
   "metadata": {
    "execution": {
     "iopub.execute_input": "2024-12-15T18:16:48.827770Z",
     "iopub.status.busy": "2024-12-15T18:16:48.827371Z",
     "iopub.status.idle": "2024-12-15T18:16:48.835184Z",
     "shell.execute_reply": "2024-12-15T18:16:48.833251Z",
     "shell.execute_reply.started": "2024-12-15T18:16:48.827735Z"
    }
   },
   "outputs": [],
   "source": [
    "fashion_mnist_labels = [\n",
    "    \"T-shirt/top\", \"Trouser\", \"Pullover\", \"Dress\", \"Coat\",\n",
    "    \"Sandal\", \"Shirt\", \"Sneaker\", \"Bag\", \"Ankle boot\"\n",
    "]"
   ]
  },
  {
   "cell_type": "code",
   "execution_count": 10,
   "metadata": {
    "execution": {
     "iopub.execute_input": "2024-12-15T18:18:42.936898Z",
     "iopub.status.busy": "2024-12-15T18:18:42.936309Z",
     "iopub.status.idle": "2024-12-15T18:18:42.949371Z",
     "shell.execute_reply": "2024-12-15T18:18:42.947546Z",
     "shell.execute_reply.started": "2024-12-15T18:18:42.936860Z"
    }
   },
   "outputs": [],
   "source": [
    "def evaluate(y_true, y_pred, data_set_name):\n",
    "\n",
    "  print(f'----------------{data_set_name}----------------')\n",
    "  accuracy_logReg = accuracy_score(y_true, y_pred)\n",
    "  print(f'Accuracy: {accuracy_logReg:.3f}')\n",
    "\n",
    "  precision_logReg = precision_score(y_true, y_pred, average='weighted')\n",
    "  print(f'Precision: {precision_logReg:.3f}')\n",
    "\n",
    "  recall_logReg = recall_score(y_true, y_pred, average='weighted')\n",
    "  print(f'Recall: {recall_logReg:.3f}')\n",
    "\n",
    "  confusion_matrix_logReg = confusion_matrix(y_true, y_pred)\n",
    "  print('Confusion Matrix:\\n', confusion_matrix_logReg)\n",
    "\n",
    "  print(classification_report(y_true, y_pred, target_names=fashion_mnist_labels))\n",
    "\n",
    "def create_data(X, y, X_test, n_components=100, test_size=0.2):\n",
    "    X_train, X_val, y_train, y_val = train_test_split(X, y, test_size=test_size, random_state=42, stratify=y)\n",
    "\n",
    "    if n_components < 100:\n",
    "        pca = PCA(n_components=n_components)\n",
    "        X_train = pca.fit_transform(X_train)\n",
    "        X_val = pca.transform(X_val)\n",
    "        X_test = pca.transform(X_test)\n",
    "    return X_train, X_val, y_train, y_val, X_test\n",
    "\n",
    "def train_predict_evaluate_each_parameter(X_train, y_train, X_test, y_test, solver='lbfgs', max_iter=10000, penalty=None, tol=1e-4, verbose=0, C=1):\n",
    "  \n",
    "  model_logReg = LogisticRegression(multi_class='multinomial', solver=solver, max_iter=max_iter, penalty=penalty, tol=tol, verbose=verbose, C=C)\n",
    "  model_logReg.fit(X_train, y_train)\n",
    "\n",
    "  y_pred_training = model_logReg.predict(X_train)\n",
    "  evaluate(y_train, y_pred_training, 'Trainning set')\n",
    "\n",
    "  y_pred_testing = model_logReg.predict(X_test)\n",
    "  evaluate(y_test, y_pred_testing, 'Validation set')"
   ]
  },
  {
   "cell_type": "markdown",
   "metadata": {},
   "source": [
    "***Tìm C phù hợp với solver 'lbfgs', tỷ lệ 7/3 để tiến hành hiệu chỉnh***"
   ]
  },
  {
   "cell_type": "code",
   "execution_count": 11,
   "metadata": {},
   "outputs": [
    {
     "data": {
      "text/plain": [
       "((42000, 784), (18000, 784), (10000, 784))"
      ]
     },
     "execution_count": 11,
     "metadata": {},
     "output_type": "execute_result"
    }
   ],
   "source": [
    "# Với tỷ lệ train/validation : 7/3\n",
    "X_train1, X_val1, y_train1, y_val1, X_test1 = create_data(X=X, y=y, X_test=X_test, n_components=100, test_size=0.3)\n",
    "X_train1.shape, X_val1.shape, X_test1.shape"
   ]
  },
  {
   "cell_type": "code",
   "execution_count": 12,
   "metadata": {
    "execution": {
     "iopub.execute_input": "2024-12-15T11:24:24.275084Z",
     "iopub.status.busy": "2024-12-15T11:24:24.274697Z",
     "iopub.status.idle": "2024-12-15T12:13:39.413329Z",
     "shell.execute_reply": "2024-12-15T12:13:39.411040Z",
     "shell.execute_reply.started": "2024-12-15T11:24:24.275051Z"
    }
   },
   "outputs": [],
   "source": [
    "# Chọn C với solver 'lbfgs' và tỷ lệ train/validation : 7/3\n",
    "model_logReg = LogisticRegression(multi_class='multinomial', max_iter=10000, penalty='l2', n_jobs=-1)\n",
    "\n",
    "parameters = {'solver' : ['lbfgs'],\n",
    "         'C' : np.logspace(-8, 2, 11)}\n",
    "\n",
    "clf = GridSearchCV(model_logReg, parameters, cv=3, n_jobs=-1)\n",
    "clf.fit(X_train1, y_train1)\n",
    "results = clf.cv_results_\n",
    "best_parameter = clf.best_params_\n",
    "best_score = clf.best_score_"
   ]
  },
  {
   "cell_type": "code",
   "execution_count": 13,
   "metadata": {
    "execution": {
     "iopub.execute_input": "2024-12-15T12:39:52.277696Z",
     "iopub.status.busy": "2024-12-15T12:39:52.277270Z",
     "iopub.status.idle": "2024-12-15T12:39:52.309599Z",
     "shell.execute_reply": "2024-12-15T12:39:52.308629Z",
     "shell.execute_reply.started": "2024-12-15T12:39:52.277662Z"
    }
   },
   "outputs": [
    {
     "data": {
      "text/html": [
       "<div>\n",
       "<style scoped>\n",
       "    .dataframe tbody tr th:only-of-type {\n",
       "        vertical-align: middle;\n",
       "    }\n",
       "\n",
       "    .dataframe tbody tr th {\n",
       "        vertical-align: top;\n",
       "    }\n",
       "\n",
       "    .dataframe thead th {\n",
       "        text-align: right;\n",
       "    }\n",
       "</style>\n",
       "<table border=\"1\" class=\"dataframe\">\n",
       "  <thead>\n",
       "    <tr style=\"text-align: right;\">\n",
       "      <th></th>\n",
       "      <th>mean_fit_time</th>\n",
       "      <th>std_fit_time</th>\n",
       "      <th>mean_score_time</th>\n",
       "      <th>std_score_time</th>\n",
       "      <th>param_C</th>\n",
       "      <th>param_solver</th>\n",
       "      <th>params</th>\n",
       "      <th>split0_test_score</th>\n",
       "      <th>split1_test_score</th>\n",
       "      <th>split2_test_score</th>\n",
       "      <th>mean_test_score</th>\n",
       "      <th>std_test_score</th>\n",
       "      <th>rank_test_score</th>\n",
       "    </tr>\n",
       "  </thead>\n",
       "  <tbody>\n",
       "    <tr>\n",
       "      <th>0</th>\n",
       "      <td>1.041838</td>\n",
       "      <td>0.019873</td>\n",
       "      <td>0.094577</td>\n",
       "      <td>0.003312</td>\n",
       "      <td>0.0</td>\n",
       "      <td>lbfgs</td>\n",
       "      <td>{'C': 1e-08, 'solver': 'lbfgs'}</td>\n",
       "      <td>0.298500</td>\n",
       "      <td>0.310357</td>\n",
       "      <td>0.314000</td>\n",
       "      <td>0.307619</td>\n",
       "      <td>0.006617</td>\n",
       "      <td>11</td>\n",
       "    </tr>\n",
       "    <tr>\n",
       "      <th>1</th>\n",
       "      <td>2.989465</td>\n",
       "      <td>0.141636</td>\n",
       "      <td>0.092026</td>\n",
       "      <td>0.004126</td>\n",
       "      <td>0.0</td>\n",
       "      <td>lbfgs</td>\n",
       "      <td>{'C': 1e-07, 'solver': 'lbfgs'}</td>\n",
       "      <td>0.624286</td>\n",
       "      <td>0.623571</td>\n",
       "      <td>0.629214</td>\n",
       "      <td>0.625690</td>\n",
       "      <td>0.002509</td>\n",
       "      <td>10</td>\n",
       "    </tr>\n",
       "    <tr>\n",
       "      <th>2</th>\n",
       "      <td>3.716943</td>\n",
       "      <td>0.168110</td>\n",
       "      <td>0.091442</td>\n",
       "      <td>0.008814</td>\n",
       "      <td>0.000001</td>\n",
       "      <td>lbfgs</td>\n",
       "      <td>{'C': 1e-06, 'solver': 'lbfgs'}</td>\n",
       "      <td>0.630714</td>\n",
       "      <td>0.630500</td>\n",
       "      <td>0.634786</td>\n",
       "      <td>0.632000</td>\n",
       "      <td>0.001972</td>\n",
       "      <td>9</td>\n",
       "    </tr>\n",
       "    <tr>\n",
       "      <th>3</th>\n",
       "      <td>6.267199</td>\n",
       "      <td>0.151488</td>\n",
       "      <td>0.084604</td>\n",
       "      <td>0.001023</td>\n",
       "      <td>0.00001</td>\n",
       "      <td>lbfgs</td>\n",
       "      <td>{'C': 1e-05, 'solver': 'lbfgs'}</td>\n",
       "      <td>0.668786</td>\n",
       "      <td>0.672000</td>\n",
       "      <td>0.672857</td>\n",
       "      <td>0.671214</td>\n",
       "      <td>0.001753</td>\n",
       "      <td>8</td>\n",
       "    </tr>\n",
       "    <tr>\n",
       "      <th>4</th>\n",
       "      <td>22.938821</td>\n",
       "      <td>0.741166</td>\n",
       "      <td>0.086775</td>\n",
       "      <td>0.002932</td>\n",
       "      <td>0.0001</td>\n",
       "      <td>lbfgs</td>\n",
       "      <td>{'C': 0.0001, 'solver': 'lbfgs'}</td>\n",
       "      <td>0.734714</td>\n",
       "      <td>0.735929</td>\n",
       "      <td>0.736071</td>\n",
       "      <td>0.735571</td>\n",
       "      <td>0.000609</td>\n",
       "      <td>7</td>\n",
       "    </tr>\n",
       "    <tr>\n",
       "      <th>5</th>\n",
       "      <td>48.880284</td>\n",
       "      <td>1.874149</td>\n",
       "      <td>0.116488</td>\n",
       "      <td>0.039526</td>\n",
       "      <td>0.001</td>\n",
       "      <td>lbfgs</td>\n",
       "      <td>{'C': 0.001, 'solver': 'lbfgs'}</td>\n",
       "      <td>0.801857</td>\n",
       "      <td>0.801714</td>\n",
       "      <td>0.806786</td>\n",
       "      <td>0.803452</td>\n",
       "      <td>0.002358</td>\n",
       "      <td>6</td>\n",
       "    </tr>\n",
       "    <tr>\n",
       "      <th>6</th>\n",
       "      <td>74.438304</td>\n",
       "      <td>3.498599</td>\n",
       "      <td>0.085380</td>\n",
       "      <td>0.001867</td>\n",
       "      <td>0.01</td>\n",
       "      <td>lbfgs</td>\n",
       "      <td>{'C': 0.01, 'solver': 'lbfgs'}</td>\n",
       "      <td>0.839786</td>\n",
       "      <td>0.839857</td>\n",
       "      <td>0.844929</td>\n",
       "      <td>0.841524</td>\n",
       "      <td>0.002408</td>\n",
       "      <td>3</td>\n",
       "    </tr>\n",
       "    <tr>\n",
       "      <th>7</th>\n",
       "      <td>130.175497</td>\n",
       "      <td>5.517545</td>\n",
       "      <td>0.086857</td>\n",
       "      <td>0.001241</td>\n",
       "      <td>0.1</td>\n",
       "      <td>lbfgs</td>\n",
       "      <td>{'C': 0.1, 'solver': 'lbfgs'}</td>\n",
       "      <td>0.852286</td>\n",
       "      <td>0.852500</td>\n",
       "      <td>0.854714</td>\n",
       "      <td>0.853167</td>\n",
       "      <td>0.001098</td>\n",
       "      <td>1</td>\n",
       "    </tr>\n",
       "    <tr>\n",
       "      <th>8</th>\n",
       "      <td>298.769001</td>\n",
       "      <td>5.353539</td>\n",
       "      <td>0.109774</td>\n",
       "      <td>0.026862</td>\n",
       "      <td>1.0</td>\n",
       "      <td>lbfgs</td>\n",
       "      <td>{'C': 1.0, 'solver': 'lbfgs'}</td>\n",
       "      <td>0.848286</td>\n",
       "      <td>0.846571</td>\n",
       "      <td>0.845357</td>\n",
       "      <td>0.846738</td>\n",
       "      <td>0.001201</td>\n",
       "      <td>2</td>\n",
       "    </tr>\n",
       "    <tr>\n",
       "      <th>9</th>\n",
       "      <td>761.893393</td>\n",
       "      <td>11.296143</td>\n",
       "      <td>0.087300</td>\n",
       "      <td>0.001371</td>\n",
       "      <td>10.0</td>\n",
       "      <td>lbfgs</td>\n",
       "      <td>{'C': 10.0, 'solver': 'lbfgs'}</td>\n",
       "      <td>0.835214</td>\n",
       "      <td>0.834214</td>\n",
       "      <td>0.830429</td>\n",
       "      <td>0.833286</td>\n",
       "      <td>0.002061</td>\n",
       "      <td>4</td>\n",
       "    </tr>\n",
       "    <tr>\n",
       "      <th>10</th>\n",
       "      <td>1662.076300</td>\n",
       "      <td>69.239967</td>\n",
       "      <td>0.078164</td>\n",
       "      <td>0.010030</td>\n",
       "      <td>100.0</td>\n",
       "      <td>lbfgs</td>\n",
       "      <td>{'C': 100.0, 'solver': 'lbfgs'}</td>\n",
       "      <td>0.823000</td>\n",
       "      <td>0.821071</td>\n",
       "      <td>0.819000</td>\n",
       "      <td>0.821024</td>\n",
       "      <td>0.001633</td>\n",
       "      <td>5</td>\n",
       "    </tr>\n",
       "  </tbody>\n",
       "</table>\n",
       "</div>"
      ],
      "text/plain": [
       "    mean_fit_time  std_fit_time  mean_score_time  std_score_time   param_C  \\\n",
       "0        1.041838      0.019873         0.094577        0.003312       0.0   \n",
       "1        2.989465      0.141636         0.092026        0.004126       0.0   \n",
       "2        3.716943      0.168110         0.091442        0.008814  0.000001   \n",
       "3        6.267199      0.151488         0.084604        0.001023   0.00001   \n",
       "4       22.938821      0.741166         0.086775        0.002932    0.0001   \n",
       "5       48.880284      1.874149         0.116488        0.039526     0.001   \n",
       "6       74.438304      3.498599         0.085380        0.001867      0.01   \n",
       "7      130.175497      5.517545         0.086857        0.001241       0.1   \n",
       "8      298.769001      5.353539         0.109774        0.026862       1.0   \n",
       "9      761.893393     11.296143         0.087300        0.001371      10.0   \n",
       "10    1662.076300     69.239967         0.078164        0.010030     100.0   \n",
       "\n",
       "   param_solver                            params  split0_test_score  \\\n",
       "0         lbfgs   {'C': 1e-08, 'solver': 'lbfgs'}           0.298500   \n",
       "1         lbfgs   {'C': 1e-07, 'solver': 'lbfgs'}           0.624286   \n",
       "2         lbfgs   {'C': 1e-06, 'solver': 'lbfgs'}           0.630714   \n",
       "3         lbfgs   {'C': 1e-05, 'solver': 'lbfgs'}           0.668786   \n",
       "4         lbfgs  {'C': 0.0001, 'solver': 'lbfgs'}           0.734714   \n",
       "5         lbfgs   {'C': 0.001, 'solver': 'lbfgs'}           0.801857   \n",
       "6         lbfgs    {'C': 0.01, 'solver': 'lbfgs'}           0.839786   \n",
       "7         lbfgs     {'C': 0.1, 'solver': 'lbfgs'}           0.852286   \n",
       "8         lbfgs     {'C': 1.0, 'solver': 'lbfgs'}           0.848286   \n",
       "9         lbfgs    {'C': 10.0, 'solver': 'lbfgs'}           0.835214   \n",
       "10        lbfgs   {'C': 100.0, 'solver': 'lbfgs'}           0.823000   \n",
       "\n",
       "    split1_test_score  split2_test_score  mean_test_score  std_test_score  \\\n",
       "0            0.310357           0.314000         0.307619        0.006617   \n",
       "1            0.623571           0.629214         0.625690        0.002509   \n",
       "2            0.630500           0.634786         0.632000        0.001972   \n",
       "3            0.672000           0.672857         0.671214        0.001753   \n",
       "4            0.735929           0.736071         0.735571        0.000609   \n",
       "5            0.801714           0.806786         0.803452        0.002358   \n",
       "6            0.839857           0.844929         0.841524        0.002408   \n",
       "7            0.852500           0.854714         0.853167        0.001098   \n",
       "8            0.846571           0.845357         0.846738        0.001201   \n",
       "9            0.834214           0.830429         0.833286        0.002061   \n",
       "10           0.821071           0.819000         0.821024        0.001633   \n",
       "\n",
       "    rank_test_score  \n",
       "0                11  \n",
       "1                10  \n",
       "2                 9  \n",
       "3                 8  \n",
       "4                 7  \n",
       "5                 6  \n",
       "6                 3  \n",
       "7                 1  \n",
       "8                 2  \n",
       "9                 4  \n",
       "10                5  "
      ]
     },
     "execution_count": 13,
     "metadata": {},
     "output_type": "execute_result"
    }
   ],
   "source": [
    "data = pd.DataFrame(results)\n",
    "data"
   ]
  },
  {
   "cell_type": "code",
   "execution_count": 14,
   "metadata": {
    "execution": {
     "iopub.execute_input": "2024-12-15T12:40:12.850321Z",
     "iopub.status.busy": "2024-12-15T12:40:12.849969Z",
     "iopub.status.idle": "2024-12-15T12:40:12.856977Z",
     "shell.execute_reply": "2024-12-15T12:40:12.855747Z",
     "shell.execute_reply.started": "2024-12-15T12:40:12.850290Z"
    }
   },
   "outputs": [
    {
     "data": {
      "text/plain": [
       "{'C': 0.1, 'solver': 'lbfgs'}"
      ]
     },
     "execution_count": 14,
     "metadata": {},
     "output_type": "execute_result"
    }
   ],
   "source": [
    "best_parameter"
   ]
  },
  {
   "cell_type": "code",
   "execution_count": 19,
   "metadata": {
    "execution": {
     "iopub.execute_input": "2024-12-15T12:49:53.630663Z",
     "iopub.status.busy": "2024-12-15T12:49:53.630311Z",
     "iopub.status.idle": "2024-12-15T12:49:53.639837Z",
     "shell.execute_reply": "2024-12-15T12:49:53.638789Z",
     "shell.execute_reply.started": "2024-12-15T12:49:53.630633Z"
    }
   },
   "outputs": [
    {
     "data": {
      "text/plain": [
       "(0     0.307619\n",
       " 1     0.625690\n",
       " 2     0.632000\n",
       " 3     0.671214\n",
       " 4     0.735571\n",
       " 5     0.803452\n",
       " 6     0.841524\n",
       " 7     0.853167\n",
       " 8     0.846738\n",
       " 9     0.833286\n",
       " 10    0.821024\n",
       " Name: mean_test_score, dtype: float64,\n",
       " 0     0.006617\n",
       " 1     0.002509\n",
       " 2     0.001972\n",
       " 3     0.001753\n",
       " 4     0.000609\n",
       " 5     0.002358\n",
       " 6     0.002408\n",
       " 7     0.001098\n",
       " 8     0.001201\n",
       " 9     0.002061\n",
       " 10    0.001633\n",
       " Name: std_test_score, dtype: float64)"
      ]
     },
     "execution_count": 19,
     "metadata": {},
     "output_type": "execute_result"
    }
   ],
   "source": [
    "mean_accuracy = data.iloc[:, -3]\n",
    "std_accuracy = data.iloc[:, -2]\n",
    "mean_accuracy, std_accuracy"
   ]
  },
  {
   "cell_type": "code",
   "execution_count": 25,
   "metadata": {
    "execution": {
     "iopub.execute_input": "2024-12-15T12:56:23.677081Z",
     "iopub.status.busy": "2024-12-15T12:56:23.676676Z",
     "iopub.status.idle": "2024-12-15T12:56:23.996101Z",
     "shell.execute_reply": "2024-12-15T12:56:23.994894Z",
     "shell.execute_reply.started": "2024-12-15T12:56:23.677048Z"
    }
   },
   "outputs": [
    {
     "data": {
      "image/png": "[encoded data removed]",
      "text/plain": [
       "<Figure size 640x480 with 1 Axes>"
      ]
     },
     "metadata": {},
     "output_type": "display_data"
    }
   ],
   "source": [
    "# sns.lineplot(x=np.logspace(-8, 2, 11), y=mean_accuracy)\n",
    "# plt.xscale('log')\n",
    "# plt.show()\n",
    "\n",
    "plt.xlabel(\"C\")\n",
    "plt.ylabel(\"Mean Accuracy\")\n",
    "plt.xscale('log')\n",
    "plt.title(\"Validation curve for sklearn lbfgs Logistic regression classifier\")\n",
    "plt.plot(np.logspace(-8, 2, 11), mean_accuracy)\n",
    "plt.legend(loc=\"best\")\n",
    "plt.show()"
   ]
  },
  {
   "cell_type": "code",
   "execution_count": 26,
   "metadata": {
    "execution": {
     "iopub.execute_input": "2024-12-15T12:57:02.840314Z",
     "iopub.status.busy": "2024-12-15T12:57:02.839923Z",
     "iopub.status.idle": "2024-12-15T12:57:03.094236Z",
     "shell.execute_reply": "2024-12-15T12:57:03.093214Z",
     "shell.execute_reply.started": "2024-12-15T12:57:02.840278Z"
    }
   },
   "outputs": [
    {
     "data": {
      "image/png": "[encoded data removed]",
      "text/plain": [
       "<Figure size 640x480 with 1 Axes>"
      ]
     },
     "metadata": {},
     "output_type": "display_data"
    }
   ],
   "source": [
    "plt.xlabel(\"C\")\n",
    "plt.ylabel(\"Std Accuracy\")\n",
    "plt.xscale('log')\n",
    "plt.title(\"Validation curve for sklearn lbfgs Logistic regression classifier\")\n",
    "plt.plot(np.logspace(-8, 2, 11), std_accuracy)\n",
    "plt.legend(loc=\"best\")\n",
    "plt.show()"
   ]
  },
  {
   "cell_type": "markdown",
   "metadata": {},
   "source": [
    "***Tìm C phù hợp với solver 'sag', tỷ lệ 6/4 để tiến hành hiệu chỉnh***"
   ]
  },
  {
   "cell_type": "code",
   "execution_count": 12,
   "metadata": {
    "execution": {
     "iopub.execute_input": "2024-12-15T18:18:49.491688Z",
     "iopub.status.busy": "2024-12-15T18:18:49.491198Z",
     "iopub.status.idle": "2024-12-15T18:18:50.119070Z",
     "shell.execute_reply": "2024-12-15T18:18:50.117444Z",
     "shell.execute_reply.started": "2024-12-15T18:18:49.491650Z"
    }
   },
   "outputs": [
    {
     "data": {
      "text/plain": [
       "((36000, 784), (24000, 784), (10000, 784))"
      ]
     },
     "execution_count": 12,
     "metadata": {},
     "output_type": "execute_result"
    }
   ],
   "source": [
    "# Với tỷ lệ train/validation : 6/4\n",
    "X_train3, X_val3, y_train3, y_val3, X_test3 = create_data(X=X, y=y, X_test=X_test, n_components=100, test_size=0.4)\n",
    "X_train3.shape, X_val3.shape, X_test3.shape"
   ]
  },
  {
   "cell_type": "code",
   "execution_count": 13,
   "metadata": {
    "execution": {
     "iopub.execute_input": "2024-12-15T18:18:57.777455Z",
     "iopub.status.busy": "2024-12-15T18:18:57.777012Z"
    }
   },
   "outputs": [
    {
     "name": "stderr",
     "output_type": "stream",
     "text": [
      "c:\\Users\\Administrator\\anaconda3\\Lib\\site-packages\\sklearn\\linear_model\\_logistic.py:1247: FutureWarning: 'multi_class' was deprecated in version 1.5 and will be removed in 1.7. From then on, it will always use 'multinomial'. Leave it to its default value to avoid this warning.\n",
      "  warnings.warn(\n"
     ]
    }
   ],
   "source": [
    "# Chọn C với solver 'sag' với tỷ lệ train/validation : 6/4\n",
    "model_logReg_sag = LogisticRegression(multi_class='multinomial', max_iter=10000, penalty='l2', n_jobs=-1)\n",
    "\n",
    "parameters_sag = {'solver' : ['sag'],\n",
    "         'C' : np.logspace(-8, 2, 11)}\n",
    "\n",
    "clf = GridSearchCV(model_logReg_sag, parameters_sag, cv=3, n_jobs=-1)\n",
    "clf.fit(X_train3, y_train3)\n",
    "results = clf.cv_results_\n",
    "best_parameter = clf.best_params_\n",
    "best_score = clf.best_score_"
   ]
  },
  {
   "cell_type": "code",
   "execution_count": 14,
   "metadata": {},
   "outputs": [
    {
     "data": {
      "text/html": [
       "<div>\n",
       "<style scoped>\n",
       "    .dataframe tbody tr th:only-of-type {\n",
       "        vertical-align: middle;\n",
       "    }\n",
       "\n",
       "    .dataframe tbody tr th {\n",
       "        vertical-align: top;\n",
       "    }\n",
       "\n",
       "    .dataframe thead th {\n",
       "        text-align: right;\n",
       "    }\n",
       "</style>\n",
       "<table border=\"1\" class=\"dataframe\">\n",
       "  <thead>\n",
       "    <tr style=\"text-align: right;\">\n",
       "      <th></th>\n",
       "      <th>mean_fit_time</th>\n",
       "      <th>std_fit_time</th>\n",
       "      <th>mean_score_time</th>\n",
       "      <th>std_score_time</th>\n",
       "      <th>param_C</th>\n",
       "      <th>param_solver</th>\n",
       "      <th>params</th>\n",
       "      <th>split0_test_score</th>\n",
       "      <th>split1_test_score</th>\n",
       "      <th>split2_test_score</th>\n",
       "      <th>mean_test_score</th>\n",
       "      <th>std_test_score</th>\n",
       "      <th>rank_test_score</th>\n",
       "    </tr>\n",
       "  </thead>\n",
       "  <tbody>\n",
       "    <tr>\n",
       "      <th>0</th>\n",
       "      <td>12.655341</td>\n",
       "      <td>0.265606</td>\n",
       "      <td>0.019415</td>\n",
       "      <td>0.001963</td>\n",
       "      <td>1.000000e-08</td>\n",
       "      <td>sag</td>\n",
       "      <td>{'C': 1e-08, 'solver': 'sag'}</td>\n",
       "      <td>0.617667</td>\n",
       "      <td>0.592083</td>\n",
       "      <td>0.600417</td>\n",
       "      <td>0.603389</td>\n",
       "      <td>0.010654</td>\n",
       "      <td>11</td>\n",
       "    </tr>\n",
       "    <tr>\n",
       "      <th>1</th>\n",
       "      <td>12.676105</td>\n",
       "      <td>0.867627</td>\n",
       "      <td>0.014317</td>\n",
       "      <td>0.001991</td>\n",
       "      <td>1.000000e-07</td>\n",
       "      <td>sag</td>\n",
       "      <td>{'C': 1e-07, 'solver': 'sag'}</td>\n",
       "      <td>0.630417</td>\n",
       "      <td>0.627250</td>\n",
       "      <td>0.631750</td>\n",
       "      <td>0.629806</td>\n",
       "      <td>0.001887</td>\n",
       "      <td>10</td>\n",
       "    </tr>\n",
       "    <tr>\n",
       "      <th>2</th>\n",
       "      <td>10.783689</td>\n",
       "      <td>0.246575</td>\n",
       "      <td>0.013881</td>\n",
       "      <td>0.003903</td>\n",
       "      <td>1.000000e-06</td>\n",
       "      <td>sag</td>\n",
       "      <td>{'C': 1e-06, 'solver': 'sag'}</td>\n",
       "      <td>0.637250</td>\n",
       "      <td>0.635167</td>\n",
       "      <td>0.633833</td>\n",
       "      <td>0.635417</td>\n",
       "      <td>0.001406</td>\n",
       "      <td>9</td>\n",
       "    </tr>\n",
       "    <tr>\n",
       "      <th>3</th>\n",
       "      <td>9.233824</td>\n",
       "      <td>0.166101</td>\n",
       "      <td>0.012763</td>\n",
       "      <td>0.002056</td>\n",
       "      <td>1.000000e-05</td>\n",
       "      <td>sag</td>\n",
       "      <td>{'C': 1e-05, 'solver': 'sag'}</td>\n",
       "      <td>0.670250</td>\n",
       "      <td>0.669500</td>\n",
       "      <td>0.671083</td>\n",
       "      <td>0.670278</td>\n",
       "      <td>0.000647</td>\n",
       "      <td>8</td>\n",
       "    </tr>\n",
       "    <tr>\n",
       "      <th>4</th>\n",
       "      <td>8.346640</td>\n",
       "      <td>0.372801</td>\n",
       "      <td>0.017247</td>\n",
       "      <td>0.002628</td>\n",
       "      <td>1.000000e-04</td>\n",
       "      <td>sag</td>\n",
       "      <td>{'C': 0.0001, 'solver': 'sag'}</td>\n",
       "      <td>0.729667</td>\n",
       "      <td>0.731500</td>\n",
       "      <td>0.728417</td>\n",
       "      <td>0.729861</td>\n",
       "      <td>0.001266</td>\n",
       "      <td>7</td>\n",
       "    </tr>\n",
       "    <tr>\n",
       "      <th>5</th>\n",
       "      <td>10.008283</td>\n",
       "      <td>0.525283</td>\n",
       "      <td>0.011350</td>\n",
       "      <td>0.001055</td>\n",
       "      <td>1.000000e-03</td>\n",
       "      <td>sag</td>\n",
       "      <td>{'C': 0.001, 'solver': 'sag'}</td>\n",
       "      <td>0.798667</td>\n",
       "      <td>0.798917</td>\n",
       "      <td>0.800167</td>\n",
       "      <td>0.799250</td>\n",
       "      <td>0.000656</td>\n",
       "      <td>6</td>\n",
       "    </tr>\n",
       "    <tr>\n",
       "      <th>6</th>\n",
       "      <td>17.514012</td>\n",
       "      <td>0.983750</td>\n",
       "      <td>0.012458</td>\n",
       "      <td>0.001494</td>\n",
       "      <td>1.000000e-02</td>\n",
       "      <td>sag</td>\n",
       "      <td>{'C': 0.01, 'solver': 'sag'}</td>\n",
       "      <td>0.844833</td>\n",
       "      <td>0.840583</td>\n",
       "      <td>0.839083</td>\n",
       "      <td>0.841500</td>\n",
       "      <td>0.002435</td>\n",
       "      <td>2</td>\n",
       "    </tr>\n",
       "    <tr>\n",
       "      <th>7</th>\n",
       "      <td>55.392417</td>\n",
       "      <td>2.204828</td>\n",
       "      <td>0.016239</td>\n",
       "      <td>0.004870</td>\n",
       "      <td>1.000000e-01</td>\n",
       "      <td>sag</td>\n",
       "      <td>{'C': 0.1, 'solver': 'sag'}</td>\n",
       "      <td>0.853667</td>\n",
       "      <td>0.850500</td>\n",
       "      <td>0.851250</td>\n",
       "      <td>0.851806</td>\n",
       "      <td>0.001351</td>\n",
       "      <td>1</td>\n",
       "    </tr>\n",
       "    <tr>\n",
       "      <th>8</th>\n",
       "      <td>5706.555942</td>\n",
       "      <td>1.592782</td>\n",
       "      <td>0.015158</td>\n",
       "      <td>0.001399</td>\n",
       "      <td>1.000000e+00</td>\n",
       "      <td>sag</td>\n",
       "      <td>{'C': 1.0, 'solver': 'sag'}</td>\n",
       "      <td>0.840833</td>\n",
       "      <td>0.843000</td>\n",
       "      <td>0.836750</td>\n",
       "      <td>0.840194</td>\n",
       "      <td>0.002591</td>\n",
       "      <td>3</td>\n",
       "    </tr>\n",
       "    <tr>\n",
       "      <th>9</th>\n",
       "      <td>6462.180127</td>\n",
       "      <td>155.106210</td>\n",
       "      <td>0.013664</td>\n",
       "      <td>0.001247</td>\n",
       "      <td>1.000000e+01</td>\n",
       "      <td>sag</td>\n",
       "      <td>{'C': 10.0, 'solver': 'sag'}</td>\n",
       "      <td>0.830250</td>\n",
       "      <td>0.833583</td>\n",
       "      <td>0.825583</td>\n",
       "      <td>0.829806</td>\n",
       "      <td>0.003281</td>\n",
       "      <td>4</td>\n",
       "    </tr>\n",
       "    <tr>\n",
       "      <th>10</th>\n",
       "      <td>1206.926614</td>\n",
       "      <td>150.122780</td>\n",
       "      <td>0.018876</td>\n",
       "      <td>0.003760</td>\n",
       "      <td>1.000000e+02</td>\n",
       "      <td>sag</td>\n",
       "      <td>{'C': 100.0, 'solver': 'sag'}</td>\n",
       "      <td>0.828250</td>\n",
       "      <td>0.831750</td>\n",
       "      <td>0.824250</td>\n",
       "      <td>0.828083</td>\n",
       "      <td>0.003064</td>\n",
       "      <td>5</td>\n",
       "    </tr>\n",
       "  </tbody>\n",
       "</table>\n",
       "</div>"
      ],
      "text/plain": [
       "    mean_fit_time  std_fit_time  mean_score_time  std_score_time  \\\n",
       "0       12.655341      0.265606         0.019415        0.001963   \n",
       "1       12.676105      0.867627         0.014317        0.001991   \n",
       "2       10.783689      0.246575         0.013881        0.003903   \n",
       "3        9.233824      0.166101         0.012763        0.002056   \n",
       "4        8.346640      0.372801         0.017247        0.002628   \n",
       "5       10.008283      0.525283         0.011350        0.001055   \n",
       "6       17.514012      0.983750         0.012458        0.001494   \n",
       "7       55.392417      2.204828         0.016239        0.004870   \n",
       "8     5706.555942      1.592782         0.015158        0.001399   \n",
       "9     6462.180127    155.106210         0.013664        0.001247   \n",
       "10    1206.926614    150.122780         0.018876        0.003760   \n",
       "\n",
       "         param_C param_solver                          params  \\\n",
       "0   1.000000e-08          sag   {'C': 1e-08, 'solver': 'sag'}   \n",
       "1   1.000000e-07          sag   {'C': 1e-07, 'solver': 'sag'}   \n",
       "2   1.000000e-06          sag   {'C': 1e-06, 'solver': 'sag'}   \n",
       "3   1.000000e-05          sag   {'C': 1e-05, 'solver': 'sag'}   \n",
       "4   1.000000e-04          sag  {'C': 0.0001, 'solver': 'sag'}   \n",
       "5   1.000000e-03          sag   {'C': 0.001, 'solver': 'sag'}   \n",
       "6   1.000000e-02          sag    {'C': 0.01, 'solver': 'sag'}   \n",
       "7   1.000000e-01          sag     {'C': 0.1, 'solver': 'sag'}   \n",
       "8   1.000000e+00          sag     {'C': 1.0, 'solver': 'sag'}   \n",
       "9   1.000000e+01          sag    {'C': 10.0, 'solver': 'sag'}   \n",
       "10  1.000000e+02          sag   {'C': 100.0, 'solver': 'sag'}   \n",
       "\n",
       "    split0_test_score  split1_test_score  split2_test_score  mean_test_score  \\\n",
       "0            0.617667           0.592083           0.600417         0.603389   \n",
       "1            0.630417           0.627250           0.631750         0.629806   \n",
       "2            0.637250           0.635167           0.633833         0.635417   \n",
       "3            0.670250           0.669500           0.671083         0.670278   \n",
       "4            0.729667           0.731500           0.728417         0.729861   \n",
       "5            0.798667           0.798917           0.800167         0.799250   \n",
       "6            0.844833           0.840583           0.839083         0.841500   \n",
       "7            0.853667           0.850500           0.851250         0.851806   \n",
       "8            0.840833           0.843000           0.836750         0.840194   \n",
       "9            0.830250           0.833583           0.825583         0.829806   \n",
       "10           0.828250           0.831750           0.824250         0.828083   \n",
       "\n",
       "    std_test_score  rank_test_score  \n",
       "0         0.010654               11  \n",
       "1         0.001887               10  \n",
       "2         0.001406                9  \n",
       "3         0.000647                8  \n",
       "4         0.001266                7  \n",
       "5         0.000656                6  \n",
       "6         0.002435                2  \n",
       "7         0.001351                1  \n",
       "8         0.002591                3  \n",
       "9         0.003281                4  \n",
       "10        0.003064                5  "
      ]
     },
     "execution_count": 14,
     "metadata": {},
     "output_type": "execute_result"
    }
   ],
   "source": [
    "data = pd.DataFrame(results)\n",
    "data"
   ]
  },
  {
   "cell_type": "code",
   "execution_count": 15,
   "metadata": {},
   "outputs": [
    {
     "data": {
      "text/plain": [
       "{'C': 0.1, 'solver': 'sag'}"
      ]
     },
     "execution_count": 15,
     "metadata": {},
     "output_type": "execute_result"
    }
   ],
   "source": [
    "best_parameter"
   ]
  },
  {
   "cell_type": "code",
   "execution_count": 16,
   "metadata": {},
   "outputs": [
    {
     "data": {
      "text/plain": [
       "(0     0.603389\n",
       " 1     0.629806\n",
       " 2     0.635417\n",
       " 3     0.670278\n",
       " 4     0.729861\n",
       " 5     0.799250\n",
       " 6     0.841500\n",
       " 7     0.851806\n",
       " 8     0.840194\n",
       " 9     0.829806\n",
       " 10    0.828083\n",
       " Name: mean_test_score, dtype: float64,\n",
       " 0     0.010654\n",
       " 1     0.001887\n",
       " 2     0.001406\n",
       " 3     0.000647\n",
       " 4     0.001266\n",
       " 5     0.000656\n",
       " 6     0.002435\n",
       " 7     0.001351\n",
       " 8     0.002591\n",
       " 9     0.003281\n",
       " 10    0.003064\n",
       " Name: std_test_score, dtype: float64)"
      ]
     },
     "execution_count": 16,
     "metadata": {},
     "output_type": "execute_result"
    }
   ],
   "source": [
    "mean_accuracy = data.iloc[:, -3]\n",
    "std_accuracy = data.iloc[:, -2]\n",
    "mean_accuracy, std_accuracy"
   ]
  },
  {
   "cell_type": "code",
   "execution_count": 17,
   "metadata": {},
   "outputs": [
    {
     "name": "stderr",
     "output_type": "stream",
     "text": [
      "C:\\Users\\Administrator\\AppData\\Local\\Temp\\ipykernel_3732\\1596273200.py:6: UserWarning: No artists with labels found to put in legend.  Note that artists whose label start with an underscore are ignored when legend() is called with no argument.\n",
      "  plt.legend(loc=\"best\")\n"
     ]
    },
    {
     "data": {
      "image/png": "[encoded data removed]",
      "text/plain": [
       "<Figure size 640x480 with 1 Axes>"
      ]
     },
     "metadata": {},
     "output_type": "display_data"
    }
   ],
   "source": [
    "plt.xlabel(\"C\")\n",
    "plt.ylabel(\"Mean Accuracy\")\n",
    "plt.xscale('log')\n",
    "plt.title(\"Validation curve for sklearn sag Logistic regression classifier\")\n",
    "plt.plot(np.logspace(-8, 2, 11), mean_accuracy)\n",
    "plt.legend(loc=\"best\")\n",
    "plt.savefig('./mean_acc_sag')\n",
    "plt.show()"
   ]
  },
  {
   "cell_type": "code",
   "execution_count": 18,
   "metadata": {},
   "outputs": [
    {
     "name": "stderr",
     "output_type": "stream",
     "text": [
      "C:\\Users\\Administrator\\AppData\\Local\\Temp\\ipykernel_3732\\694957301.py:6: UserWarning: No artists with labels found to put in legend.  Note that artists whose label start with an underscore are ignored when legend() is called with no argument.\n",
      "  plt.legend(loc=\"best\")\n"
     ]
    },
    {
     "data": {
      "image/png": "[encoded data removed]",
      "text/plain": [
       "<Figure size 640x480 with 1 Axes>"
      ]
     },
     "metadata": {},
     "output_type": "display_data"
    }
   ],
   "source": [
    "plt.xlabel(\"C\")\n",
    "plt.ylabel(\"Std Accuracy\")\n",
    "plt.xscale('log')\n",
    "plt.title(\"Validation curve for sklearn sag Logistic regression classifier\")\n",
    "plt.plot(np.logspace(-8, 2, 11), std_accuracy)\n",
    "plt.legend(loc=\"best\")\n",
    "plt.savefig('./std_acc_sag')\n",
    "plt.show()"
   ]
  },
  {
   "cell_type": "markdown",
   "metadata": {},
   "source": [
    "***Tìm C phù hợp với solver 'saga', tỷ lệ 6/4 để tiến hành hiệu chỉnh***"
   ]
  },
  {
   "cell_type": "code",
   "execution_count": 28,
   "metadata": {},
   "outputs": [
    {
     "data": {
      "text/plain": [
       "((36000, 784), (24000, 784), (10000, 784))"
      ]
     },
     "execution_count": 28,
     "metadata": {},
     "output_type": "execute_result"
    }
   ],
   "source": [
    "# Với tỷ lệ train/validation : 6/4\n",
    "X_train3, X_val3, y_train3, y_val3, X_test3 = create_data(X=X, y=y, X_test=X_test, n_components=100, test_size=0.4)\n",
    "X_train3.shape, X_val3.shape, X_test3.shape"
   ]
  },
  {
   "cell_type": "code",
   "execution_count": 29,
   "metadata": {},
   "outputs": [
    {
     "name": "stderr",
     "output_type": "stream",
     "text": [
      "c:\\Users\\Administrator\\anaconda3\\Lib\\site-packages\\sklearn\\linear_model\\_logistic.py:1247: FutureWarning: 'multi_class' was deprecated in version 1.5 and will be removed in 1.7. From then on, it will always use 'multinomial'. Leave it to its default value to avoid this warning.\n",
      "  warnings.warn(\n"
     ]
    }
   ],
   "source": [
    "# Chọn C với solver 'saga' với tỷ lệ train/validation : 6/4\n",
    "model_logReg_saga = LogisticRegression(multi_class='multinomial', max_iter=10000, penalty='l2', n_jobs=-1)\n",
    "\n",
    "parameters_saga = {'solver' : ['saga'],\n",
    "         'C' : np.logspace(-8, 2, 11)}\n",
    "\n",
    "clf1 = GridSearchCV(model_logReg_saga, parameters_saga, cv=3, n_jobs=-1)\n",
    "clf1.fit(X_train3, y_train3)\n",
    "results1 = clf1.cv_results_\n",
    "best_parameter1 = clf1.best_params_\n",
    "best_score1 = clf1.best_score_"
   ]
  },
  {
   "cell_type": "code",
   "execution_count": 33,
   "metadata": {},
   "outputs": [
    {
     "data": {
      "text/html": [
       "<div>\n",
       "<style scoped>\n",
       "    .dataframe tbody tr th:only-of-type {\n",
       "        vertical-align: middle;\n",
       "    }\n",
       "\n",
       "    .dataframe tbody tr th {\n",
       "        vertical-align: top;\n",
       "    }\n",
       "\n",
       "    .dataframe thead th {\n",
       "        text-align: right;\n",
       "    }\n",
       "</style>\n",
       "<table border=\"1\" class=\"dataframe\">\n",
       "  <thead>\n",
       "    <tr style=\"text-align: right;\">\n",
       "      <th></th>\n",
       "      <th>mean_fit_time</th>\n",
       "      <th>std_fit_time</th>\n",
       "      <th>mean_score_time</th>\n",
       "      <th>std_score_time</th>\n",
       "      <th>param_C</th>\n",
       "      <th>param_solver</th>\n",
       "      <th>params</th>\n",
       "      <th>split0_test_score</th>\n",
       "      <th>split1_test_score</th>\n",
       "      <th>split2_test_score</th>\n",
       "      <th>mean_test_score</th>\n",
       "      <th>std_test_score</th>\n",
       "      <th>rank_test_score</th>\n",
       "    </tr>\n",
       "  </thead>\n",
       "  <tbody>\n",
       "    <tr>\n",
       "      <th>0</th>\n",
       "      <td>27.668003</td>\n",
       "      <td>2.833696</td>\n",
       "      <td>0.016681</td>\n",
       "      <td>0.000956</td>\n",
       "      <td>1.000000e-08</td>\n",
       "      <td>saga</td>\n",
       "      <td>{'C': 1e-08, 'solver': 'saga'}</td>\n",
       "      <td>0.627417</td>\n",
       "      <td>0.477667</td>\n",
       "      <td>0.614167</td>\n",
       "      <td>0.573083</td>\n",
       "      <td>0.067686</td>\n",
       "      <td>11</td>\n",
       "    </tr>\n",
       "    <tr>\n",
       "      <th>1</th>\n",
       "      <td>19.118473</td>\n",
       "      <td>1.242008</td>\n",
       "      <td>0.018113</td>\n",
       "      <td>0.002112</td>\n",
       "      <td>1.000000e-07</td>\n",
       "      <td>saga</td>\n",
       "      <td>{'C': 1e-07, 'solver': 'saga'}</td>\n",
       "      <td>0.631833</td>\n",
       "      <td>0.629250</td>\n",
       "      <td>0.630250</td>\n",
       "      <td>0.630444</td>\n",
       "      <td>0.001064</td>\n",
       "      <td>10</td>\n",
       "    </tr>\n",
       "    <tr>\n",
       "      <th>2</th>\n",
       "      <td>18.129711</td>\n",
       "      <td>1.177372</td>\n",
       "      <td>0.015758</td>\n",
       "      <td>0.002051</td>\n",
       "      <td>1.000000e-06</td>\n",
       "      <td>saga</td>\n",
       "      <td>{'C': 1e-06, 'solver': 'saga'}</td>\n",
       "      <td>0.636833</td>\n",
       "      <td>0.634250</td>\n",
       "      <td>0.633833</td>\n",
       "      <td>0.634972</td>\n",
       "      <td>0.001327</td>\n",
       "      <td>9</td>\n",
       "    </tr>\n",
       "    <tr>\n",
       "      <th>3</th>\n",
       "      <td>19.164383</td>\n",
       "      <td>0.599146</td>\n",
       "      <td>0.018391</td>\n",
       "      <td>0.006197</td>\n",
       "      <td>1.000000e-05</td>\n",
       "      <td>saga</td>\n",
       "      <td>{'C': 1e-05, 'solver': 'saga'}</td>\n",
       "      <td>0.670250</td>\n",
       "      <td>0.669500</td>\n",
       "      <td>0.670833</td>\n",
       "      <td>0.670194</td>\n",
       "      <td>0.000546</td>\n",
       "      <td>8</td>\n",
       "    </tr>\n",
       "    <tr>\n",
       "      <th>4</th>\n",
       "      <td>19.900883</td>\n",
       "      <td>0.411811</td>\n",
       "      <td>0.014501</td>\n",
       "      <td>0.001079</td>\n",
       "      <td>1.000000e-04</td>\n",
       "      <td>saga</td>\n",
       "      <td>{'C': 0.0001, 'solver': 'saga'}</td>\n",
       "      <td>0.729583</td>\n",
       "      <td>0.731417</td>\n",
       "      <td>0.728417</td>\n",
       "      <td>0.729806</td>\n",
       "      <td>0.001235</td>\n",
       "      <td>7</td>\n",
       "    </tr>\n",
       "    <tr>\n",
       "      <th>5</th>\n",
       "      <td>35.176323</td>\n",
       "      <td>1.694134</td>\n",
       "      <td>0.012835</td>\n",
       "      <td>0.000849</td>\n",
       "      <td>1.000000e-03</td>\n",
       "      <td>saga</td>\n",
       "      <td>{'C': 0.001, 'solver': 'saga'}</td>\n",
       "      <td>0.798667</td>\n",
       "      <td>0.798917</td>\n",
       "      <td>0.800167</td>\n",
       "      <td>0.799250</td>\n",
       "      <td>0.000656</td>\n",
       "      <td>6</td>\n",
       "    </tr>\n",
       "    <tr>\n",
       "      <th>6</th>\n",
       "      <td>72.313938</td>\n",
       "      <td>3.787405</td>\n",
       "      <td>0.014172</td>\n",
       "      <td>0.001616</td>\n",
       "      <td>1.000000e-02</td>\n",
       "      <td>saga</td>\n",
       "      <td>{'C': 0.01, 'solver': 'saga'}</td>\n",
       "      <td>0.844833</td>\n",
       "      <td>0.840750</td>\n",
       "      <td>0.839083</td>\n",
       "      <td>0.841556</td>\n",
       "      <td>0.002416</td>\n",
       "      <td>2</td>\n",
       "    </tr>\n",
       "    <tr>\n",
       "      <th>7</th>\n",
       "      <td>159.187643</td>\n",
       "      <td>4.540849</td>\n",
       "      <td>0.015944</td>\n",
       "      <td>0.000598</td>\n",
       "      <td>1.000000e-01</td>\n",
       "      <td>saga</td>\n",
       "      <td>{'C': 0.1, 'solver': 'saga'}</td>\n",
       "      <td>0.853833</td>\n",
       "      <td>0.850333</td>\n",
       "      <td>0.851250</td>\n",
       "      <td>0.851806</td>\n",
       "      <td>0.001482</td>\n",
       "      <td>1</td>\n",
       "    </tr>\n",
       "    <tr>\n",
       "      <th>8</th>\n",
       "      <td>8308.571652</td>\n",
       "      <td>6.627086</td>\n",
       "      <td>0.029428</td>\n",
       "      <td>0.000564</td>\n",
       "      <td>1.000000e+00</td>\n",
       "      <td>saga</td>\n",
       "      <td>{'C': 1.0, 'solver': 'saga'}</td>\n",
       "      <td>0.842250</td>\n",
       "      <td>0.843083</td>\n",
       "      <td>0.838333</td>\n",
       "      <td>0.841222</td>\n",
       "      <td>0.002071</td>\n",
       "      <td>3</td>\n",
       "    </tr>\n",
       "    <tr>\n",
       "      <th>9</th>\n",
       "      <td>1712.529684</td>\n",
       "      <td>149.882938</td>\n",
       "      <td>0.019472</td>\n",
       "      <td>0.001952</td>\n",
       "      <td>1.000000e+01</td>\n",
       "      <td>saga</td>\n",
       "      <td>{'C': 10.0, 'solver': 'saga'}</td>\n",
       "      <td>0.832833</td>\n",
       "      <td>0.835083</td>\n",
       "      <td>0.827250</td>\n",
       "      <td>0.831722</td>\n",
       "      <td>0.003293</td>\n",
       "      <td>4</td>\n",
       "    </tr>\n",
       "    <tr>\n",
       "      <th>10</th>\n",
       "      <td>1582.708934</td>\n",
       "      <td>172.118872</td>\n",
       "      <td>0.016174</td>\n",
       "      <td>0.003155</td>\n",
       "      <td>1.000000e+02</td>\n",
       "      <td>saga</td>\n",
       "      <td>{'C': 100.0, 'solver': 'saga'}</td>\n",
       "      <td>0.832583</td>\n",
       "      <td>0.835083</td>\n",
       "      <td>0.827333</td>\n",
       "      <td>0.831667</td>\n",
       "      <td>0.003230</td>\n",
       "      <td>5</td>\n",
       "    </tr>\n",
       "  </tbody>\n",
       "</table>\n",
       "</div>"
      ],
      "text/plain": [
       "    mean_fit_time  std_fit_time  mean_score_time  std_score_time  \\\n",
       "0       27.668003      2.833696         0.016681        0.000956   \n",
       "1       19.118473      1.242008         0.018113        0.002112   \n",
       "2       18.129711      1.177372         0.015758        0.002051   \n",
       "3       19.164383      0.599146         0.018391        0.006197   \n",
       "4       19.900883      0.411811         0.014501        0.001079   \n",
       "5       35.176323      1.694134         0.012835        0.000849   \n",
       "6       72.313938      3.787405         0.014172        0.001616   \n",
       "7      159.187643      4.540849         0.015944        0.000598   \n",
       "8     8308.571652      6.627086         0.029428        0.000564   \n",
       "9     1712.529684    149.882938         0.019472        0.001952   \n",
       "10    1582.708934    172.118872         0.016174        0.003155   \n",
       "\n",
       "         param_C param_solver                           params  \\\n",
       "0   1.000000e-08         saga   {'C': 1e-08, 'solver': 'saga'}   \n",
       "1   1.000000e-07         saga   {'C': 1e-07, 'solver': 'saga'}   \n",
       "2   1.000000e-06         saga   {'C': 1e-06, 'solver': 'saga'}   \n",
       "3   1.000000e-05         saga   {'C': 1e-05, 'solver': 'saga'}   \n",
       "4   1.000000e-04         saga  {'C': 0.0001, 'solver': 'saga'}   \n",
       "5   1.000000e-03         saga   {'C': 0.001, 'solver': 'saga'}   \n",
       "6   1.000000e-02         saga    {'C': 0.01, 'solver': 'saga'}   \n",
       "7   1.000000e-01         saga     {'C': 0.1, 'solver': 'saga'}   \n",
       "8   1.000000e+00         saga     {'C': 1.0, 'solver': 'saga'}   \n",
       "9   1.000000e+01         saga    {'C': 10.0, 'solver': 'saga'}   \n",
       "10  1.000000e+02         saga   {'C': 100.0, 'solver': 'saga'}   \n",
       "\n",
       "    split0_test_score  split1_test_score  split2_test_score  mean_test_score  \\\n",
       "0            0.627417           0.477667           0.614167         0.573083   \n",
       "1            0.631833           0.629250           0.630250         0.630444   \n",
       "2            0.636833           0.634250           0.633833         0.634972   \n",
       "3            0.670250           0.669500           0.670833         0.670194   \n",
       "4            0.729583           0.731417           0.728417         0.729806   \n",
       "5            0.798667           0.798917           0.800167         0.799250   \n",
       "6            0.844833           0.840750           0.839083         0.841556   \n",
       "7            0.853833           0.850333           0.851250         0.851806   \n",
       "8            0.842250           0.843083           0.838333         0.841222   \n",
       "9            0.832833           0.835083           0.827250         0.831722   \n",
       "10           0.832583           0.835083           0.827333         0.831667   \n",
       "\n",
       "    std_test_score  rank_test_score  \n",
       "0         0.067686               11  \n",
       "1         0.001064               10  \n",
       "2         0.001327                9  \n",
       "3         0.000546                8  \n",
       "4         0.001235                7  \n",
       "5         0.000656                6  \n",
       "6         0.002416                2  \n",
       "7         0.001482                1  \n",
       "8         0.002071                3  \n",
       "9         0.003293                4  \n",
       "10        0.003230                5  "
      ]
     },
     "execution_count": 33,
     "metadata": {},
     "output_type": "execute_result"
    }
   ],
   "source": [
    "data = pd.DataFrame(results1)\n",
    "data"
   ]
  },
  {
   "cell_type": "code",
   "execution_count": 34,
   "metadata": {},
   "outputs": [
    {
     "data": {
      "text/plain": [
       "{'C': 0.1, 'solver': 'saga'}"
      ]
     },
     "execution_count": 34,
     "metadata": {},
     "output_type": "execute_result"
    }
   ],
   "source": [
    "best_parameter1"
   ]
  },
  {
   "cell_type": "code",
   "execution_count": 35,
   "metadata": {},
   "outputs": [
    {
     "data": {
      "text/plain": [
       "0.8518055555555555"
      ]
     },
     "execution_count": 35,
     "metadata": {},
     "output_type": "execute_result"
    }
   ],
   "source": [
    "best_score1"
   ]
  },
  {
   "cell_type": "code",
   "execution_count": 40,
   "metadata": {},
   "outputs": [
    {
     "data": {
      "text/plain": [
       "(0     0.573083\n",
       " 1     0.630444\n",
       " 2     0.634972\n",
       " 3     0.670194\n",
       " 4     0.729806\n",
       " 5     0.799250\n",
       " 6     0.841556\n",
       " 7     0.851806\n",
       " 8     0.841222\n",
       " 9     0.831722\n",
       " 10    0.831667\n",
       " Name: mean_test_score, dtype: float64,\n",
       " 0     0.067686\n",
       " 1     0.001064\n",
       " 2     0.001327\n",
       " 3     0.000546\n",
       " 4     0.001235\n",
       " 5     0.000656\n",
       " 6     0.002416\n",
       " 7     0.001482\n",
       " 8     0.002071\n",
       " 9     0.003293\n",
       " 10    0.003230\n",
       " Name: std_test_score, dtype: float64)"
      ]
     },
     "execution_count": 40,
     "metadata": {},
     "output_type": "execute_result"
    }
   ],
   "source": [
    "mean_accuracy = data.iloc[:, -3]\n",
    "std_accuracy = data.iloc[:, -2]\n",
    "mean_accuracy, std_accuracy"
   ]
  },
  {
   "cell_type": "code",
   "execution_count": 41,
   "metadata": {},
   "outputs": [
    {
     "name": "stderr",
     "output_type": "stream",
     "text": [
      "C:\\Users\\Administrator\\AppData\\Local\\Temp\\ipykernel_9816\\2958206762.py:6: UserWarning: No artists with labels found to put in legend.  Note that artists whose label start with an underscore are ignored when legend() is called with no argument.\n",
      "  plt.legend(loc=\"best\")\n"
     ]
    },
    {
     "data": {
      "image/png": "[encoded data removed]",
      "text/plain": [
       "<Figure size 640x480 with 1 Axes>"
      ]
     },
     "metadata": {},
     "output_type": "display_data"
    }
   ],
   "source": [
    "plt.xlabel(\"C\")\n",
    "plt.ylabel(\"Mean Accuracy\")\n",
    "plt.xscale('log')\n",
    "plt.title(\"Validation curve for sklearn saga Logistic regression classifier\")\n",
    "plt.plot(np.logspace(-8, 2, 11), mean_accuracy)\n",
    "plt.legend(loc=\"best\")\n",
    "plt.savefig('./mean_acc_saga')\n",
    "plt.show()"
   ]
  },
  {
   "cell_type": "code",
   "execution_count": 42,
   "metadata": {},
   "outputs": [
    {
     "name": "stderr",
     "output_type": "stream",
     "text": [
      "C:\\Users\\Administrator\\AppData\\Local\\Temp\\ipykernel_9816\\4202196875.py:6: UserWarning: No artists with labels found to put in legend.  Note that artists whose label start with an underscore are ignored when legend() is called with no argument.\n",
      "  plt.legend(loc=\"best\")\n"
     ]
    },
    {
     "data": {
      "image/png": "[encoded data removed]",
      "text/plain": [
       "<Figure size 640x480 with 1 Axes>"
      ]
     },
     "metadata": {},
     "output_type": "display_data"
    }
   ],
   "source": [
    "plt.xlabel(\"C\")\n",
    "plt.ylabel(\"Std Accuracy\")\n",
    "plt.xscale('log')\n",
    "plt.title(\"Validation curve for sklearn saga Logistic regression classifier\")\n",
    "plt.plot(np.logspace(-8, 2, 11), std_accuracy)\n",
    "plt.legend(loc=\"best\")\n",
    "plt.savefig('./std_acc_saga')\n",
    "plt.show()"
   ]
  }
 ],
 "metadata": {
  "kaggle": {
   "accelerator": "none",
   "dataSources": [
    {
     "datasetId": 2243,
     "sourceId": 9243,
     "sourceType": "datasetVersion"
    }
   ],
   "dockerImageVersionId": 30804,
   "isGpuEnabled": false,
   "isInternetEnabled": false,
   "language": "python",
   "sourceType": "notebook"
  },
  "kernelspec": {
   "display_name": "base",
   "language": "python",
   "name": "python3"
  },
  "language_info": {
   "codemirror_mode": {
    "name": "ipython",
    "version": 3
   },
   "file_extension": ".py",
   "mimetype": "text/x-python",
   "name": "python",
   "nbconvert_exporter": "python",
   "pygments_lexer": "ipython3",
   "version": "3.12.7"
  }
 },
 "nbformat": 4,
 "nbformat_minor": 4
}
